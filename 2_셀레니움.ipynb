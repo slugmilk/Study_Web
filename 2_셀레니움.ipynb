{
  "cells": [
    {
      "cell_type": "markdown",
      "metadata": {
        "id": "view-in-github",
        "colab_type": "text"
      },
      "source": [
        "<a href=\"https://colab.research.google.com/github/slugmilk/Study_Web/blob/main/2_%EC%85%80%EB%A0%88%EB%8B%88%EC%9B%80.ipynb\" target=\"_parent\"><img src=\"https://colab.research.google.com/assets/colab-badge.svg\" alt=\"Open In Colab\"/></a>"
      ]
    },
    {
      "cell_type": "markdown",
      "source": [
        "# **주피터 노트북**\n",
        "* 실행방법: 명령프롬프트>쥬피터노트북 설치 위치 복붙>jupyter notebook 엔터\n",
        "* esc + a: 위로 셀 추가\n",
        "* esc + b: 아래로 셀 추가\n",
        "* esc + m: 마크다운셀로 변경\n",
        "* esc + y: 코드셀로 변경\n",
        "* delete + dd : 셀 제거\n",
        "* 실행은 코랩과 동일\n"
      ],
      "metadata": {
        "id": "GdPh0g0l3K_R"
      },
      "id": "GdPh0g0l3K_R"
    },
    {
      "cell_type": "markdown",
      "id": "52e0f775-f0bf-4037-84d5-4a7a96c1ba75",
      "metadata": {
        "id": "52e0f775-f0bf-4037-84d5-4a7a96c1ba75"
      },
      "source": [
        "# **1. 셀레니움**\n",
        "* 셀레니움은 브라우저를 컨트롤 할 수 있도록 지원하는 라이브러리"
      ]
    },
    {
      "cell_type": "code",
      "execution_count": null,
      "id": "f1714560-bee8-493c-9314-2d933ecc15ee",
      "metadata": {
        "id": "f1714560-bee8-493c-9314-2d933ecc15ee",
        "outputId": "3d2264a5-5a53-4439-c1b8-d3d683c1bdd0",
        "colab": {
          "base_uri": "https://localhost:8080/"
        }
      },
      "outputs": [
        {
          "output_type": "stream",
          "name": "stdout",
          "text": [
            "Collecting selenium\n",
            "  Downloading selenium-4.21.0-py3-none-any.whl (9.5 MB)\n",
            "\u001b[2K     \u001b[90m━━━━━━━━━━━━━━━━━━━━━━━━━━━━━━━━━━━━━━━━\u001b[0m \u001b[32m9.5/9.5 MB\u001b[0m \u001b[31m35.5 MB/s\u001b[0m eta \u001b[36m0:00:00\u001b[0m\n",
            "\u001b[?25hRequirement already satisfied: urllib3[socks]<3,>=1.26 in /usr/local/lib/python3.10/dist-packages (from selenium) (2.0.7)\n",
            "Collecting trio~=0.17 (from selenium)\n",
            "  Downloading trio-0.25.1-py3-none-any.whl (467 kB)\n",
            "\u001b[2K     \u001b[90m━━━━━━━━━━━━━━━━━━━━━━━━━━━━━━━━━━━━━━━━\u001b[0m \u001b[32m467.7/467.7 kB\u001b[0m \u001b[31m31.1 MB/s\u001b[0m eta \u001b[36m0:00:00\u001b[0m\n",
            "\u001b[?25hCollecting trio-websocket~=0.9 (from selenium)\n",
            "  Downloading trio_websocket-0.11.1-py3-none-any.whl (17 kB)\n",
            "Requirement already satisfied: certifi>=2021.10.8 in /usr/local/lib/python3.10/dist-packages (from selenium) (2024.2.2)\n",
            "Requirement already satisfied: typing_extensions>=4.9.0 in /usr/local/lib/python3.10/dist-packages (from selenium) (4.11.0)\n",
            "Requirement already satisfied: attrs>=23.2.0 in /usr/local/lib/python3.10/dist-packages (from trio~=0.17->selenium) (23.2.0)\n",
            "Requirement already satisfied: sortedcontainers in /usr/local/lib/python3.10/dist-packages (from trio~=0.17->selenium) (2.4.0)\n",
            "Requirement already satisfied: idna in /usr/local/lib/python3.10/dist-packages (from trio~=0.17->selenium) (3.7)\n",
            "Collecting outcome (from trio~=0.17->selenium)\n",
            "  Downloading outcome-1.3.0.post0-py2.py3-none-any.whl (10 kB)\n",
            "Requirement already satisfied: sniffio>=1.3.0 in /usr/local/lib/python3.10/dist-packages (from trio~=0.17->selenium) (1.3.1)\n",
            "Requirement already satisfied: exceptiongroup in /usr/local/lib/python3.10/dist-packages (from trio~=0.17->selenium) (1.2.1)\n",
            "Collecting wsproto>=0.14 (from trio-websocket~=0.9->selenium)\n",
            "  Downloading wsproto-1.2.0-py3-none-any.whl (24 kB)\n",
            "Requirement already satisfied: pysocks!=1.5.7,<2.0,>=1.5.6 in /usr/local/lib/python3.10/dist-packages (from urllib3[socks]<3,>=1.26->selenium) (1.7.1)\n",
            "Collecting h11<1,>=0.9.0 (from wsproto>=0.14->trio-websocket~=0.9->selenium)\n",
            "  Downloading h11-0.14.0-py3-none-any.whl (58 kB)\n",
            "\u001b[2K     \u001b[90m━━━━━━━━━━━━━━━━━━━━━━━━━━━━━━━━━━━━━━━━\u001b[0m \u001b[32m58.3/58.3 kB\u001b[0m \u001b[31m4.7 MB/s\u001b[0m eta \u001b[36m0:00:00\u001b[0m\n",
            "\u001b[?25hInstalling collected packages: outcome, h11, wsproto, trio, trio-websocket, selenium\n",
            "Successfully installed h11-0.14.0 outcome-1.3.0.post0 selenium-4.21.0 trio-0.25.1 trio-websocket-0.11.1 wsproto-1.2.0\n"
          ]
        }
      ],
      "source": [
        "!pip install selenium"
      ]
    },
    {
      "cell_type": "code",
      "execution_count": null,
      "id": "282c29cd-66e3-4089-bef5-577b700dbdf6",
      "metadata": {
        "id": "282c29cd-66e3-4089-bef5-577b700dbdf6",
        "outputId": "8b94816b-7fc0-4aff-85b2-15ba3ad1138e",
        "colab": {
          "base_uri": "https://localhost:8080/"
        }
      },
      "outputs": [
        {
          "output_type": "stream",
          "name": "stdout",
          "text": [
            "Collecting chromedriver_autoinstaller\n",
            "  Downloading chromedriver_autoinstaller-0.6.4-py3-none-any.whl (7.6 kB)\n",
            "Requirement already satisfied: packaging>=23.1 in /usr/local/lib/python3.10/dist-packages (from chromedriver_autoinstaller) (24.0)\n",
            "Installing collected packages: chromedriver_autoinstaller\n",
            "Successfully installed chromedriver_autoinstaller-0.6.4\n"
          ]
        }
      ],
      "source": [
        "!pip install chromedriver_autoinstaller"
      ]
    },
    {
      "cell_type": "code",
      "execution_count": null,
      "id": "f4b5d4a6-94e9-4027-a578-c725b3738c4d",
      "metadata": {
        "id": "f4b5d4a6-94e9-4027-a578-c725b3738c4d"
      },
      "outputs": [],
      "source": [
        "from selenium import webdriver\n",
        "from selenium.webdriver.common.keys import Keys"
      ]
    },
    {
      "cell_type": "code",
      "execution_count": null,
      "id": "f6872e90-6ba7-43d2-916b-89a1b4b52c32",
      "metadata": {
        "id": "f6872e90-6ba7-43d2-916b-89a1b4b52c32",
        "colab": {
          "base_uri": "https://localhost:8080/",
          "height": 630
        },
        "outputId": "c1fdac69-8f50-402d-acb9-e0260d8e9954"
      },
      "outputs": [
        {
          "output_type": "error",
          "ename": "SessionNotCreatedException",
          "evalue": "Message: session not created: Chrome failed to start: exited normally.\n  (session not created: DevToolsActivePort file doesn't exist)\n  (The process started from chrome location /root/.cache/selenium/chrome/linux64/125.0.6422.141/chrome is no longer running, so ChromeDriver is assuming that Chrome has crashed.)\nStacktrace:\n#0 0x5ad7ec167e3a <unknown>\n#1 0x5ad7ebe5145c <unknown>\n#2 0x5ad7ebe866f8 <unknown>\n#3 0x5ad7ebe8263b <unknown>\n#4 0x5ad7ebeccb19 <unknown>\n#5 0x5ad7ebec0253 <unknown>\n#6 0x5ad7ebe901c7 <unknown>\n#7 0x5ad7ebe90b3e <unknown>\n#8 0x5ad7ec12e27b <unknown>\n#9 0x5ad7ec132327 <unknown>\n#10 0x5ad7ec11adae <unknown>\n#11 0x5ad7ec132df2 <unknown>\n#12 0x5ad7ec0ff74f <unknown>\n#13 0x5ad7ec157128 <unknown>\n#14 0x5ad7ec1572fb <unknown>\n#15 0x5ad7ec166f6c <unknown>\n#16 0x78b812150ac3 <unknown>\n",
          "traceback": [
            "\u001b[0;31m---------------------------------------------------------------------------\u001b[0m",
            "\u001b[0;31mSessionNotCreatedException\u001b[0m                Traceback (most recent call last)",
            "\u001b[0;32m<ipython-input-5-ec48251f04f8>\u001b[0m in \u001b[0;36m<cell line: 1>\u001b[0;34m()\u001b[0m\n\u001b[0;32m----> 1\u001b[0;31m \u001b[0mdriver\u001b[0m \u001b[0;34m=\u001b[0m \u001b[0mwebdriver\u001b[0m\u001b[0;34m.\u001b[0m\u001b[0mChrome\u001b[0m\u001b[0;34m(\u001b[0m\u001b[0;34m)\u001b[0m\u001b[0;34m\u001b[0m\u001b[0;34m\u001b[0m\u001b[0m\n\u001b[0m",
            "\u001b[0;32m/usr/local/lib/python3.10/dist-packages/selenium/webdriver/chrome/webdriver.py\u001b[0m in \u001b[0;36m__init__\u001b[0;34m(self, options, service, keep_alive)\u001b[0m\n\u001b[1;32m     43\u001b[0m         \u001b[0moptions\u001b[0m \u001b[0;34m=\u001b[0m \u001b[0moptions\u001b[0m \u001b[0;32mif\u001b[0m \u001b[0moptions\u001b[0m \u001b[0;32melse\u001b[0m \u001b[0mOptions\u001b[0m\u001b[0;34m(\u001b[0m\u001b[0;34m)\u001b[0m\u001b[0;34m\u001b[0m\u001b[0;34m\u001b[0m\u001b[0m\n\u001b[1;32m     44\u001b[0m \u001b[0;34m\u001b[0m\u001b[0m\n\u001b[0;32m---> 45\u001b[0;31m         super().__init__(\n\u001b[0m\u001b[1;32m     46\u001b[0m             \u001b[0mbrowser_name\u001b[0m\u001b[0;34m=\u001b[0m\u001b[0mDesiredCapabilities\u001b[0m\u001b[0;34m.\u001b[0m\u001b[0mCHROME\u001b[0m\u001b[0;34m[\u001b[0m\u001b[0;34m\"browserName\"\u001b[0m\u001b[0;34m]\u001b[0m\u001b[0;34m,\u001b[0m\u001b[0;34m\u001b[0m\u001b[0;34m\u001b[0m\u001b[0m\n\u001b[1;32m     47\u001b[0m             \u001b[0mvendor_prefix\u001b[0m\u001b[0;34m=\u001b[0m\u001b[0;34m\"goog\"\u001b[0m\u001b[0;34m,\u001b[0m\u001b[0;34m\u001b[0m\u001b[0;34m\u001b[0m\u001b[0m\n",
            "\u001b[0;32m/usr/local/lib/python3.10/dist-packages/selenium/webdriver/chromium/webdriver.py\u001b[0m in \u001b[0;36m__init__\u001b[0;34m(self, browser_name, vendor_prefix, options, service, keep_alive)\u001b[0m\n\u001b[1;32m     64\u001b[0m \u001b[0;34m\u001b[0m\u001b[0m\n\u001b[1;32m     65\u001b[0m         \u001b[0;32mtry\u001b[0m\u001b[0;34m:\u001b[0m\u001b[0;34m\u001b[0m\u001b[0;34m\u001b[0m\u001b[0m\n\u001b[0;32m---> 66\u001b[0;31m             \u001b[0msuper\u001b[0m\u001b[0;34m(\u001b[0m\u001b[0;34m)\u001b[0m\u001b[0;34m.\u001b[0m\u001b[0m__init__\u001b[0m\u001b[0;34m(\u001b[0m\u001b[0mcommand_executor\u001b[0m\u001b[0;34m=\u001b[0m\u001b[0mexecutor\u001b[0m\u001b[0;34m,\u001b[0m \u001b[0moptions\u001b[0m\u001b[0;34m=\u001b[0m\u001b[0moptions\u001b[0m\u001b[0;34m)\u001b[0m\u001b[0;34m\u001b[0m\u001b[0;34m\u001b[0m\u001b[0m\n\u001b[0m\u001b[1;32m     67\u001b[0m         \u001b[0;32mexcept\u001b[0m \u001b[0mException\u001b[0m\u001b[0;34m:\u001b[0m\u001b[0;34m\u001b[0m\u001b[0;34m\u001b[0m\u001b[0m\n\u001b[1;32m     68\u001b[0m             \u001b[0mself\u001b[0m\u001b[0;34m.\u001b[0m\u001b[0mquit\u001b[0m\u001b[0;34m(\u001b[0m\u001b[0;34m)\u001b[0m\u001b[0;34m\u001b[0m\u001b[0;34m\u001b[0m\u001b[0m\n",
            "\u001b[0;32m/usr/local/lib/python3.10/dist-packages/selenium/webdriver/remote/webdriver.py\u001b[0m in \u001b[0;36m__init__\u001b[0;34m(self, command_executor, keep_alive, file_detector, options)\u001b[0m\n\u001b[1;32m    206\u001b[0m         \u001b[0mself\u001b[0m\u001b[0;34m.\u001b[0m\u001b[0m_authenticator_id\u001b[0m \u001b[0;34m=\u001b[0m \u001b[0;32mNone\u001b[0m\u001b[0;34m\u001b[0m\u001b[0;34m\u001b[0m\u001b[0m\n\u001b[1;32m    207\u001b[0m         \u001b[0mself\u001b[0m\u001b[0;34m.\u001b[0m\u001b[0mstart_client\u001b[0m\u001b[0;34m(\u001b[0m\u001b[0;34m)\u001b[0m\u001b[0;34m\u001b[0m\u001b[0;34m\u001b[0m\u001b[0m\n\u001b[0;32m--> 208\u001b[0;31m         \u001b[0mself\u001b[0m\u001b[0;34m.\u001b[0m\u001b[0mstart_session\u001b[0m\u001b[0;34m(\u001b[0m\u001b[0mcapabilities\u001b[0m\u001b[0;34m)\u001b[0m\u001b[0;34m\u001b[0m\u001b[0;34m\u001b[0m\u001b[0m\n\u001b[0m\u001b[1;32m    209\u001b[0m \u001b[0;34m\u001b[0m\u001b[0m\n\u001b[1;32m    210\u001b[0m     \u001b[0;32mdef\u001b[0m \u001b[0m__repr__\u001b[0m\u001b[0;34m(\u001b[0m\u001b[0mself\u001b[0m\u001b[0;34m)\u001b[0m\u001b[0;34m:\u001b[0m\u001b[0;34m\u001b[0m\u001b[0;34m\u001b[0m\u001b[0m\n",
            "\u001b[0;32m/usr/local/lib/python3.10/dist-packages/selenium/webdriver/remote/webdriver.py\u001b[0m in \u001b[0;36mstart_session\u001b[0;34m(self, capabilities)\u001b[0m\n\u001b[1;32m    290\u001b[0m \u001b[0;34m\u001b[0m\u001b[0m\n\u001b[1;32m    291\u001b[0m         \u001b[0mcaps\u001b[0m \u001b[0;34m=\u001b[0m \u001b[0m_create_caps\u001b[0m\u001b[0;34m(\u001b[0m\u001b[0mcapabilities\u001b[0m\u001b[0;34m)\u001b[0m\u001b[0;34m\u001b[0m\u001b[0;34m\u001b[0m\u001b[0m\n\u001b[0;32m--> 292\u001b[0;31m         \u001b[0mresponse\u001b[0m \u001b[0;34m=\u001b[0m \u001b[0mself\u001b[0m\u001b[0;34m.\u001b[0m\u001b[0mexecute\u001b[0m\u001b[0;34m(\u001b[0m\u001b[0mCommand\u001b[0m\u001b[0;34m.\u001b[0m\u001b[0mNEW_SESSION\u001b[0m\u001b[0;34m,\u001b[0m \u001b[0mcaps\u001b[0m\u001b[0;34m)\u001b[0m\u001b[0;34m[\u001b[0m\u001b[0;34m\"value\"\u001b[0m\u001b[0;34m]\u001b[0m\u001b[0;34m\u001b[0m\u001b[0;34m\u001b[0m\u001b[0m\n\u001b[0m\u001b[1;32m    293\u001b[0m         \u001b[0mself\u001b[0m\u001b[0;34m.\u001b[0m\u001b[0msession_id\u001b[0m \u001b[0;34m=\u001b[0m \u001b[0mresponse\u001b[0m\u001b[0;34m.\u001b[0m\u001b[0mget\u001b[0m\u001b[0;34m(\u001b[0m\u001b[0;34m\"sessionId\"\u001b[0m\u001b[0;34m)\u001b[0m\u001b[0;34m\u001b[0m\u001b[0;34m\u001b[0m\u001b[0m\n\u001b[1;32m    294\u001b[0m         \u001b[0mself\u001b[0m\u001b[0;34m.\u001b[0m\u001b[0mcaps\u001b[0m \u001b[0;34m=\u001b[0m \u001b[0mresponse\u001b[0m\u001b[0;34m.\u001b[0m\u001b[0mget\u001b[0m\u001b[0;34m(\u001b[0m\u001b[0;34m\"capabilities\"\u001b[0m\u001b[0;34m)\u001b[0m\u001b[0;34m\u001b[0m\u001b[0;34m\u001b[0m\u001b[0m\n",
            "\u001b[0;32m/usr/local/lib/python3.10/dist-packages/selenium/webdriver/remote/webdriver.py\u001b[0m in \u001b[0;36mexecute\u001b[0;34m(self, driver_command, params)\u001b[0m\n\u001b[1;32m    345\u001b[0m         \u001b[0mresponse\u001b[0m \u001b[0;34m=\u001b[0m \u001b[0mself\u001b[0m\u001b[0;34m.\u001b[0m\u001b[0mcommand_executor\u001b[0m\u001b[0;34m.\u001b[0m\u001b[0mexecute\u001b[0m\u001b[0;34m(\u001b[0m\u001b[0mdriver_command\u001b[0m\u001b[0;34m,\u001b[0m \u001b[0mparams\u001b[0m\u001b[0;34m)\u001b[0m\u001b[0;34m\u001b[0m\u001b[0;34m\u001b[0m\u001b[0m\n\u001b[1;32m    346\u001b[0m         \u001b[0;32mif\u001b[0m \u001b[0mresponse\u001b[0m\u001b[0;34m:\u001b[0m\u001b[0;34m\u001b[0m\u001b[0;34m\u001b[0m\u001b[0m\n\u001b[0;32m--> 347\u001b[0;31m             \u001b[0mself\u001b[0m\u001b[0;34m.\u001b[0m\u001b[0merror_handler\u001b[0m\u001b[0;34m.\u001b[0m\u001b[0mcheck_response\u001b[0m\u001b[0;34m(\u001b[0m\u001b[0mresponse\u001b[0m\u001b[0;34m)\u001b[0m\u001b[0;34m\u001b[0m\u001b[0;34m\u001b[0m\u001b[0m\n\u001b[0m\u001b[1;32m    348\u001b[0m             \u001b[0mresponse\u001b[0m\u001b[0;34m[\u001b[0m\u001b[0;34m\"value\"\u001b[0m\u001b[0;34m]\u001b[0m \u001b[0;34m=\u001b[0m \u001b[0mself\u001b[0m\u001b[0;34m.\u001b[0m\u001b[0m_unwrap_value\u001b[0m\u001b[0;34m(\u001b[0m\u001b[0mresponse\u001b[0m\u001b[0;34m.\u001b[0m\u001b[0mget\u001b[0m\u001b[0;34m(\u001b[0m\u001b[0;34m\"value\"\u001b[0m\u001b[0;34m,\u001b[0m \u001b[0;32mNone\u001b[0m\u001b[0;34m)\u001b[0m\u001b[0;34m)\u001b[0m\u001b[0;34m\u001b[0m\u001b[0;34m\u001b[0m\u001b[0m\n\u001b[1;32m    349\u001b[0m             \u001b[0;32mreturn\u001b[0m \u001b[0mresponse\u001b[0m\u001b[0;34m\u001b[0m\u001b[0;34m\u001b[0m\u001b[0m\n",
            "\u001b[0;32m/usr/local/lib/python3.10/dist-packages/selenium/webdriver/remote/errorhandler.py\u001b[0m in \u001b[0;36mcheck_response\u001b[0;34m(self, response)\u001b[0m\n\u001b[1;32m    227\u001b[0m                 \u001b[0malert_text\u001b[0m \u001b[0;34m=\u001b[0m \u001b[0mvalue\u001b[0m\u001b[0;34m[\u001b[0m\u001b[0;34m\"alert\"\u001b[0m\u001b[0;34m]\u001b[0m\u001b[0;34m.\u001b[0m\u001b[0mget\u001b[0m\u001b[0;34m(\u001b[0m\u001b[0;34m\"text\"\u001b[0m\u001b[0;34m)\u001b[0m\u001b[0;34m\u001b[0m\u001b[0;34m\u001b[0m\u001b[0m\n\u001b[1;32m    228\u001b[0m             \u001b[0;32mraise\u001b[0m \u001b[0mexception_class\u001b[0m\u001b[0;34m(\u001b[0m\u001b[0mmessage\u001b[0m\u001b[0;34m,\u001b[0m \u001b[0mscreen\u001b[0m\u001b[0;34m,\u001b[0m \u001b[0mstacktrace\u001b[0m\u001b[0;34m,\u001b[0m \u001b[0malert_text\u001b[0m\u001b[0;34m)\u001b[0m  \u001b[0;31m# type: ignore[call-arg]  # mypy is not smart enough here\u001b[0m\u001b[0;34m\u001b[0m\u001b[0;34m\u001b[0m\u001b[0m\n\u001b[0;32m--> 229\u001b[0;31m         \u001b[0;32mraise\u001b[0m \u001b[0mexception_class\u001b[0m\u001b[0;34m(\u001b[0m\u001b[0mmessage\u001b[0m\u001b[0;34m,\u001b[0m \u001b[0mscreen\u001b[0m\u001b[0;34m,\u001b[0m \u001b[0mstacktrace\u001b[0m\u001b[0;34m)\u001b[0m\u001b[0;34m\u001b[0m\u001b[0;34m\u001b[0m\u001b[0m\n\u001b[0m",
            "\u001b[0;31mSessionNotCreatedException\u001b[0m: Message: session not created: Chrome failed to start: exited normally.\n  (session not created: DevToolsActivePort file doesn't exist)\n  (The process started from chrome location /root/.cache/selenium/chrome/linux64/125.0.6422.141/chrome is no longer running, so ChromeDriver is assuming that Chrome has crashed.)\nStacktrace:\n#0 0x5ad7ec167e3a <unknown>\n#1 0x5ad7ebe5145c <unknown>\n#2 0x5ad7ebe866f8 <unknown>\n#3 0x5ad7ebe8263b <unknown>\n#4 0x5ad7ebeccb19 <unknown>\n#5 0x5ad7ebec0253 <unknown>\n#6 0x5ad7ebe901c7 <unknown>\n#7 0x5ad7ebe90b3e <unknown>\n#8 0x5ad7ec12e27b <unknown>\n#9 0x5ad7ec132327 <unknown>\n#10 0x5ad7ec11adae <unknown>\n#11 0x5ad7ec132df2 <unknown>\n#12 0x5ad7ec0ff74f <unknown>\n#13 0x5ad7ec157128 <unknown>\n#14 0x5ad7ec1572fb <unknown>\n#15 0x5ad7ec166f6c <unknown>\n#16 0x78b812150ac3 <unknown>\n"
          ]
        }
      ],
      "source": [
        "driver = webdriver.Chrome()"
      ]
    },
    {
      "cell_type": "code",
      "execution_count": null,
      "id": "69e64193-ef3c-45d3-a910-b61c3d6399b1",
      "metadata": {
        "id": "69e64193-ef3c-45d3-a910-b61c3d6399b1"
      },
      "outputs": [],
      "source": [
        "driver.get('https://www.google.com')"
      ]
    },
    {
      "cell_type": "code",
      "execution_count": null,
      "id": "ea02f070-4297-4fe9-a9ce-96fdb412b32a",
      "metadata": {
        "id": "ea02f070-4297-4fe9-a9ce-96fdb412b32a"
      },
      "outputs": [],
      "source": [
        "search = driver.find_element('name', 'q')\n",
        "search.send_keys('날씨')"
      ]
    },
    {
      "cell_type": "code",
      "execution_count": null,
      "id": "4379b0e9-882e-4a87-b5e5-f444b406573f",
      "metadata": {
        "id": "4379b0e9-882e-4a87-b5e5-f444b406573f"
      },
      "outputs": [],
      "source": [
        "search.send_keys(Keys.RETURN)"
      ]
    },
    {
      "cell_type": "code",
      "execution_count": null,
      "id": "c6280454-8475-4f7d-b486-251a3b83e5e0",
      "metadata": {
        "id": "c6280454-8475-4f7d-b486-251a3b83e5e0"
      },
      "outputs": [],
      "source": [
        "# 정리\n",
        "driver = webdriver.Chrome() # 크롬 브라우저 띄우기\n",
        "driver.get('https://www.google.com') # 구글로 이동하기\n",
        "search = driver.find_element('name', 'q') # 검색창 요소 찾기\n",
        "search.send_keys('미세먼지') # 검색창에 날씨 문자열 적기\n",
        "search.send_keys(Keys.RETURN) # 엔터키 누르기"
      ]
    },
    {
      "cell_type": "markdown",
      "id": "4f245152-f6b2-4e0d-bf6d-401808f7f2c6",
      "metadata": {
        "id": "4f245152-f6b2-4e0d-bf6d-401808f7f2c6"
      },
      "source": [
        "# **2. 네이버 웹툰**\n",
        "* https://comic.naver.com/webtoon/detail?titleId=812354&no=52&week=thu"
      ]
    },
    {
      "cell_type": "code",
      "execution_count": null,
      "id": "d94df23f-bc8e-443b-b20d-87287c31ad7b",
      "metadata": {
        "id": "d94df23f-bc8e-443b-b20d-87287c31ad7b"
      },
      "outputs": [],
      "source": [
        "driver = webdriver.Chrome()\n",
        "driver.get('https://comic.naver.com/webtoon/detail?titleId=812354&no=52&week=thu')"
      ]
    },
    {
      "cell_type": "code",
      "execution_count": null,
      "id": "4c3d783e-e913-4c8d-ae71-66f54f554a5d",
      "metadata": {
        "id": "4c3d783e-e913-4c8d-ae71-66f54f554a5d",
        "outputId": "008aa864-ef45-4acf-ee3b-92d4d71e77f8"
      },
      "outputs": [
        {
          "name": "stdout",
          "output_type": "stream",
          "text": [
            "Requirement already satisfied: bs4 in c:\\users\\administrator\\appdata\\local\\programs\\python\\python310\\lib\\site-packages (0.0.2)\n",
            "Requirement already satisfied: beautifulsoup4 in c:\\users\\administrator\\appdata\\local\\programs\\python\\python310\\lib\\site-packages (from bs4) (4.12.3)\n",
            "Requirement already satisfied: soupsieve>1.2 in c:\\users\\administrator\\appdata\\local\\programs\\python\\python310\\lib\\site-packages (from beautifulsoup4->bs4) (2.5)\n"
          ]
        },
        {
          "name": "stderr",
          "output_type": "stream",
          "text": [
            "\n",
            "[notice] A new release of pip is available: 23.0.1 -> 24.0\n",
            "[notice] To update, run: python.exe -m pip install --upgrade pip\n"
          ]
        }
      ],
      "source": [
        "!pip install bs4"
      ]
    },
    {
      "cell_type": "code",
      "execution_count": null,
      "id": "1411f657-2b3e-4431-8604-6acdc5173ab5",
      "metadata": {
        "id": "1411f657-2b3e-4431-8604-6acdc5173ab5"
      },
      "outputs": [],
      "source": [
        "from bs4 import BeautifulSoup"
      ]
    },
    {
      "cell_type": "code",
      "execution_count": null,
      "id": "9032eb91-9822-41ec-aff9-a96431591d6a",
      "metadata": {
        "id": "9032eb91-9822-41ec-aff9-a96431591d6a"
      },
      "outputs": [],
      "source": [
        "soup = BeautifulSoup(driver.page_source)"
      ]
    },
    {
      "cell_type": "code",
      "execution_count": null,
      "id": "bea4aac8-f4ca-4e4e-98bc-27f190a904aa",
      "metadata": {
        "id": "bea4aac8-f4ca-4e4e-98bc-27f190a904aa",
        "outputId": "3acd4f65-762b-4e74-d7d7-6614fd8ffe71"
      },
      "outputs": [
        {
          "name": "stdout",
          "output_type": "stream",
          "text": [
            "[<span class=\"u_cbox_contents\" data-lang=\"ko\" style=\"\">썸바디헬미</span>, <span class=\"u_cbox_contents\" data-lang=\"ko\" style=\"\">유난히 내성적이었던 어린 하미</span>, <span class=\"u_cbox_contents\" data-lang=\"ko\" style=\"\">아 씨 개웃겨</span>, <span class=\"u_cbox_contents\" data-lang=\"ko\" style=\"\">아빠 다이어트 시키는 효자 ㄷㄷ</span>, <span class=\"u_cbox_contents\" data-lang=\"ko\" style=\"\">방금 움직였어! &lt;&lt; 임신 중기잠 좀 자자 =_= &lt;&lt; 임신 후기\n",
            "ㅋㅋㅋㅋ 저도 지금 잠 좀 자자 상태여서 매우 공감가네요</span>, <span class=\"u_cbox_contents\" data-lang=\"ko\" style=\"\">아 내 감동 돌려줘요</span>, <span class=\"u_cbox_contents\" data-lang=\"ko\" style=\"\">아기가 딸꾹질을 한다고?? 그리고 그걸 느낄 수 있다고???</span>, <span class=\"u_cbox_contents\" data-lang=\"ko\" style=\"\">표현이진짴ㅋㅋㅋㅋㅋㅋㅋㅋㅋㅋㅋ</span>, <span class=\"u_cbox_contents\" data-lang=\"ko\" style=\"\">표현에 진짴ㅋㅋㅋㅋㅋㅋㅋ자까님의 리얼리즘에 또한번 놀랍니다</span>, <span class=\"u_cbox_contents\" data-lang=\"ko\" style=\"\">뭐지 다리찢기한건가??</span>, <span class=\"u_cbox_contents\" data-lang=\"ko\" style=\"\">미쳤나봨ㅋㅋㅋㅋㅋㅋㅋㅋㅋㅋㅋㅋㄱ</span>, <span class=\"u_cbox_contents\" data-lang=\"ko\" style=\"\">틀린 말은 아닌데..</span>, <span class=\"u_cbox_contents\" data-lang=\"ko\" style=\"\">제 뱃속에는 지방이 있습니다</span>, <span class=\"u_cbox_contents\" data-lang=\"ko\" style=\"\">자유로운 우리를 봐 자유로워</span>, <span class=\"u_cbox_contents\" data-lang=\"ko\" style=\"\">ㅋㅋㅋㅋㅋㅋㅋㅋㅋㅋ효자네 다이어트 시켜주곸ㅋㅋㅋㅋㅋ</span>]\n"
          ]
        }
      ],
      "source": [
        "comment_area = soup.find_all('span', {'class', 'u_cbox_contents'})\n",
        "print(comment_area)"
      ]
    },
    {
      "cell_type": "code",
      "execution_count": null,
      "id": "5456ece8-ff76-4725-addc-99ba870ae1a4",
      "metadata": {
        "id": "5456ece8-ff76-4725-addc-99ba870ae1a4",
        "outputId": "694ad668-ed33-4636-e4b1-f8d1949e1f8a"
      },
      "outputs": [
        {
          "name": "stdout",
          "output_type": "stream",
          "text": [
            "********** 베스트 댓글 **********\n",
            "썸바디헬미\n",
            "------------------------------\n",
            "유난히 내성적이었던 어린 하미\n",
            "------------------------------\n",
            "아 씨 개웃겨\n",
            "------------------------------\n",
            "아빠 다이어트 시키는 효자 ㄷㄷ\n",
            "------------------------------\n",
            "방금 움직였어! << 임신 중기잠 좀 자자 =_= << 임신 후기\n",
            "ㅋㅋㅋㅋ 저도 지금 잠 좀 자자 상태여서 매우 공감가네요\n",
            "------------------------------\n",
            "아 내 감동 돌려줘요\n",
            "------------------------------\n",
            "아기가 딸꾹질을 한다고?? 그리고 그걸 느낄 수 있다고???\n",
            "------------------------------\n",
            "표현이진짴ㅋㅋㅋㅋㅋㅋㅋㅋㅋㅋㅋ\n",
            "------------------------------\n",
            "표현에 진짴ㅋㅋㅋㅋㅋㅋㅋ자까님의 리얼리즘에 또한번 놀랍니다\n",
            "------------------------------\n",
            "뭐지 다리찢기한건가??\n",
            "------------------------------\n",
            "미쳤나봨ㅋㅋㅋㅋㅋㅋㅋㅋㅋㅋㅋㅋㄱ\n",
            "------------------------------\n",
            "틀린 말은 아닌데..\n",
            "------------------------------\n",
            "제 뱃속에는 지방이 있습니다\n",
            "------------------------------\n",
            "자유로운 우리를 봐 자유로워\n",
            "------------------------------\n",
            "ㅋㅋㅋㅋㅋㅋㅋㅋㅋㅋ효자네 다이어트 시켜주곸ㅋㅋㅋㅋㅋ\n",
            "------------------------------\n"
          ]
        }
      ],
      "source": [
        "print('********** 베스트 댓글 **********')\n",
        "for i in range(len(comment_area)):\n",
        "    comment = comment_area[i].text.strip()\n",
        "    print(comment)\n",
        "    print('-' * 30)"
      ]
    },
    {
      "cell_type": "markdown",
      "id": "37cfc122-c9c1-4302-be8b-9233822e601f",
      "metadata": {
        "id": "37cfc122-c9c1-4302-be8b-9233822e601f"
      },
      "source": [
        "* Xpath: 기존의 컴퓨터 파일 시스템에서 사용하는 경로 표현식과 유사한 경로 언어\n",
        "  * 예) /html/body/div[1]/div[5]/div/div/div[5]/div[1]/div[3]/div/div/div[4]/div[1]/div/ul/li[2]/a/span[2]"
      ]
    },
    {
      "cell_type": "code",
      "execution_count": null,
      "id": "eba675b7-dc5a-4c64-bb00-a6ad2f581893",
      "metadata": {
        "id": "eba675b7-dc5a-4c64-bb00-a6ad2f581893"
      },
      "outputs": [],
      "source": [
        "driver.find_element('xpath', '/html/body/div[1]/div[5]/div/div/div[5]/div[1]/div[3]/div/div/div[4]/div[1]/div/ul/li[2]/a/span[2]').click()"
      ]
    },
    {
      "cell_type": "code",
      "execution_count": null,
      "id": "1062dd50-b87c-4a5a-9af0-ef25eb741e15",
      "metadata": {
        "id": "1062dd50-b87c-4a5a-9af0-ef25eb741e15",
        "outputId": "4aeae944-ee76-474b-a282-54d981fa9071"
      },
      "outputs": [
        {
          "name": "stdout",
          "output_type": "stream",
          "text": [
            "[<span class=\"u_cbox_contents\" data-lang=\"ko\" style=\"\">제 뱃속에는 방금 먹은 아이스크림이 들어있죠 하하</span>, <span class=\"u_cbox_contents\" data-lang=\"ko\" style=\"\">사실 짜장과 짬뽕 두 개 다 였던것</span>, <span class=\"u_cbox_contents\" data-lang=\"ko\" style=\"\">세상밖에 나와도 똑같데요 이뻐서 찍을려고 카메라 들면 안한데요</span>, <span class=\"u_cbox_contents\" data-lang=\"ko\" style=\"\">설사 매려울 때  배안이 요동 치는거랑 비슷한 느낌일까</span>, <span class=\"u_cbox_contents\" data-lang=\"ko\" style=\"\">우리도 보여줘요</span>, <span class=\"u_cbox_contents\" data-lang=\"ko\" style=\"\">오오...이런 느낌이시군요. 표현대박 ㅋㅋ</span>, <span class=\"u_cbox_contents\" data-lang=\"ko\" style=\"\">당신이 가뒀잖아ㅋㅋㅋㅋㅋㅋ</span>, <span class=\"u_cbox_contents\" data-lang=\"ko\" style=\"\">공익광고협의회 띠로링 띵</span>, <span class=\"u_cbox_contents\" data-lang=\"ko\" style=\"\">ㅋㅋㅋㅋㅋㅋㅋㅋㅋ</span>, <span class=\"u_cbox_contents\" data-lang=\"ko\" style=\"\">에너지 뿜뿜이겠는데요 ㅋㅋㅋㅋㅋ하나는 뱃속에서 얌전하더니 나와서도 얌전하고 하나는 젤리곰때부터 쉬지않고 발차기를 해대더니 나와서도 활력만땅.. ㅋㅋ 성별과 관계없더군요</span>, <span class=\"u_cbox_contents\" data-lang=\"ko\" style=\"\">아 웃으면 안되는뎈ㅋㅋㅋㅋㅋ</span>, <span class=\"u_cbox_contents\" data-lang=\"ko\" style=\"\">저렇게 작은데도 그 많은 임신 증상들을 일으키는건가요..? 아님 좀 더 크고 나서 생기는 건가요?? 암튼 모든 임산부 분들 존경하고 파이팅입니당</span>, <span class=\"u_cbox_contents\" data-lang=\"ko\" style=\"\">지건</span>, <span class=\"u_cbox_contents\" data-lang=\"ko\" style=\"\">너무 웃겨욧.</span>, <span class=\"u_cbox_contents\" data-lang=\"ko\" style=\"\">여기서 지건을 생각해야 웹툰작가 하는거구나</span>]\n"
          ]
        }
      ],
      "source": [
        "soup = BeautifulSoup(driver.page_source)\n",
        "comment_area = soup.find_all('span', {'class', 'u_cbox_contents'})\n",
        "print(comment_area)"
      ]
    },
    {
      "cell_type": "code",
      "execution_count": null,
      "id": "bd5d46fd-831c-4c73-a35b-78f3f9ba4fcd",
      "metadata": {
        "id": "bd5d46fd-831c-4c73-a35b-78f3f9ba4fcd",
        "outputId": "8162840f-0f68-492b-f124-5568fb0b5991"
      },
      "outputs": [
        {
          "name": "stdout",
          "output_type": "stream",
          "text": [
            "********** 전체 댓글 **********\n",
            "제 뱃속에는 방금 먹은 아이스크림이 들어있죠 하하\n",
            "------------------------------\n",
            "사실 짜장과 짬뽕 두 개 다 였던것\n",
            "------------------------------\n",
            "세상밖에 나와도 똑같데요 이뻐서 찍을려고 카메라 들면 안한데요\n",
            "------------------------------\n",
            "설사 매려울 때  배안이 요동 치는거랑 비슷한 느낌일까\n",
            "------------------------------\n",
            "우리도 보여줘요\n",
            "------------------------------\n",
            "오오...이런 느낌이시군요. 표현대박 ㅋㅋ\n",
            "------------------------------\n",
            "당신이 가뒀잖아ㅋㅋㅋㅋㅋㅋ\n",
            "------------------------------\n",
            "공익광고협의회 띠로링 띵\n",
            "------------------------------\n",
            "ㅋㅋㅋㅋㅋㅋㅋㅋㅋ\n",
            "------------------------------\n",
            "에너지 뿜뿜이겠는데요 ㅋㅋㅋㅋㅋ하나는 뱃속에서 얌전하더니 나와서도 얌전하고 하나는 젤리곰때부터 쉬지않고 발차기를 해대더니 나와서도 활력만땅.. ㅋㅋ 성별과 관계없더군요\n",
            "------------------------------\n",
            "아 웃으면 안되는뎈ㅋㅋㅋㅋㅋ\n",
            "------------------------------\n",
            "저렇게 작은데도 그 많은 임신 증상들을 일으키는건가요..? 아님 좀 더 크고 나서 생기는 건가요?? 암튼 모든 임산부 분들 존경하고 파이팅입니당\n",
            "------------------------------\n",
            "지건\n",
            "------------------------------\n",
            "너무 웃겨욧.\n",
            "------------------------------\n",
            "여기서 지건을 생각해야 웹툰작가 하는거구나\n",
            "------------------------------\n"
          ]
        }
      ],
      "source": [
        "print('********** 전체 댓글 **********')\n",
        "for i in range(len(comment_area)):\n",
        "    comment = comment_area[i].text.strip()\n",
        "    print(comment)\n",
        "    print('-' * 30)"
      ]
    },
    {
      "cell_type": "code",
      "execution_count": null,
      "id": "e9c0e40e-af02-4171-9528-73f9278a50b5",
      "metadata": {
        "id": "e9c0e40e-af02-4171-9528-73f9278a50b5"
      },
      "outputs": [],
      "source": []
    }
  ],
  "metadata": {
    "kernelspec": {
      "display_name": "Python 3 (ipykernel)",
      "language": "python",
      "name": "python3"
    },
    "language_info": {
      "codemirror_mode": {
        "name": "ipython",
        "version": 3
      },
      "file_extension": ".py",
      "mimetype": "text/x-python",
      "name": "python",
      "nbconvert_exporter": "python",
      "pygments_lexer": "ipython3",
      "version": "3.10.11"
    },
    "colab": {
      "provenance": [],
      "include_colab_link": true
    }
  },
  "nbformat": 4,
  "nbformat_minor": 5
}