{
 "cells": [
  {
   "cell_type": "markdown",
   "id": "08ce545b-5471-453f-9758-b26accdb21b1",
   "metadata": {},
   "source": [
    "# **1. 로그인**"
   ]
  },
  {
   "cell_type": "code",
   "execution_count": 13,
   "id": "1915d1c8-8c46-482f-9f3b-f9a65801cd95",
   "metadata": {},
   "outputs": [],
   "source": [
    "import chromedriver_autoinstaller\n",
    "from selenium import webdriver"
   ]
  },
  {
   "cell_type": "code",
   "execution_count": 14,
   "id": "7f0d40a3-22ed-4fdc-93aa-201a126415ed",
   "metadata": {},
   "outputs": [],
   "source": [
    "driver = webdriver.Chrome()"
   ]
  },
  {
   "cell_type": "code",
   "execution_count": 15,
   "id": "35be94b6-28a6-4755-a264-1ff5ca72059d",
   "metadata": {},
   "outputs": [],
   "source": [
    "url = 'https://www.instagram.com/'\n",
    "driver.get(url)"
   ]
  },
  {
   "cell_type": "code",
   "execution_count": 16,
   "id": "f2d9c4ed-d734-4aa4-a859-c7b0d79ce4c3",
   "metadata": {},
   "outputs": [],
   "source": [
    "id = 'minho__0426'\n",
    "pw = 'Kgi57201@@'\n",
    "\n",
    "# id 입력칸의 xpath\n",
    "input_id = driver.find_element('xpath', '/html/body/div[2]/div/div/div[2]/div/div/div[1]/section/main/article/div[2]/div[1]/div[2]/form/div/div[1]/div/label/input')\n",
    "# pw 입력칸의 xpath\n",
    "input_pw = driver.find_element('xpath', '/html/body/div[2]/div/div/div[2]/div/div/div[1]/section/main/article/div[2]/div[1]/div[2]/form/div/div[2]/div/label/input')"
   ]
  },
  {
   "cell_type": "code",
   "execution_count": 17,
   "id": "547c7b89-3749-40da-b93d-13fc43684213",
   "metadata": {},
   "outputs": [],
   "source": [
    "input_id.send_keys(id)\n",
    "input_pw.send_keys(pw)"
   ]
  },
  {
   "cell_type": "code",
   "execution_count": 18,
   "id": "27d9c9f6-93cc-4689-ad2b-8e9aca5e2a6f",
   "metadata": {},
   "outputs": [],
   "source": [
    "# 로그인 버튼 찾아서 클릭\n",
    "driver.find_element('xpath', '/html/body/div[2]/div/div/div[2]/div/div/div[1]/section/main/article/div[2]/div[1]/div[2]/form/div/div[3]/button/div').click()"
   ]
  },
  {
   "cell_type": "code",
   "execution_count": 19,
   "id": "c671f151-333b-45ba-833f-312cf04059f1",
   "metadata": {},
   "outputs": [],
   "source": [
    "driver.find_element('xpath', '/html/body/div[2]/div/div/div[2]/div/div/div[1]/div[1]/div[2]/section/main/div/div/div/div/div').click()"
   ]
  },
  {
   "cell_type": "markdown",
   "id": "227cee9a-3785-4252-98b3-132e5d4f256f",
   "metadata": {},
   "source": [
    "# **2. 해시태그 검색**"
   ]
  },
  {
   "cell_type": "code",
   "execution_count": 25,
   "id": "3807587e-9fbc-429c-b08d-9485ca28b4c7",
   "metadata": {},
   "outputs": [],
   "source": [
    "hashtag = '햄스터'\n",
    "# 해시태그에 대한 데이터가 나오도록"
   ]
  },
  {
   "cell_type": "code",
   "execution_count": 26,
   "id": "e41a22b6-6541-4d54-827e-4055be29c2f3",
   "metadata": {},
   "outputs": [],
   "source": [
    "url = f'https://www.instagram.com/explore/tags/{hashtag}/'\n",
    "driver.get(url)"
   ]
  },
  {
   "cell_type": "markdown",
   "id": "caa533f5-9c99-4150-977d-fa40b859aae6",
   "metadata": {},
   "source": [
    "# **3. 스크롤 내리기**"
   ]
  },
  {
   "cell_type": "code",
   "execution_count": 27,
   "id": "3fad4573-29de-4e99-a8da-328d5ba5b79a",
   "metadata": {},
   "outputs": [],
   "source": [
    "import time"
   ]
  },
  {
   "cell_type": "code",
   "execution_count": null,
   "id": "46d09a3f-10c8-4f47-a907-4c4518856732",
   "metadata": {},
   "outputs": [],
   "source": [
    "for _ in range(1):\n",
    "    driver.execute_script('window.scrollTo(0, document.body.scrollHeight)')\n",
    "    # execute_script: 자바스크립드 사용 가능 메서드\n",
    "    # 스크롤 맨 밑으로 내리기\n",
    "    # time.sleep(3)"
   ]
  },
  {
   "cell_type": "markdown",
   "id": "81a8058d-1685-4341-9103-32ab60367891",
   "metadata": {},
   "source": [
    "# **4. 원하는 사진 누르기**"
   ]
  },
  {
   "cell_type": "code",
   "execution_count": 31,
   "id": "5389083e-84d6-4dda-86c5-9d31e837e1a1",
   "metadata": {},
   "outputs": [],
   "source": [
    "xpath = '/html/body/div[2]/div/div/div[2]/div/div/div[1]/div[1]/div[2]/section/main/article/div/div[2]/div/div[6]/div[1]/a/div[1]/div[2]'\n",
    "driver.find_element('xpath', xpath).click()"
   ]
  },
  {
   "cell_type": "markdown",
   "id": "df30a174-2275-4642-9681-d523e1539a41",
   "metadata": {},
   "source": [
    "# **5. 좋아요 클릭 및 댓글달기**"
   ]
  },
  {
   "cell_type": "code",
   "execution_count": 33,
   "id": "a2ebff2a-b52d-4c91-a2d4-9e2286505541",
   "metadata": {},
   "outputs": [],
   "source": [
    "# 좋아요 클릭"
   ]
  },
  {
   "cell_type": "code",
   "execution_count": 36,
   "id": "cf659a4f-d68d-47f5-8639-40d008727f30",
   "metadata": {},
   "outputs": [],
   "source": [
    "xpath = '/html/body/div[2]/div/div/div[2]/div/div/div[1]/div[1]/div[2]/section/main/div/article/div[3]/div/div[1]/section[1]/div[1]/span[1]/div'\n",
    "driver.find_element('xpath', xpath).click()\n",
    "driver.find_element('xpath', xpath).click() # 두 번 해줘야함"
   ]
  },
  {
   "cell_type": "code",
   "execution_count": 40,
   "id": "2f03ae4f-3ed0-414f-a814-32e5508972d4",
   "metadata": {},
   "outputs": [],
   "source": [
    "reply_xpath = '/html/body/div[2]/div/div/div[2]/div/div/div[1]/div[1]/div[2]/section/main/div/div[1]/div/div[2]/div/div[4]/section/div/form/div/textarea'\n",
    "driver.find_element('xpath', reply_xpath).click()"
   ]
  },
  {
   "cell_type": "code",
   "execution_count": 43,
   "id": "022755d5-077d-4c08-824c-8b7f138381f8",
   "metadata": {},
   "outputs": [],
   "source": [
    "driver.find_element('xpath', reply_xpath).send_keys('귀요미')\n",
    "# 게시 누르는 건 뭐.. 생략 ㅎㅎ"
   ]
  },
  {
   "cell_type": "markdown",
   "id": "dc5d7802-1da5-486e-b565-bd51d8715918",
   "metadata": {},
   "source": [
    "# **6. 함수로 리팩토링**"
   ]
  },
  {
   "cell_type": "code",
   "execution_count": 56,
   "id": "df0b4d14-0317-4313-96ea-33a3b0e111c8",
   "metadata": {},
   "outputs": [],
   "source": [
    "# 로그인\n",
    "def login(id, pw):\n",
    "    input_id = driver.find_element('xpath', '/html/body/div[2]/div/div/div[2]/div/div/div[1]/section/main/article/div[2]/div[1]/div[2]/form/div/div[1]/div/label/input')\n",
    "    input_pw = driver.find_element('xpath', '/html/body/div[2]/div/div/div[2]/div/div/div[1]/section/main/article/div[2]/div[1]/div[2]/form/div/div[2]/div/label/input')\n",
    "\n",
    "    input_id.send_keys(id)\n",
    "    input_pw.send_keys(pw)\n",
    "\n",
    "    driver.find_element('xpath', '/html/body/div[2]/div/div/div[2]/div/div/div[1]/section/main/article/div[2]/div[1]/div[2]/form/div/div[3]/button/div').click()\n",
    "\n",
    "# 해시태그 검색\n",
    "def search(hashtag):\n",
    "    url = f'https://www.instagram.com/explore/tags/{hashtag}/'\n",
    "    driver.get(url)\n",
    "\n",
    "# 좋아요 및 댓글달기\n",
    "def like_and_comment(comment):\n",
    "    # 이미지 선택\n",
    "    xpath = '/html/body/div[2]/div/div/div[2]/div/div/div[1]/div[1]/div[2]/section/main/article/div/div[2]/div/div[6]/div[1]/a/div[1]/div[2]'\n",
    "    driver.find_element('xpath', xpath).click()\n",
    "    # 좋아요\n",
    "    like_xpath = '/html/body/div[7]/div[1]/div/div[3]/div/div/div/div/div[2]/div/article/div/div[2]/div/div/div[2]/section[1]/span[1]/div/div'\n",
    "    driver.find_element('xpath', like_xpath).click()\n",
    "    driver.find_element('xpath', like_xpath).click()\n",
    "    #댓글\n",
    "    reply_xpath = '/html/body/div[7]/div[1]/div/div[3]/div/div/div/div/div[2]/div/article/div/div[2]/div/div/div[2]/section[3]/div/form/div/textarea'\n",
    "    driver.find_element('xpath', reply_xpath).click()\n",
    "    driver.find_element('xpath', reply_xpath).send_keys(comment)"
   ]
  },
  {
   "cell_type": "code",
   "execution_count": 57,
   "id": "fc96a3c9-6921-409f-99db-e5ae3326061e",
   "metadata": {},
   "outputs": [],
   "source": [
    "# 실행\n",
    "driver = webdriver.Chrome()\n",
    "url = 'https://www.instagram.com/'\n",
    "driver.get(url)\n",
    "driver.implicitly_wait(3) \n",
    "# 3초 안에 불러와지면 넘어감. sleep(3)은 무조건 3초를 기다리지만, implicitly_wait(3)은 1초만에 다 읽히면 1초만에 넘어감\n",
    "\n",
    "id = 'minho__0426'\n",
    "pw = 'Kgi57201@@'\n",
    "\n",
    "login(id, pw)\n",
    "time.sleep(4)\n",
    "\n",
    "hashtag = 'hamster'\n",
    "search(hashtag)\n",
    "time.sleep(4)\n",
    "\n",
    "comment = '잘 보고 갑니다~'\n",
    "like_and_comment(comment)"
   ]
  },
  {
   "cell_type": "code",
   "execution_count": null,
   "id": "c45b9c53-c798-4bc4-9213-b4201954eab7",
   "metadata": {},
   "outputs": [],
   "source": []
  }
 ],
 "metadata": {
  "kernelspec": {
   "display_name": "Python 3 (ipykernel)",
   "language": "python",
   "name": "python3"
  },
  "language_info": {
   "codemirror_mode": {
    "name": "ipython",
    "version": 3
   },
   "file_extension": ".py",
   "mimetype": "text/x-python",
   "name": "python",
   "nbconvert_exporter": "python",
   "pygments_lexer": "ipython3",
   "version": "3.10.11"
  }
 },
 "nbformat": 4,
 "nbformat_minor": 5
}
