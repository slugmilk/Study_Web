{
 "cells": [
  {
   "cell_type": "markdown",
   "id": "de2646ee-3f9a-44b0-a2e8-095211a30362",
   "metadata": {},
   "source": [
    "# **1. 셀레니움**\n",
    "* 셀레니움은 브라우저를 컨트롤할 수 있도록 지원하는 라이브러리"
   ]
  },
  {
   "cell_type": "code",
   "execution_count": 1,
   "id": "b9dfbab2-b732-46ec-b0f2-793ea34edac8",
   "metadata": {},
   "outputs": [
    {
     "name": "stdout",
     "output_type": "stream",
     "text": [
      "Collecting selenium\n",
      "  Downloading selenium-4.21.0-py3-none-any.whl (9.5 MB)\n",
      "     ---------------------------------------- 0.0/9.5 MB ? eta -:--:--\n",
      "     - -------------------------------------- 0.3/9.5 MB 10.2 MB/s eta 0:00:01\n",
      "     --- ------------------------------------ 0.8/9.5 MB 10.0 MB/s eta 0:00:01\n",
      "     ----- ---------------------------------- 1.3/9.5 MB 10.1 MB/s eta 0:00:01\n",
      "     ------- -------------------------------- 1.7/9.5 MB 9.8 MB/s eta 0:00:01\n",
      "     -------- ------------------------------- 2.1/9.5 MB 10.3 MB/s eta 0:00:01\n",
      "     ---------- ----------------------------- 2.5/9.5 MB 10.1 MB/s eta 0:00:01\n",
      "     ------------ --------------------------- 3.0/9.5 MB 10.1 MB/s eta 0:00:01\n",
      "     -------------- ------------------------- 3.5/9.5 MB 10.2 MB/s eta 0:00:01\n",
      "     ---------------- ----------------------- 4.0/9.5 MB 10.2 MB/s eta 0:00:01\n",
      "     ------------------- -------------------- 4.5/9.5 MB 10.3 MB/s eta 0:00:01\n",
      "     --------------------- ------------------ 5.0/9.5 MB 10.2 MB/s eta 0:00:01\n",
      "     ----------------------- ---------------- 5.5/9.5 MB 10.3 MB/s eta 0:00:01\n",
      "     ------------------------- -------------- 6.0/9.5 MB 10.3 MB/s eta 0:00:01\n",
      "     --------------------------- ------------ 6.5/9.5 MB 10.3 MB/s eta 0:00:01\n",
      "     ----------------------------- ---------- 7.0/9.5 MB 10.3 MB/s eta 0:00:01\n",
      "     ------------------------------- -------- 7.5/9.5 MB 10.4 MB/s eta 0:00:01\n",
      "     --------------------------------- ------ 7.9/9.5 MB 10.6 MB/s eta 0:00:01\n",
      "     ----------------------------------- ---- 8.5/9.5 MB 10.4 MB/s eta 0:00:01\n",
      "     ------------------------------------- -- 8.9/9.5 MB 10.6 MB/s eta 0:00:01\n",
      "     ------------------------------------- -- 8.9/9.5 MB 10.6 MB/s eta 0:00:01\n",
      "     ------------------------------------- -- 8.9/9.5 MB 10.6 MB/s eta 0:00:01\n",
      "     ------------------------------------- -- 8.9/9.5 MB 10.6 MB/s eta 0:00:01\n",
      "     ------------------------------------- -- 8.9/9.5 MB 10.6 MB/s eta 0:00:01\n",
      "     ------------------------------------- -- 8.9/9.5 MB 10.6 MB/s eta 0:00:01\n",
      "     ------------------------------------- -- 8.9/9.5 MB 7.9 MB/s eta 0:00:01\n",
      "     -------------------------------------- - 9.2/9.5 MB 7.9 MB/s eta 0:00:01\n",
      "     ---------------------------------------  9.5/9.5 MB 7.8 MB/s eta 0:00:01\n",
      "     ---------------------------------------- 9.5/9.5 MB 7.7 MB/s eta 0:00:00\n",
      "Requirement already satisfied: certifi>=2021.10.8 in c:\\users\\user\\appdata\\local\\programs\\python\\python310\\lib\\site-packages (from selenium) (2024.6.2)\n",
      "Collecting trio-websocket~=0.9\n",
      "  Downloading trio_websocket-0.11.1-py3-none-any.whl (17 kB)\n",
      "Collecting trio~=0.17\n",
      "  Downloading trio-0.25.1-py3-none-any.whl (467 kB)\n",
      "     ---------------------------------------- 0.0/467.7 kB ? eta -:--:--\n",
      "     -------------------------------- ---- 409.6/467.7 kB 12.9 MB/s eta 0:00:01\n",
      "     -------------------------------------- 467.7/467.7 kB 9.7 MB/s eta 0:00:00\n",
      "Requirement already satisfied: typing_extensions>=4.9.0 in c:\\users\\user\\appdata\\local\\programs\\python\\python310\\lib\\site-packages (from selenium) (4.12.1)\n",
      "Requirement already satisfied: urllib3[socks]<3,>=1.26 in c:\\users\\user\\appdata\\local\\programs\\python\\python310\\lib\\site-packages (from selenium) (2.2.1)\n",
      "Collecting sortedcontainers\n",
      "  Downloading sortedcontainers-2.4.0-py2.py3-none-any.whl (29 kB)\n",
      "Requirement already satisfied: cffi>=1.14 in c:\\users\\user\\appdata\\local\\programs\\python\\python310\\lib\\site-packages (from trio~=0.17->selenium) (1.16.0)\n",
      "Requirement already satisfied: sniffio>=1.3.0 in c:\\users\\user\\appdata\\local\\programs\\python\\python310\\lib\\site-packages (from trio~=0.17->selenium) (1.3.1)\n",
      "Collecting outcome\n",
      "  Downloading outcome-1.3.0.post0-py2.py3-none-any.whl (10 kB)\n",
      "Requirement already satisfied: exceptiongroup in c:\\users\\user\\appdata\\local\\programs\\python\\python310\\lib\\site-packages (from trio~=0.17->selenium) (1.2.1)\n",
      "Requirement already satisfied: idna in c:\\users\\user\\appdata\\local\\programs\\python\\python310\\lib\\site-packages (from trio~=0.17->selenium) (3.7)\n",
      "Requirement already satisfied: attrs>=23.2.0 in c:\\users\\user\\appdata\\local\\programs\\python\\python310\\lib\\site-packages (from trio~=0.17->selenium) (23.2.0)\n",
      "Collecting wsproto>=0.14\n",
      "  Downloading wsproto-1.2.0-py3-none-any.whl (24 kB)\n",
      "Collecting pysocks!=1.5.7,<2.0,>=1.5.6\n",
      "  Downloading PySocks-1.7.1-py3-none-any.whl (16 kB)\n",
      "Requirement already satisfied: pycparser in c:\\users\\user\\appdata\\local\\programs\\python\\python310\\lib\\site-packages (from cffi>=1.14->trio~=0.17->selenium) (2.22)\n",
      "Requirement already satisfied: h11<1,>=0.9.0 in c:\\users\\user\\appdata\\local\\programs\\python\\python310\\lib\\site-packages (from wsproto>=0.14->trio-websocket~=0.9->selenium) (0.14.0)\n",
      "Installing collected packages: sortedcontainers, wsproto, pysocks, outcome, trio, trio-websocket, selenium\n",
      "Successfully installed outcome-1.3.0.post0 pysocks-1.7.1 selenium-4.21.0 sortedcontainers-2.4.0 trio-0.25.1 trio-websocket-0.11.1 wsproto-1.2.0\n"
     ]
    },
    {
     "name": "stderr",
     "output_type": "stream",
     "text": [
      "\n",
      "[notice] A new release of pip is available: 23.0.1 -> 24.0\n",
      "[notice] To update, run: python.exe -m pip install --upgrade pip\n"
     ]
    }
   ],
   "source": [
    "!pip install selenium"
   ]
  },
  {
   "cell_type": "code",
   "execution_count": 2,
   "id": "be642b50-1432-4b50-bf58-94e1fd1f2bc5",
   "metadata": {},
   "outputs": [
    {
     "name": "stdout",
     "output_type": "stream",
     "text": [
      "Collecting chromedriver_autoinstaller\n",
      "  Downloading chromedriver_autoinstaller-0.6.4-py3-none-any.whl (7.6 kB)\n",
      "Requirement already satisfied: packaging>=23.1 in c:\\users\\user\\appdata\\local\\programs\\python\\python310\\lib\\site-packages (from chromedriver_autoinstaller) (24.0)\n",
      "Installing collected packages: chromedriver_autoinstaller\n",
      "Successfully installed chromedriver_autoinstaller-0.6.4\n"
     ]
    },
    {
     "name": "stderr",
     "output_type": "stream",
     "text": [
      "\n",
      "[notice] A new release of pip is available: 23.0.1 -> 24.0\n",
      "[notice] To update, run: python.exe -m pip install --upgrade pip\n"
     ]
    }
   ],
   "source": [
    "!pip install chromedriver_autoinstaller"
   ]
  },
  {
   "cell_type": "code",
   "execution_count": 3,
   "id": "d497412a-3e62-4b9e-8240-7c40ffd93d1f",
   "metadata": {},
   "outputs": [],
   "source": [
    "from selenium import webdriver\n",
    "from selenium.webdriver.common.keys import Keys"
   ]
  },
  {
   "cell_type": "code",
   "execution_count": 6,
   "id": "91d06b00-2317-4b6c-9ec6-70161917f120",
   "metadata": {},
   "outputs": [],
   "source": [
    "driver = webdriver.Chrome()"
   ]
  },
  {
   "cell_type": "code",
   "execution_count": 7,
   "id": "db1098af-b0e3-4f62-bc41-49ff4974e16e",
   "metadata": {},
   "outputs": [],
   "source": [
    "driver.get('https://www.google.com')"
   ]
  },
  {
   "cell_type": "code",
   "execution_count": 11,
   "id": "0766ca53-efbd-4cb2-9c8e-423c6cb252f4",
   "metadata": {},
   "outputs": [],
   "source": [
    "search = driver.find_element('name', 'q')\n",
    "search.send_keys('날씨')  "
   ]
  },
  {
   "cell_type": "code",
   "execution_count": 12,
   "id": "2cbbcf69-32b3-4410-a862-446588dddb13",
   "metadata": {},
   "outputs": [],
   "source": [
    "search.send_keys(Keys.RETURN)"
   ]
  },
  {
   "cell_type": "code",
   "execution_count": 14,
   "id": "59ede164-afbc-4e71-bde2-b113b43f8dbf",
   "metadata": {},
   "outputs": [],
   "source": [
    "# 정리\n",
    "driver = webdriver.Chrome() # 크롬 브라우저 띄우기\n",
    "driver.get('https://www.google.com') # 구글로 이동하기\n",
    "search = driver.find_element('name', 'q') # 검색창 요소 찾기\n",
    "search.send_keys('미세먼지') # 검색창에 날씨 문자열 적기\n",
    "search.send_keys(Keys.RETURN) # 엔터키 누르기"
   ]
  },
  {
   "cell_type": "markdown",
   "id": "657c4cd5-f430-4716-8323-6c8e5222c6a1",
   "metadata": {},
   "source": [
    "# **2. 네이버 웹툰**\n",
    "* https://comic.naver.com/webtoon/detail?titleId=812354&no=52&week=thu\n",
    "* 웹툰 내 댓글 가져오기"
   ]
  },
  {
   "cell_type": "code",
   "execution_count": 27,
   "id": "e79199bf-1686-4d16-9ecd-5850e1860726",
   "metadata": {},
   "outputs": [],
   "source": [
    "driver = webdriver.Chrome()\n",
    "driver.get('https://comic.naver.com/webtoon/detail?titleId=812354&no=52&week=thu')"
   ]
  },
  {
   "cell_type": "code",
   "execution_count": 17,
   "id": "4847f97a-b5ed-4162-8ff6-b27fcd3b0f7d",
   "metadata": {},
   "outputs": [
    {
     "name": "stdout",
     "output_type": "stream",
     "text": [
      "Collecting bs4\n",
      "  Downloading bs4-0.0.2-py2.py3-none-any.whl (1.2 kB)\n",
      "Requirement already satisfied: beautifulsoup4 in c:\\users\\user\\appdata\\local\\programs\\python\\python310\\lib\\site-packages (from bs4) (4.12.3)\n",
      "Requirement already satisfied: soupsieve>1.2 in c:\\users\\user\\appdata\\local\\programs\\python\\python310\\lib\\site-packages (from beautifulsoup4->bs4) (2.5)\n",
      "Installing collected packages: bs4\n",
      "Successfully installed bs4-0.0.2\n"
     ]
    },
    {
     "name": "stderr",
     "output_type": "stream",
     "text": [
      "\n",
      "[notice] A new release of pip is available: 23.0.1 -> 24.0\n",
      "[notice] To update, run: python.exe -m pip install --upgrade pip\n"
     ]
    }
   ],
   "source": [
    "!pip install bs4 \n",
    "# beautifulsoup"
   ]
  },
  {
   "cell_type": "code",
   "execution_count": 18,
   "id": "b9fce668-3f1d-475f-b132-537c8deec16e",
   "metadata": {},
   "outputs": [],
   "source": [
    "from bs4 import BeautifulSoup"
   ]
  },
  {
   "cell_type": "code",
   "execution_count": 28,
   "id": "e76ae510-7a2e-4c3f-bf36-0c057e01124c",
   "metadata": {},
   "outputs": [],
   "source": [
    "soup = BeautifulSoup(driver.page_source) # 셀레니움을 사용하고 있기 때문에 페이지 소스를 넣어줘야함"
   ]
  },
  {
   "cell_type": "code",
   "execution_count": 29,
   "id": "47cbf12f-78be-4e23-a643-1485104f7fa2",
   "metadata": {},
   "outputs": [
    {
     "name": "stdout",
     "output_type": "stream",
     "text": [
      "[<span class=\"u_cbox_contents\" data-lang=\"ko\" style=\"\">썸바디헬미</span>, <span class=\"u_cbox_contents\" data-lang=\"ko\" style=\"\">유난히 내성적이었던 어린 하미</span>, <span class=\"u_cbox_contents\" data-lang=\"ko\" style=\"\">아 씨 개웃겨</span>, <span class=\"u_cbox_contents\" data-lang=\"ko\" style=\"\">아빠 다이어트 시키는 효자 ㄷㄷ</span>, <span class=\"u_cbox_contents\" data-lang=\"ko\" style=\"\">방금 움직였어! &lt;&lt; 임신 중기잠 좀 자자 =_= &lt;&lt; 임신 후기\n",
      "ㅋㅋㅋㅋ 저도 지금 잠 좀 자자 상태여서 매우 공감가네요</span>, <span class=\"u_cbox_contents\" data-lang=\"ko\" style=\"\">아 내 감동 돌려줘요</span>, <span class=\"u_cbox_contents\" data-lang=\"ko\" style=\"\">아기가 딸꾹질을 한다고?? 그리고 그걸 느낄 수 있다고???</span>, <span class=\"u_cbox_contents\" data-lang=\"ko\" style=\"\">표현이진짴ㅋㅋㅋㅋㅋㅋㅋㅋㅋㅋㅋ</span>, <span class=\"u_cbox_contents\" data-lang=\"ko\" style=\"\">표현에 진짴ㅋㅋㅋㅋㅋㅋㅋ자까님의 리얼리즘에 또한번 놀랍니다</span>, <span class=\"u_cbox_contents\" data-lang=\"ko\" style=\"\">뭐지 다리찢기한건가??</span>, <span class=\"u_cbox_contents\" data-lang=\"ko\" style=\"\">미쳤나봨ㅋㅋㅋㅋㅋㅋㅋㅋㅋㅋㅋㅋㄱ</span>, <span class=\"u_cbox_contents\" data-lang=\"ko\" style=\"\">틀린 말은 아닌데..</span>, <span class=\"u_cbox_contents\" data-lang=\"ko\" style=\"\">제 뱃속에는 지방이 있습니다</span>, <span class=\"u_cbox_contents\" data-lang=\"ko\" style=\"\">자유로운 우리를 봐 자유로워</span>, <span class=\"u_cbox_contents\" data-lang=\"ko\" style=\"\">ㅋㅋㅋㅋㅋㅋㅋㅋㅋㅋ효자네 다이어트 시켜주곸ㅋㅋㅋㅋㅋ</span>]\n"
     ]
    }
   ],
   "source": [
    "# 그 뒤는 코랩에서 beautifulsoup 사용한 것과 동일\n",
    "comment_area = soup.find_all('span', {'class', 'u_cbox_contents'})\n",
    "print(comment_area)"
   ]
  },
  {
   "cell_type": "code",
   "execution_count": 30,
   "id": "c923065c-6de5-4c4d-8f8d-bc2a9b640a7f",
   "metadata": {},
   "outputs": [
    {
     "name": "stdout",
     "output_type": "stream",
     "text": [
      "********** 베스트 댓글 **********\n",
      "썸바디헬미\n",
      "------------------------------\n",
      "유난히 내성적이었던 어린 하미\n",
      "------------------------------\n",
      "아 씨 개웃겨\n",
      "------------------------------\n",
      "아빠 다이어트 시키는 효자 ㄷㄷ\n",
      "------------------------------\n",
      "방금 움직였어! << 임신 중기잠 좀 자자 =_= << 임신 후기\n",
      "ㅋㅋㅋㅋ 저도 지금 잠 좀 자자 상태여서 매우 공감가네요\n",
      "------------------------------\n",
      "아 내 감동 돌려줘요\n",
      "------------------------------\n",
      "아기가 딸꾹질을 한다고?? 그리고 그걸 느낄 수 있다고???\n",
      "------------------------------\n",
      "표현이진짴ㅋㅋㅋㅋㅋㅋㅋㅋㅋㅋㅋ\n",
      "------------------------------\n",
      "표현에 진짴ㅋㅋㅋㅋㅋㅋㅋ자까님의 리얼리즘에 또한번 놀랍니다\n",
      "------------------------------\n",
      "뭐지 다리찢기한건가??\n",
      "------------------------------\n",
      "미쳤나봨ㅋㅋㅋㅋㅋㅋㅋㅋㅋㅋㅋㅋㄱ\n",
      "------------------------------\n",
      "틀린 말은 아닌데..\n",
      "------------------------------\n",
      "제 뱃속에는 지방이 있습니다\n",
      "------------------------------\n",
      "자유로운 우리를 봐 자유로워\n",
      "------------------------------\n",
      "ㅋㅋㅋㅋㅋㅋㅋㅋㅋㅋ효자네 다이어트 시켜주곸ㅋㅋㅋㅋㅋ\n",
      "------------------------------\n"
     ]
    }
   ],
   "source": [
    "print('********** 베스트 댓글 **********')\n",
    "for i in range(len(comment_area)):\n",
    "    comment = comment_area[i].text.strip()\n",
    "    print(comment)\n",
    "    print('-' * 30)"
   ]
  },
  {
   "cell_type": "code",
   "execution_count": 31,
   "id": "a8651b51-5407-446a-9f6b-b52ff93d7a11",
   "metadata": {},
   "outputs": [],
   "source": [
    "# best댓글에서 전체댓글로 넘어갈 때 코드가 바뀜.\n",
    "# 하지만 베댓 버튼과 전댓 버튼의 class명이 같음"
   ]
  },
  {
   "cell_type": "markdown",
   "id": "18b52709-7303-4fc3-8be4-4f704fb4dbcd",
   "metadata": {},
   "source": [
    "* Xpath: 기존의 컴퓨터 파일 시스템에서 사용하는 경로 표현식과 유사한 경로 언어\n",
    "* html에서 경로를 알고싶은 부분에 우클릭>Copy>Copy full XPath 누르면 경로 가져와\n",
    "  * 예) /html/body/div[1]/div[5]/div/div/div[5]/div[1]/div[3]/div/div/div[4]/div[1]/div/ul/li[2]/a/span[2]"
   ]
  },
  {
   "cell_type": "code",
   "execution_count": 37,
   "id": "97c92977-3bfb-4f21-b130-1bc485f44631",
   "metadata": {},
   "outputs": [],
   "source": [
    "driver.find_element('xpath', '/html/body/div[1]/div[5]/div/div/div[4]/div[1]/div[3]/div/div/div[4]/div[1]/div/ul/li[2]/a/span[2]').click()"
   ]
  },
  {
   "cell_type": "code",
   "execution_count": 38,
   "id": "620d28ab-e211-4c21-b3bd-1a69e36e10f4",
   "metadata": {},
   "outputs": [],
   "source": [
    "soup = BeautifulSoup(driver.page_source) "
   ]
  },
  {
   "cell_type": "code",
   "execution_count": 39,
   "id": "4793da28-6161-49b0-b7f1-e73e15b0512a",
   "metadata": {},
   "outputs": [
    {
     "name": "stdout",
     "output_type": "stream",
     "text": [
      "[<span class=\"u_cbox_contents\" data-lang=\"ko\" style=\"\">진짜 방귀 나오려나 보다 싶은 표정ㅋㅋㅋㅋㅋㅋㅋㅋㅋㅋ</span>, <span class=\"u_cbox_contents\" data-lang=\"ko\" style=\"\">엄청 졸리겠다.. 이러고 어케 일하나요??</span>, <span class=\"u_cbox_contents\" data-lang=\"ko\" style=\"\">우리 둘째, 곱창 흡입하는데 내장 뻥 차고.. 셋째는 밥먹는데 갈비뼈 차서 시엄니 앞에서 젓가락 떨어뜨리고 어어억허어억 시전한 사람 되었습니다.</span>, <span class=\"u_cbox_contents\" data-lang=\"ko\" style=\"\">8주~10주 사이가 바로 요 시기입니다. 초음파 보면 진짜로 하리보가 뱃속에서 뽀잉뽀잉 놀고 있어요~ 12주만 되어도 사람꼴 박히니 딱 저 짧은 시기에만 볼 수 있습니당ㅎㅎ</span>, <span class=\"u_cbox_contents\" data-lang=\"ko\" style=\"\">ㅋㅋㅋㅋ조용ㅋㄱ넘 웃겨용저는 두부.과일.요거트.목살.순두부찌개\n",
      "견과류.빵(소양증시기빼고).마시는거.얼음(아이스쿨).레몬사탕.초코우유.시리얼.족발.면종류 마니먹었는데말이쥬ㅋㅋ그래서 아들이 고기류를 잘안먹어요🤣</span>, <span class=\"u_cbox_contents\" data-lang=\"ko\" style=\"\">대사는 영화 에일리언 에서나 나올 법한 대사룰 하시네...</span>, <span class=\"u_cbox_contents\" data-lang=\"ko\" style=\"\">지건 ㅋㅋㅋㅋㅋㅋㅋㅋ</span>, <span class=\"u_cbox_contents\" data-lang=\"ko\" style=\"\">태동 동영상 열심히 찍어놨는데 애기 낳고 보니내가 숨쉬어서 배가 움직이는건지 태동에 움직이는건지!!! ㅋㅋㅋㅋ 저도 헷갈리더라구여</span>, <span class=\"u_cbox_contents\" data-lang=\"ko\" style=\"\">이런 거 성교육 시간에 좀 알려줬으면</span>, <span class=\"u_cbox_contents\" data-lang=\"ko\" style=\"\">울 애기도 밤 12시만 되면 귀신같이 알고(?) 배를 막 차댔는데 ㅎㅎㅎㅎ</span>, <span class=\"u_cbox_contents\" data-lang=\"ko\" style=\"\">얘가 활어네</span>, <span class=\"u_cbox_contents\" data-lang=\"ko\" style=\"\">오늘도 자다가 애기가 꾸물텅거려서 깼네용.... 매일 그래요...ㅋ</span>, <span class=\"u_cbox_contents\" data-lang=\"ko\" style=\"\">딸꾹질 엄청 자주해요 ㅋㅋㅋ 초음파 보러갔을때도 딸꾹질 하고있어서 봤는데 너무 귀여움ㅋㅋㅋㅋ</span>, <span class=\"u_cbox_contents\" data-lang=\"ko\" style=\"\">층간소음 공익광고를ㅋㅋㅋㄱㅋㅋㅋ</span>, <span class=\"u_cbox_contents\" data-lang=\"ko\" style=\"\">와우~ 판타스틱 베이비! 댄스~</span>]\n"
     ]
    }
   ],
   "source": [
    "comment_area = soup.find_all('span', {'class', 'u_cbox_contents'})\n",
    "print(comment_area)"
   ]
  },
  {
   "cell_type": "code",
   "execution_count": 40,
   "id": "2e468955-f5bf-4209-b419-95e6292ed40c",
   "metadata": {},
   "outputs": [
    {
     "name": "stdout",
     "output_type": "stream",
     "text": [
      "********** 전체 댓글 **********\n",
      "진짜 방귀 나오려나 보다 싶은 표정ㅋㅋㅋㅋㅋㅋㅋㅋㅋㅋ\n",
      "------------------------------\n",
      "엄청 졸리겠다.. 이러고 어케 일하나요??\n",
      "------------------------------\n",
      "우리 둘째, 곱창 흡입하는데 내장 뻥 차고.. 셋째는 밥먹는데 갈비뼈 차서 시엄니 앞에서 젓가락 떨어뜨리고 어어억허어억 시전한 사람 되었습니다.\n",
      "------------------------------\n",
      "8주~10주 사이가 바로 요 시기입니다. 초음파 보면 진짜로 하리보가 뱃속에서 뽀잉뽀잉 놀고 있어요~ 12주만 되어도 사람꼴 박히니 딱 저 짧은 시기에만 볼 수 있습니당ㅎㅎ\n",
      "------------------------------\n",
      "ㅋㅋㅋㅋ조용ㅋㄱ넘 웃겨용저는 두부.과일.요거트.목살.순두부찌개\n",
      "견과류.빵(소양증시기빼고).마시는거.얼음(아이스쿨).레몬사탕.초코우유.시리얼.족발.면종류 마니먹었는데말이쥬ㅋㅋ그래서 아들이 고기류를 잘안먹어요🤣\n",
      "------------------------------\n",
      "대사는 영화 에일리언 에서나 나올 법한 대사룰 하시네...\n",
      "------------------------------\n",
      "지건 ㅋㅋㅋㅋㅋㅋㅋㅋ\n",
      "------------------------------\n",
      "태동 동영상 열심히 찍어놨는데 애기 낳고 보니내가 숨쉬어서 배가 움직이는건지 태동에 움직이는건지!!! ㅋㅋㅋㅋ 저도 헷갈리더라구여\n",
      "------------------------------\n",
      "이런 거 성교육 시간에 좀 알려줬으면\n",
      "------------------------------\n",
      "울 애기도 밤 12시만 되면 귀신같이 알고(?) 배를 막 차댔는데 ㅎㅎㅎㅎ\n",
      "------------------------------\n",
      "얘가 활어네\n",
      "------------------------------\n",
      "오늘도 자다가 애기가 꾸물텅거려서 깼네용.... 매일 그래요...ㅋ\n",
      "------------------------------\n",
      "딸꾹질 엄청 자주해요 ㅋㅋㅋ 초음파 보러갔을때도 딸꾹질 하고있어서 봤는데 너무 귀여움ㅋㅋㅋㅋ\n",
      "------------------------------\n",
      "층간소음 공익광고를ㅋㅋㅋㄱㅋㅋㅋ\n",
      "------------------------------\n",
      "와우~ 판타스틱 베이비! 댄스~\n",
      "------------------------------\n"
     ]
    }
   ],
   "source": [
    "print('********** 전체 댓글 **********')\n",
    "for i in range(len(comment_area)):\n",
    "    comment = comment_area[i].text.strip()\n",
    "    print(comment)\n",
    "    print('-' * 30)"
   ]
  },
  {
   "cell_type": "code",
   "execution_count": null,
   "id": "81a6a52d-20d9-4efc-9ec5-0b2f02970863",
   "metadata": {},
   "outputs": [],
   "source": []
  }
 ],
 "metadata": {
  "kernelspec": {
   "display_name": "Python 3 (ipykernel)",
   "language": "python",
   "name": "python3"
  },
  "language_info": {
   "codemirror_mode": {
    "name": "ipython",
    "version": 3
   },
   "file_extension": ".py",
   "mimetype": "text/x-python",
   "name": "python",
   "nbconvert_exporter": "python",
   "pygments_lexer": "ipython3",
   "version": "3.10.11"
  }
 },
 "nbformat": 4,
 "nbformat_minor": 5
}
