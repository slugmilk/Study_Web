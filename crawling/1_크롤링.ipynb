{
  "nbformat": 4,
  "nbformat_minor": 0,
  "metadata": {
    "colab": {
      "provenance": [],
      "authorship_tag": "ABX9TyOJsSwKlT/fuNoXqFvQmGnZ",
      "include_colab_link": true
    },
    "kernelspec": {
      "name": "python3",
      "display_name": "Python 3"
    },
    "language_info": {
      "name": "python"
    }
  },
  "cells": [
    {
      "cell_type": "markdown",
      "metadata": {
        "id": "view-in-github",
        "colab_type": "text"
      },
      "source": [
        "<a href=\"https://colab.research.google.com/github/slugmilk/Study_Web/blob/main/1_%ED%81%AC%EB%A1%A4%EB%A7%81.ipynb\" target=\"_parent\"><img src=\"https://colab.research.google.com/assets/colab-badge.svg\" alt=\"Open In Colab\"/></a>"
      ]
    },
    {
      "cell_type": "markdown",
      "source": [
        "# **1. 크롤링과 스크레이핑**\n",
        "* 크롤링(Crawling): 인터넷의 데이터를 활용하기 위해 정보들을 분석하고 활용할 수 있도록 수집하는 행위\n",
        "* 스크레이핑(Scraping): 크롤링 + 데이터를 추출하고 가공하는 행위"
      ],
      "metadata": {
        "id": "ODLjOgnb5J-e"
      }
    },
    {
      "cell_type": "markdown",
      "source": [
        "# **2. Basic English Speaking**"
      ],
      "metadata": {
        "id": "XFiJl-bk5mSn"
      }
    },
    {
      "cell_type": "code",
      "source": [
        "import requests\n",
        "from bs4 import BeautifulSoup"
      ],
      "metadata": {
        "id": "ypoW2Jx155ZV"
      },
      "execution_count": null,
      "outputs": []
    },
    {
      "cell_type": "code",
      "source": [
        "site = 'https://basicenglishspeaking.com/daily-english-conversation-topics/'\n",
        "request = requests.get(site) # url에 접속\n",
        "print(request)\n",
        "# print(request.text)\n",
        "# 사이트의 html 출력됨"
      ],
      "metadata": {
        "colab": {
          "base_uri": "https://localhost:8080/"
        },
        "id": "paHR6s1l6dJ7",
        "outputId": "2ca38153-6765-46fc-ea47-b9bbf5dc6e84"
      },
      "execution_count": null,
      "outputs": [
        {
          "output_type": "stream",
          "name": "stdout",
          "text": [
            "<Response [200]>\n"
          ]
        }
      ]
    },
    {
      "cell_type": "code",
      "source": [
        "soup = BeautifulSoup(request.text) # 사이트의 html을 마음대로 추출할 수 있는 객체 생성됨"
      ],
      "metadata": {
        "id": "CCENr46G67yf"
      },
      "execution_count": null,
      "outputs": []
    },
    {
      "cell_type": "code",
      "source": [
        "# 추출하고 싶은 부분을 우클릭해 검사를 누르면 html에 어느부분인지 알 수 있다.\n",
        "divs = soup.find('div', {'class':'thrv-columns'})\n",
        "print(divs)"
      ],
      "metadata": {
        "colab": {
          "base_uri": "https://localhost:8080/"
        },
        "id": "vRwgnxHr7uEj",
        "outputId": "0237aae0-a85a-4e33-843e-6dfdbb2ac18e"
      },
      "execution_count": null,
      "outputs": [
        {
          "output_type": "stream",
          "name": "stdout",
          "text": [
            "<div class=\"thrv_wrapper thrv-columns\" style=\"--tcb-col-el-width:792;\"><div class=\"tcb-flex-row tcb--cols--3\"><div class=\"tcb-flex-col\"><div class=\"tcb-col\"><div class=\"thrv_wrapper thrv_text_element\"><p>1. <a class=\"tve-froala\" href=\"https://basicenglishspeaking.com/family/\" style=\"outline: none;\">Family</a><br/>2. <a class=\"tve-froala\" href=\"https://basicenglishspeaking.com/restaurant/\" style=\"outline: none;\">Restaurant</a><br/>3. <a href=\"https://basicenglishspeaking.com/books/\">Books</a><br/>4. <a href=\"https://basicenglishspeaking.com/travel/\">Travel</a><br/>5. <a href=\"https://basicenglishspeaking.com/website/\">Website</a><br/>6. <a href=\"https://basicenglishspeaking.com/accident/\">Accident</a><br/>7. <a class=\"tve-froala\" href=\"https://basicenglishspeaking.com/childhood-memory/\" style=\"outline: none;\">Childhood memory</a><br/>8. <a class=\"tve-froala\" href=\"https://basicenglishspeaking.com/favorite-rooms/\" style=\"outline: none;\">Favorite rooms</a><br/>9. <a href=\"https://basicenglishspeaking.com/presents/\">Presents</a><br/>10. <a class=\"tve-froala\" href=\"https://basicenglishspeaking.com/historical-place/\" style=\"outline: none;\">Historical place</a><br/>11. <a class=\"tve-froala\" href=\"https://basicenglishspeaking.com/newspaper-magazine/\" style=\"outline: none;\">Newspaper/ Magazine</a><br/>12. <a href=\"https://basicenglishspeaking.com/an-event/\">A memorable event</a><br/>13. <a href=\"https://basicenglishspeaking.com/a-subject/\">A favorite subject</a><br/>14. <a href=\"https://basicenglishspeaking.com/a-museum/\">A museum</a><br/>15. <a href=\"https://basicenglishspeaking.com/a-movie/\">A favorite movie</a><br/>16. <a href=\"https://basicenglishspeaking.com/a-foreign-country/\">A foreign country</a><br/>17. <a href=\"https://basicenglishspeaking.com/parties/\">Parties</a><br/>18. <a href=\"https://basicenglishspeaking.com/a-teacher/\">A teacher</a><br/>19. <a href=\"https://basicenglishspeaking.com/a-friend/\">A friend</a><br/>20. <a href=\"https://basicenglishspeaking.com/a-hotel/\">A hotel</a><br/>21. <a href=\"https://basicenglishspeaking.com/a-letter/\">A letter</a><br/>22. <a href=\"https://basicenglishspeaking.com/hobbies/\">Hobbies</a><br/>23. <a href=\"https://basicenglishspeaking.com/music/\">Music</a><br/>24. <a href=\"https://basicenglishspeaking.com/shopping/\">Shopping</a><br/>25. <a href=\"https://basicenglishspeaking.com/holiday/\">Holiday</a></p></div></div></div><div class=\"tcb-flex-col\"><div class=\"tcb-col\"><div class=\"thrv_wrapper thrv_text_element\"><p>26. <a class=\"tve-froala\" href=\"https://basicenglishspeaking.com/animals/\" style=\"outline: none;\">Animals</a><br/>27. <a class=\"tve-froala\" href=\"https://basicenglishspeaking.com/a-practical-skill/\" style=\"outline: none;\">A practical skill</a><br/>28. <a href=\"https://basicenglishspeaking.com/sports/\">Sport</a><br/>29. <a href=\"https://basicenglishspeaking.com/a-school/\">A School</a><br/>30. <a href=\"https://basicenglishspeaking.com/festival/\">Festival</a><br/>31. <a href=\"https://basicenglishspeaking.com/food/\">Food</a><br/>32. <a href=\"https://basicenglishspeaking.com/household-appliance/\">Household appliance</a><br/>33. <a href=\"https://basicenglishspeaking.com/a-music-band/\">A music band</a><br/>34. <a href=\"https://basicenglishspeaking.com/weather/\">Weather</a><br/>35. <a href=\"https://basicenglishspeaking.com/neighbor/\">Neighbor</a><br/>36. <a href=\"https://basicenglishspeaking.com/natural-scenery/\">Natural scenery</a><br/>37. <a href=\"https://basicenglishspeaking.com/outdoor-activities/\">Outdoor activities</a><br/>38. <a href=\"https://basicenglishspeaking.com/law/\">Law</a><br/>39. <a href=\"https://basicenglishspeaking.com/pollution/\">Pollution</a><br/>40. <a href=\"https://basicenglishspeaking.com/traffic-jam/\">Traffic jam</a><br/>41. <a href=\"https://basicenglishspeaking.com/tv-program/\">TV program</a><br/>42. <a href=\"https://basicenglishspeaking.com/architecture-building/\">Architect/ Building</a><br/>43. <a href=\"https://basicenglishspeaking.com/electronic-media/\">Electronic Media</a><br/>44. <a href=\"https://basicenglishspeaking.com/job-career/\">Job/ Career</a><br/>45. <a href=\"https://basicenglishspeaking.com/competition-contest/\">Competition/ contest</a><br/>46. <a href=\"https://basicenglishspeaking.com/a-garden/\">A garden</a><br/>47. <a href=\"https://basicenglishspeaking.com/hometown/\">Hometown</a><br/>48. <a href=\"https://basicenglishspeaking.com/clothing/\">Clothing</a><br/>49. <a href=\"https://basicenglishspeaking.com/an-advertisement/\">Advertisement</a><br/>50. <a href=\"https://basicenglishspeaking.com/a-project/\">A project</a></p></div></div></div><div class=\"tcb-flex-col\"><div class=\"tcb-col\"><div class=\"thrv_wrapper thrv_text_element\"><p>51. <a href=\"https://basicenglishspeaking.com/a-wedding/\">A wedding</a><br/>52. <a href=\"https://basicenglishspeaking.com/a-coffee-shop/\">A Coffee shop</a><br/>53. <a href=\"https://basicenglishspeaking.com/culture/\">Culture</a><br/>54. <a href=\"https://basicenglishspeaking.com/transport/\">Transport</a><br/>55. <a href=\"https://basicenglishspeaking.com/politician/\">Politician</a><br/>56. <a href=\"https://basicenglishspeaking.com/communication/\">Communication</a><br/>57. <a href=\"https://basicenglishspeaking.com/business/\">Business</a><br/>58. <a href=\"https://basicenglishspeaking.com/computer/\">Computer</a><br/>59. <a href=\"https://basicenglishspeaking.com/exercise/\">Exercise</a><br/>60. <a href=\"https://basicenglishspeaking.com/goal-ambition/\">Goal/ ambition</a><br/>61. <a href=\"https://basicenglishspeaking.com/art/\">Art</a><br/>62. <a href=\"https://basicenglishspeaking.com/fashion/\">Fashion</a><br/>63. <a href=\"https://basicenglishspeaking.com/jewelry/\">Jewelry</a><br/>64. <a href=\"https://basicenglishspeaking.com/cosmetic/\">Cosmetic</a><br/>65. <a href=\"https://basicenglishspeaking.com/indoor-game/\">Indoor Game</a><br/>66. <a href=\"https://basicenglishspeaking.com/phone-conversation/\">Phone conversation</a><br/>67. <a href=\"https://basicenglishspeaking.com/learning-second-language/\">Learning A Second language</a><br/>68. <a href=\"https://basicenglishspeaking.com/a-creative-person/\">A Creative Person</a><br/>69. <a href=\"https://basicenglishspeaking.com/a-celebrity/\">A celebrity</a><br/>70. <a href=\"https://basicenglishspeaking.com/a-health-problem/\">A Health Problem</a><br/>71. <a href=\"https://basicenglishspeaking.com/technological-advancements/\">Technological advancements</a><br/>72. <a href=\"https://basicenglishspeaking.com/a-landmark/\">A Landmark</a><br/>73. <a href=\"https://basicenglishspeaking.com/handcraft-items/\">Handcraft Items</a><br/>74. <a href=\"https://basicenglishspeaking.com/plastic-surgery/\">Plastic Surgery</a><br/>75. <a href=\"https://basicenglishspeaking.com/success/\">Success</a></p></div></div></div></div></div>\n"
          ]
        }
      ]
    },
    {
      "cell_type": "code",
      "source": [
        "links = divs.find_all('a') # 여러개 선택 가능. div의 앵커 태그를 모두 가져와 리스트로 저장\n",
        "print(links)"
      ],
      "metadata": {
        "colab": {
          "base_uri": "https://localhost:8080/"
        },
        "id": "GKAkuNFs86vb",
        "outputId": "8ff99162-4dd0-4a10-cb53-5cb6d9c0207b"
      },
      "execution_count": null,
      "outputs": [
        {
          "output_type": "stream",
          "name": "stdout",
          "text": [
            "[<a class=\"tve-froala\" href=\"https://basicenglishspeaking.com/family/\" style=\"outline: none;\">Family</a>, <a class=\"tve-froala\" href=\"https://basicenglishspeaking.com/restaurant/\" style=\"outline: none;\">Restaurant</a>, <a href=\"https://basicenglishspeaking.com/books/\">Books</a>, <a href=\"https://basicenglishspeaking.com/travel/\">Travel</a>, <a href=\"https://basicenglishspeaking.com/website/\">Website</a>, <a href=\"https://basicenglishspeaking.com/accident/\">Accident</a>, <a class=\"tve-froala\" href=\"https://basicenglishspeaking.com/childhood-memory/\" style=\"outline: none;\">Childhood memory</a>, <a class=\"tve-froala\" href=\"https://basicenglishspeaking.com/favorite-rooms/\" style=\"outline: none;\">Favorite rooms</a>, <a href=\"https://basicenglishspeaking.com/presents/\">Presents</a>, <a class=\"tve-froala\" href=\"https://basicenglishspeaking.com/historical-place/\" style=\"outline: none;\">Historical place</a>, <a class=\"tve-froala\" href=\"https://basicenglishspeaking.com/newspaper-magazine/\" style=\"outline: none;\">Newspaper/ Magazine</a>, <a href=\"https://basicenglishspeaking.com/an-event/\">A memorable event</a>, <a href=\"https://basicenglishspeaking.com/a-subject/\">A favorite subject</a>, <a href=\"https://basicenglishspeaking.com/a-museum/\">A museum</a>, <a href=\"https://basicenglishspeaking.com/a-movie/\">A favorite movie</a>, <a href=\"https://basicenglishspeaking.com/a-foreign-country/\">A foreign country</a>, <a href=\"https://basicenglishspeaking.com/parties/\">Parties</a>, <a href=\"https://basicenglishspeaking.com/a-teacher/\">A teacher</a>, <a href=\"https://basicenglishspeaking.com/a-friend/\">A friend</a>, <a href=\"https://basicenglishspeaking.com/a-hotel/\">A hotel</a>, <a href=\"https://basicenglishspeaking.com/a-letter/\">A letter</a>, <a href=\"https://basicenglishspeaking.com/hobbies/\">Hobbies</a>, <a href=\"https://basicenglishspeaking.com/music/\">Music</a>, <a href=\"https://basicenglishspeaking.com/shopping/\">Shopping</a>, <a href=\"https://basicenglishspeaking.com/holiday/\">Holiday</a>, <a class=\"tve-froala\" href=\"https://basicenglishspeaking.com/animals/\" style=\"outline: none;\">Animals</a>, <a class=\"tve-froala\" href=\"https://basicenglishspeaking.com/a-practical-skill/\" style=\"outline: none;\">A practical skill</a>, <a href=\"https://basicenglishspeaking.com/sports/\">Sport</a>, <a href=\"https://basicenglishspeaking.com/a-school/\">A School</a>, <a href=\"https://basicenglishspeaking.com/festival/\">Festival</a>, <a href=\"https://basicenglishspeaking.com/food/\">Food</a>, <a href=\"https://basicenglishspeaking.com/household-appliance/\">Household appliance</a>, <a href=\"https://basicenglishspeaking.com/a-music-band/\">A music band</a>, <a href=\"https://basicenglishspeaking.com/weather/\">Weather</a>, <a href=\"https://basicenglishspeaking.com/neighbor/\">Neighbor</a>, <a href=\"https://basicenglishspeaking.com/natural-scenery/\">Natural scenery</a>, <a href=\"https://basicenglishspeaking.com/outdoor-activities/\">Outdoor activities</a>, <a href=\"https://basicenglishspeaking.com/law/\">Law</a>, <a href=\"https://basicenglishspeaking.com/pollution/\">Pollution</a>, <a href=\"https://basicenglishspeaking.com/traffic-jam/\">Traffic jam</a>, <a href=\"https://basicenglishspeaking.com/tv-program/\">TV program</a>, <a href=\"https://basicenglishspeaking.com/architecture-building/\">Architect/ Building</a>, <a href=\"https://basicenglishspeaking.com/electronic-media/\">Electronic Media</a>, <a href=\"https://basicenglishspeaking.com/job-career/\">Job/ Career</a>, <a href=\"https://basicenglishspeaking.com/competition-contest/\">Competition/ contest</a>, <a href=\"https://basicenglishspeaking.com/a-garden/\">A garden</a>, <a href=\"https://basicenglishspeaking.com/hometown/\">Hometown</a>, <a href=\"https://basicenglishspeaking.com/clothing/\">Clothing</a>, <a href=\"https://basicenglishspeaking.com/an-advertisement/\">Advertisement</a>, <a href=\"https://basicenglishspeaking.com/a-project/\">A project</a>, <a href=\"https://basicenglishspeaking.com/a-wedding/\">A wedding</a>, <a href=\"https://basicenglishspeaking.com/a-coffee-shop/\">A Coffee shop</a>, <a href=\"https://basicenglishspeaking.com/culture/\">Culture</a>, <a href=\"https://basicenglishspeaking.com/transport/\">Transport</a>, <a href=\"https://basicenglishspeaking.com/politician/\">Politician</a>, <a href=\"https://basicenglishspeaking.com/communication/\">Communication</a>, <a href=\"https://basicenglishspeaking.com/business/\">Business</a>, <a href=\"https://basicenglishspeaking.com/computer/\">Computer</a>, <a href=\"https://basicenglishspeaking.com/exercise/\">Exercise</a>, <a href=\"https://basicenglishspeaking.com/goal-ambition/\">Goal/ ambition</a>, <a href=\"https://basicenglishspeaking.com/art/\">Art</a>, <a href=\"https://basicenglishspeaking.com/fashion/\">Fashion</a>, <a href=\"https://basicenglishspeaking.com/jewelry/\">Jewelry</a>, <a href=\"https://basicenglishspeaking.com/cosmetic/\">Cosmetic</a>, <a href=\"https://basicenglishspeaking.com/indoor-game/\">Indoor Game</a>, <a href=\"https://basicenglishspeaking.com/phone-conversation/\">Phone conversation</a>, <a href=\"https://basicenglishspeaking.com/learning-second-language/\">Learning A Second language</a>, <a href=\"https://basicenglishspeaking.com/a-creative-person/\">A Creative Person</a>, <a href=\"https://basicenglishspeaking.com/a-celebrity/\">A celebrity</a>, <a href=\"https://basicenglishspeaking.com/a-health-problem/\">A Health Problem</a>, <a href=\"https://basicenglishspeaking.com/technological-advancements/\">Technological advancements</a>, <a href=\"https://basicenglishspeaking.com/a-landmark/\">A Landmark</a>, <a href=\"https://basicenglishspeaking.com/handcraft-items/\">Handcraft Items</a>, <a href=\"https://basicenglishspeaking.com/plastic-surgery/\">Plastic Surgery</a>, <a href=\"https://basicenglishspeaking.com/success/\">Success</a>]\n"
          ]
        }
      ]
    },
    {
      "cell_type": "code",
      "source": [
        "for link in links:\n",
        "  print(link.text) # 태그 제외 텍스트만 가져옴"
      ],
      "metadata": {
        "colab": {
          "base_uri": "https://localhost:8080/"
        },
        "id": "M7474EfvAJ0d",
        "outputId": "3cbfc6c1-ba13-497c-dff4-f1b7c44b4874"
      },
      "execution_count": null,
      "outputs": [
        {
          "output_type": "stream",
          "name": "stdout",
          "text": [
            "Family\n",
            "Restaurant\n",
            "Books\n",
            "Travel\n",
            "Website\n",
            "Accident\n",
            "Childhood memory\n",
            "Favorite rooms\n",
            "Presents\n",
            "Historical place\n",
            "Newspaper/ Magazine\n",
            "A memorable event\n",
            "A favorite subject\n",
            "A museum\n",
            "A favorite movie\n",
            "A foreign country\n",
            "Parties\n",
            "A teacher\n",
            "A friend\n",
            "A hotel\n",
            "A letter\n",
            "Hobbies\n",
            "Music\n",
            "Shopping\n",
            "Holiday\n",
            "Animals\n",
            "A practical skill\n",
            "Sport\n",
            "A School\n",
            "Festival\n",
            "Food\n",
            "Household appliance\n",
            "A music band\n",
            "Weather\n",
            "Neighbor\n",
            "Natural scenery\n",
            "Outdoor activities\n",
            "Law\n",
            "Pollution\n",
            "Traffic jam\n",
            "TV program\n",
            "Architect/ Building\n",
            "Electronic Media\n",
            "Job/ Career\n",
            "Competition/ contest\n",
            "A garden\n",
            "Hometown\n",
            "Clothing\n",
            "Advertisement\n",
            "A project\n",
            "A wedding\n",
            "A Coffee shop\n",
            "Culture\n",
            "Transport\n",
            "Politician\n",
            "Communication\n",
            "Business\n",
            "Computer\n",
            "Exercise\n",
            "Goal/ ambition\n",
            "Art\n",
            "Fashion\n",
            "Jewelry\n",
            "Cosmetic\n",
            "Indoor Game\n",
            "Phone conversation\n",
            "Learning A Second language\n",
            "A Creative Person\n",
            "A celebrity\n",
            "A Health Problem\n",
            "Technological advancements\n",
            "A Landmark\n",
            "Handcraft Items\n",
            "Plastic Surgery\n",
            "Success\n"
          ]
        }
      ]
    },
    {
      "cell_type": "code",
      "source": [
        "subject = []\n",
        "\n",
        "for link in links:\n",
        "  subject.append(link.text)"
      ],
      "metadata": {
        "id": "7AE4ogifAjZm"
      },
      "execution_count": null,
      "outputs": []
    },
    {
      "cell_type": "code",
      "source": [
        "print(subject)\n",
        "print(len(subject))"
      ],
      "metadata": {
        "colab": {
          "base_uri": "https://localhost:8080/"
        },
        "id": "UXl6zBBTA0kV",
        "outputId": "22ac53d2-8ed8-48e7-8731-3113251412c6"
      },
      "execution_count": null,
      "outputs": [
        {
          "output_type": "stream",
          "name": "stdout",
          "text": [
            "['Family', 'Restaurant', 'Books', 'Travel', 'Website', 'Accident', 'Childhood memory', 'Favorite rooms', 'Presents', 'Historical place', 'Newspaper/ Magazine', 'A memorable event', 'A favorite subject', 'A museum', 'A favorite movie', 'A foreign country', 'Parties', 'A teacher', 'A friend', 'A hotel', 'A letter', 'Hobbies', 'Music', 'Shopping', 'Holiday', 'Animals', 'A practical skill', 'Sport', 'A School', 'Festival', 'Food', 'Household appliance', 'A music band', 'Weather', 'Neighbor', 'Natural scenery', 'Outdoor activities', 'Law', 'Pollution', 'Traffic jam', 'TV program', 'Architect/ Building', 'Electronic Media', 'Job/ Career', 'Competition/ contest', 'A garden', 'Hometown', 'Clothing', 'Advertisement', 'A project', 'A wedding', 'A Coffee shop', 'Culture', 'Transport', 'Politician', 'Communication', 'Business', 'Computer', 'Exercise', 'Goal/ ambition', 'Art', 'Fashion', 'Jewelry', 'Cosmetic', 'Indoor Game', 'Phone conversation', 'Learning A Second language', 'A\\xa0Creative Person', 'A celebrity', 'A Health Problem', 'Technological advancements', 'A Landmark', 'Handcraft Items', 'Plastic Surgery', 'Success']\n",
            "75\n"
          ]
        }
      ]
    },
    {
      "cell_type": "code",
      "source": [
        "print(f'총 {len(subject)}개의 주제를 찾았습니다.')\n",
        "for i in range(len(subject)):\n",
        "  print(f'{i+1}. {subject[i]}')"
      ],
      "metadata": {
        "colab": {
          "base_uri": "https://localhost:8080/"
        },
        "id": "amg7bkD9A4Wc",
        "outputId": "fbf44fd0-f883-4c24-9f25-066b15f38da2"
      },
      "execution_count": null,
      "outputs": [
        {
          "output_type": "stream",
          "name": "stdout",
          "text": [
            "총 75개의 주제를 찾았습니다.\n",
            "1. Family\n",
            "2. Restaurant\n",
            "3. Books\n",
            "4. Travel\n",
            "5. Website\n",
            "6. Accident\n",
            "7. Childhood memory\n",
            "8. Favorite rooms\n",
            "9. Presents\n",
            "10. Historical place\n",
            "11. Newspaper/ Magazine\n",
            "12. A memorable event\n",
            "13. A favorite subject\n",
            "14. A museum\n",
            "15. A favorite movie\n",
            "16. A foreign country\n",
            "17. Parties\n",
            "18. A teacher\n",
            "19. A friend\n",
            "20. A hotel\n",
            "21. A letter\n",
            "22. Hobbies\n",
            "23. Music\n",
            "24. Shopping\n",
            "25. Holiday\n",
            "26. Animals\n",
            "27. A practical skill\n",
            "28. Sport\n",
            "29. A School\n",
            "30. Festival\n",
            "31. Food\n",
            "32. Household appliance\n",
            "33. A music band\n",
            "34. Weather\n",
            "35. Neighbor\n",
            "36. Natural scenery\n",
            "37. Outdoor activities\n",
            "38. Law\n",
            "39. Pollution\n",
            "40. Traffic jam\n",
            "41. TV program\n",
            "42. Architect/ Building\n",
            "43. Electronic Media\n",
            "44. Job/ Career\n",
            "45. Competition/ contest\n",
            "46. A garden\n",
            "47. Hometown\n",
            "48. Clothing\n",
            "49. Advertisement\n",
            "50. A project\n",
            "51. A wedding\n",
            "52. A Coffee shop\n",
            "53. Culture\n",
            "54. Transport\n",
            "55. Politician\n",
            "56. Communication\n",
            "57. Business\n",
            "58. Computer\n",
            "59. Exercise\n",
            "60. Goal/ ambition\n",
            "61. Art\n",
            "62. Fashion\n",
            "63. Jewelry\n",
            "64. Cosmetic\n",
            "65. Indoor Game\n",
            "66. Phone conversation\n",
            "67. Learning A Second language\n",
            "68. A Creative Person\n",
            "69. A celebrity\n",
            "70. A Health Problem\n",
            "71. Technological advancements\n",
            "72. A Landmark\n",
            "73. Handcraft Items\n",
            "74. Plastic Surgery\n",
            "75. Success\n"
          ]
        }
      ]
    },
    {
      "cell_type": "markdown",
      "source": [
        "# **3. 다음 뉴스기사**"
      ],
      "metadata": {
        "id": "TFIVVMVUBIgq"
      }
    },
    {
      "cell_type": "code",
      "source": [
        "# https://v.daum.net/v/20240522164254322\n",
        "# https://v.daum.net/v/20240522181555596\n",
        "# https://v.daum.net/v/20240522180910371\n",
        "\n",
        "# 주소 맨 뒤의 번호를 주면 기사 제목을 return하는 함수\n",
        "def daum_news_title(news_id):\n",
        "  url = f'https://v.daum.net/v/{news_id}'\n",
        "  request = requests.get(url)\n",
        "  soup = BeautifulSoup(request.text)\n",
        "  title = soup.find('h3', {'class':'tit_view'})\n",
        "  if title:\n",
        "    return title.text.strip() # 제목 양 옆 공백 제거\n",
        "  return '제목없음' # 제목 없으면 제목없음 반환"
      ],
      "metadata": {
        "id": "1pz3uFmDBle6"
      },
      "execution_count": null,
      "outputs": []
    },
    {
      "cell_type": "code",
      "source": [
        "daum_news_title('20240522164254322')\n",
        "daum_news_title('20240522181555596')\n",
        "daum_news_title('20240522180910371')"
      ],
      "metadata": {
        "colab": {
          "base_uri": "https://localhost:8080/",
          "height": 35
        },
        "id": "HAtDD2xkCW_K",
        "outputId": "87292745-a4db-4c8e-fd13-91486e40ac7b"
      },
      "execution_count": null,
      "outputs": [
        {
          "output_type": "execute_result",
          "data": {
            "text/plain": [
              "'AI컴퓨터가 전부 캡처…과거 작업화면 필요할때 불러온다'"
            ],
            "application/vnd.google.colaboratory.intrinsic+json": {
              "type": "string"
            }
          },
          "metadata": {},
          "execution_count": 13
        }
      ]
    },
    {
      "cell_type": "markdown",
      "source": [
        "# **4. 벅스 뮤직 차트**"
      ],
      "metadata": {
        "id": "Z5GKDaDaCchU"
      }
    },
    {
      "cell_type": "code",
      "source": [
        "# 1위. Supernova - aespa\n",
        "# 2위. 해야 - IVE (아이브)\n",
        "# ... 100위 까지\n",
        "\n",
        "site = 'https://music.bugs.co.kr/chart'\n",
        "request = requests.get(site)"
      ],
      "metadata": {
        "id": "P-zPT-hKD0Oe"
      },
      "execution_count": null,
      "outputs": []
    },
    {
      "cell_type": "code",
      "source": [
        "soup = BeautifulSoup(request.text)\n",
        "\n",
        "titles = soup.find_all('p', {'class':'title'})"
      ],
      "metadata": {
        "id": "mcu8yFLIEQEj"
      },
      "execution_count": null,
      "outputs": []
    },
    {
      "cell_type": "code",
      "source": [
        "for title in titles:\n",
        "  print(title.text)"
      ],
      "metadata": {
        "colab": {
          "base_uri": "https://localhost:8080/"
        },
        "id": "vRO2OekQHuu4",
        "outputId": "e858610b-1181-4f06-8fa2-7fda89847f10"
      },
      "execution_count": null,
      "outputs": [
        {
          "output_type": "stream",
          "name": "stdout",
          "text": [
            "\n",
            "How Sweet\n",
            "\n",
            "\n",
            "Supernova\n",
            "\n",
            "\n",
            "Bubble Gum\n",
            "\n",
            "\n",
            "Armageddon\n",
            "\n",
            "\n",
            "소나기\n",
            "\n",
            "\n",
            "해야 (HEYA)\n",
            "\n",
            "\n",
            "고민중독\n",
            "\n",
            "\n",
            "SPOT! (feat. JENNIE)\n",
            "\n",
            "\n",
            "첫 만남은 계획대로 되지 않아\n",
            "\n",
            "\n",
            "Magnetic\n",
            "\n",
            "\n",
            "나는 아픈 건 딱 질색이니까\n",
            "\n",
            "\n",
            "Run Run\n",
            "\n",
            "\n",
            "SHEESH\n",
            "\n",
            "\n",
            "Welcome to the Show\n",
            "\n",
            "\n",
            "Girls Never Die\n",
            "\n",
            "\n",
            "한 페이지가 될 수 있게\n",
            "\n",
            "\n",
            "Accendio\n",
            "\n",
            "\n",
            "미안해 미워해 사랑해\n",
            "\n",
            "\n",
            "Hype Boy\n",
            "\n",
            "\n",
            "그랬나봐\n",
            "\n",
            "\n",
            "Star\n",
            "\n",
            "\n",
            "에피소드\n",
            "\n",
            "\n",
            "Attention\n",
            "\n",
            "\n",
            "밤양갱\n",
            "\n",
            "\n",
            "예뻤어\n",
            "\n",
            "\n",
            "Lucky Girl Syndrome\n",
            "\n",
            "\n",
            "ETA\n",
            "\n",
            "\n",
            "Midas Touch\n",
            "\n",
            "\n",
            "천상연\n",
            "\n",
            "\n",
            "New Jeans\n",
            "\n",
            "\n",
            "You & I\n",
            "\n",
            "\n",
            "I'll Be There\n",
            "\n",
            "\n",
            "그대만 있다면 (여름날 우리 X 너드커넥션 (Nerd Connection))\n",
            "\n",
            "\n",
            "만날테니까\n",
            "\n",
            "\n",
            "Super Shy\n",
            "\n",
            "\n",
            "Siren\n",
            "\n",
            "\n",
            "Ditto\n",
            "\n",
            "\n",
            "봄눈\n",
            "\n",
            "\n",
            "Spicy\n",
            "\n",
            "\n",
            "Drama\n",
            "\n",
            "\n",
            "I AM\n",
            "\n",
            "\n",
            "MANIAC\n",
            "\n",
            "\n",
            "꿈결같아서\n",
            "\n",
            "\n",
            "Blue Moon\n",
            "\n",
            "\n",
            "Get A Guitar\n",
            "\n",
            "\n",
            "Popcorn\n",
            "\n",
            "\n",
            "청춘찬가\n",
            "\n",
            "\n",
            "Love wins all\n",
            "\n",
            "\n",
            "To. X\n",
            "\n",
            "\n",
            "Impossible\n",
            "\n",
            "\n",
            "Discord\n",
            "\n",
            "\n",
            "OMG\n",
            "\n",
            "\n",
            "비의 랩소디\n",
            "\n",
            "\n",
            "Love me or Leave me\n",
            "\n",
            "\n",
            "멈춰줘\n",
            "\n",
            "\n",
            "MAESTRO\n",
            "\n",
            "\n",
            "헤어지자 말해요\n",
            "\n",
            "\n",
            "Smart\n",
            "\n",
            "\n",
            "HAPPY\n",
            "\n",
            "\n",
            "주저하는 연인들을 위해\n",
            "\n",
            "\n",
            "After LIKE\n",
            "\n",
            "\n",
            "홀씨\n",
            "\n",
            "\n",
            "너의 모든 순간\n",
            "\n",
            "\n",
            "그랬나봐\n",
            "\n",
            "\n",
            "모든 날, 모든 순간 (Every day, Every Moment)\n",
            "\n",
            "\n",
            "청혼하지 않을 이유를 못 찾았어\n",
            "\n",
            "\n",
            "Love 119\n",
            "\n",
            "\n",
            "사건의 지평선\n",
            "\n",
            "\n",
            "EASY\n",
            "\n",
            "\n",
            "Steal The Show (From “엘리멘탈”)\n",
            "\n",
            "\n",
            "Love Lee\n",
            "\n",
            "\n",
            "사랑인가 봐\n",
            "\n",
            "\n",
            "DASH\n",
            "\n",
            "\n",
            "Obsessed\n",
            "\n",
            "\n",
            "꿈\n",
            "\n",
            "\n",
            "You & Me\n",
            "\n",
            "\n",
            "Perfect Night\n",
            "\n",
            "\n",
            "Seven (feat. Latto) - Clean Ver.\n",
            "\n",
            "\n",
            "WORK\n",
            "\n",
            "\n",
            "건물 사이에 피어난 장미 (Rose Blossom)\n",
            "\n",
            "\n",
            "숲\n",
            "\n",
            "\n",
            "LOVE DIVE\n",
            "\n",
            "\n",
            "Dangerously\n",
            "\n",
            "\n",
            "후라이의 꿈\n",
            "\n",
            "\n",
            "반딧불 (Little Light)\n",
            "\n",
            "\n",
            "사랑은 늘 도망가\n",
            "\n",
            "\n",
            "인사\n",
            "\n",
            "\n",
            "Yes or No (Feat. 허윤진 of LE SSERAFIM, Crush)\n",
            "\n",
            "\n",
            "Wife\n",
            "\n",
            "\n",
            "퀸카 (Queencard)\n",
            "\n",
            "\n",
            "Kitsch\n",
            "\n",
            "\n",
            "Mars\n",
            "\n",
            "\n",
            "I Don’t Think That I Like Her\n",
            "\n",
            "\n",
            "Shopper\n",
            "\n",
            "\n",
            "Live My Life\n",
            "\n",
            "\n",
            "When I Get Old\n",
            "\n",
            "\n",
            "A Day\n",
            "\n",
            "\n",
            "By Your Side\n",
            "\n",
            "\n",
            "Baddie\n",
            "\n",
            "\n",
            "좋아해요\n",
            "\n"
          ]
        }
      ]
    },
    {
      "cell_type": "code",
      "source": [
        "artists = soup.find_all('p', {'class':'artist'})\n",
        "\n",
        "for artist in artists:\n",
        "  print(artist.text)"
      ],
      "metadata": {
        "colab": {
          "base_uri": "https://localhost:8080/"
        },
        "id": "WWE7bvZ5FkoK",
        "outputId": "d8fc8123-7c79-40b6-a324-9b013dec6576"
      },
      "execution_count": null,
      "outputs": [
        {
          "output_type": "stream",
          "name": "stdout",
          "text": [
            "\n",
            "NewJeans\n",
            "\n",
            "\n",
            "aespa\n",
            "\n",
            "\n",
            "NewJeans\n",
            "\n",
            "\n",
            "aespa\n",
            "\n",
            "\n",
            "이클립스 (ECLIPSE)\n",
            "\n",
            "\n",
            "IVE (아이브)\n",
            "\n",
            "\n",
            "QWER\n",
            "\n",
            "\n",
            "지코 (ZICO)\n",
            "\n",
            "\n",
            "TWS (투어스)\n",
            "\n",
            "\n",
            "아일릿(ILLIT)\n",
            "\n",
            "\n",
            "(여자)아이들\n",
            "\n",
            "\n",
            "이클립스 (ECLIPSE)\n",
            "\n",
            "\n",
            "BABYMONSTER\n",
            "\n",
            "\n",
            "DAY6 (데이식스)\n",
            "\n",
            "\n",
            "tripleS (트리플에스)\n",
            "\n",
            "\n",
            "DAY6 (데이식스)\n",
            "\n",
            "\n",
            "IVE (아이브)\n",
            "\n",
            "\n",
            "Crush\n",
            "\n",
            "\n",
            "NewJeans\n",
            "\n",
            "\n",
            "유회승 (엔플라잉)\n",
            "\n",
            "\n",
            "엔플라잉(N.Flying)\n",
            "\n",
            "\n",
            "이무진\n",
            "\n",
            "\n",
            "NewJeans\n",
            "\n",
            "\n",
            "비비(BIBI)\n",
            "\n",
            "\n",
            "DAY6 (데이식스)\n",
            "\n",
            "\n",
            "아일릿(ILLIT)\n",
            "\n",
            "\n",
            "NewJeans\n",
            "\n",
            "\n",
            "KISS OF LIFE\n",
            "\n",
            "\n",
            "이창섭\n",
            "\n",
            "\n",
            "NewJeans\n",
            "\n",
            "\n",
            "이클립스 (ECLIPSE)\n",
            "\n",
            "\n",
            "이클립스 (ECLIPSE)\n",
            "\n",
            "\n",
            "너드커넥션(Nerd Connection)\n",
            "\n",
            "\n",
            "이클립스 (ECLIPSE)\n",
            "\n",
            "\n",
            "NewJeans\n",
            "\n",
            "\n",
            "RIIZE\n",
            "\n",
            "\n",
            "NewJeans\n",
            "\n",
            "\n",
            "10CM\n",
            "\n",
            "\n",
            "aespa\n",
            "\n",
            "\n",
            "aespa\n",
            "\n",
            "\n",
            "IVE (아이브)\n",
            "\n",
            "\n",
            "VIVIZ (비비지)\n",
            "\n",
            "\n",
            "민니 ((여자)아이들)\n",
            "\n",
            "\n",
            "엔플라잉(N.Flying)\n",
            "\n",
            "\n",
            "RIIZE\n",
            "\n",
            "\n",
            "도경수(D.O.)\n",
            "\n",
            "\n",
            "세븐틴(SEVENTEEN)\n",
            "\n",
            "\n",
            "아이유(IU)\n",
            "\n",
            "\n",
            "태연 (TAEYEON)\n",
            "\n",
            "\n",
            "RIIZE\n",
            "\n",
            "\n",
            "QWER\n",
            "\n",
            "\n",
            "NewJeans\n",
            "\n",
            "\n",
            "임재현\n",
            "\n",
            "\n",
            "DAY6 (데이식스)\n",
            "\n",
            "\n",
            "헤이즈(Heize)\n",
            "\n",
            "\n",
            "세븐틴(SEVENTEEN)\n",
            "\n",
            "\n",
            "박재정\n",
            "\n",
            "\n",
            "LE SSERAFIM (르세라핌)\n",
            "\n",
            "\n",
            "DAY6 (데이식스)\n",
            "\n",
            "\n",
            "잔나비\n",
            "\n",
            "\n",
            "IVE (아이브)\n",
            "\n",
            "\n",
            "아이유(IU)\n",
            "\n",
            "\n",
            "성시경\n",
            "\n",
            "\n",
            "김형중\n",
            "\n",
            "\n",
            "폴킴(Paul Kim)\n",
            "\n",
            "\n",
            "이무진\n",
            "\n",
            "\n",
            "RIIZE\n",
            "\n",
            "\n",
            "윤하(Younha/ユンナ)\n",
            "\n",
            "\n",
            "LE SSERAFIM (르세라핌)\n",
            "\n",
            "\n",
            "Lauv(라우브)\n",
            "\n",
            "\n",
            "AKMU(악뮤)\n",
            "\n",
            "\n",
            "멜로망스(MeloMance)\n",
            "\n",
            "\n",
            "NMIXX\n",
            "\n",
            "\n",
            "Ayumu Imazu\n",
            "\n",
            "\n",
            "태연 (TAEYEON)\n",
            "\n",
            "\n",
            "제니 (JENNIE)\n",
            "\n",
            "\n",
            "LE SSERAFIM (르세라핌)\n",
            "\n",
            "\n",
            "정국\n",
            "\n",
            "\n",
            "ATEEZ(에이티즈)\n",
            "\n",
            "\n",
            "H1-KEY (하이키)\n",
            "\n",
            "\n",
            "최유리\n",
            "\n",
            "\n",
            "IVE (아이브)\n",
            "\n",
            "\n",
            "Charlie Puth(찰리 푸스)\n",
            "\n",
            "\n",
            "AKMU(악뮤)\n",
            "\n",
            "\n",
            "도영 (DOYOUNG)\n",
            "\n",
            "\n",
            "임영웅\n",
            "\n",
            "\n",
            "범진\n",
            "\n",
            "\n",
            "그루비룸 (GroovyRoom)\n",
            "\n",
            "\n",
            "(여자)아이들\n",
            "\n",
            "\n",
            "(여자)아이들\n",
            "\n",
            "\n",
            "IVE (아이브)\n",
            "\n",
            "\n",
            "도경수(D.O.)\n",
            "\n",
            "\n",
            "Charlie Puth(찰리 푸스)\n",
            "\n",
            "\n",
            "아이유(IU)\n",
            "\n",
            "\n",
            "aespa\n",
            "\n",
            "\n",
            "\n",
            "Christopher(크리스토퍼)\n",
            "\n",
            "\r\n",
            "Christopher(크리스토퍼)\r\n",
            " \n",
            "\n",
            "종호(ATEEZ)\n",
            "\n",
            "\n",
            "Crush\n",
            "\n",
            "\n",
            "IVE (아이브)\n",
            "\n",
            "\n",
            "폴킴(Paul Kim)\n",
            "\n"
          ]
        }
      ]
    },
    {
      "cell_type": "code",
      "source": [
        "for i, (t, a) in enumerate(zip(titles, artists)):\n",
        "  title = t.text.strip()\n",
        "  artist = a.text.strip().split('\\n')\n",
        "  print(f'{i+1}위. {title} - {artist[0]}')"
      ],
      "metadata": {
        "colab": {
          "base_uri": "https://localhost:8080/"
        },
        "id": "vSfsNJuMGyCo",
        "outputId": "b3e8dcb1-5e21-4d4a-f937-c2a129a87b2b"
      },
      "execution_count": null,
      "outputs": [
        {
          "output_type": "stream",
          "name": "stdout",
          "text": [
            "1위. How Sweet - NewJeans\n",
            "2위. Supernova - aespa\n",
            "3위. Bubble Gum - NewJeans\n",
            "4위. Armageddon - aespa\n",
            "5위. 소나기 - 이클립스 (ECLIPSE)\n",
            "6위. 해야 (HEYA) - IVE (아이브)\n",
            "7위. 고민중독 - QWER\n",
            "8위. SPOT! (feat. JENNIE) - 지코 (ZICO)\n",
            "9위. 첫 만남은 계획대로 되지 않아 - TWS (투어스)\n",
            "10위. Magnetic - 아일릿(ILLIT)\n",
            "11위. 나는 아픈 건 딱 질색이니까 - (여자)아이들\n",
            "12위. Run Run - 이클립스 (ECLIPSE)\n",
            "13위. SHEESH - BABYMONSTER\n",
            "14위. Welcome to the Show - DAY6 (데이식스)\n",
            "15위. Girls Never Die - tripleS (트리플에스)\n",
            "16위. 한 페이지가 될 수 있게 - DAY6 (데이식스)\n",
            "17위. Accendio - IVE (아이브)\n",
            "18위. 미안해 미워해 사랑해 - Crush\n",
            "19위. Hype Boy - NewJeans\n",
            "20위. 그랬나봐 - 유회승 (엔플라잉)\n",
            "21위. Star - 엔플라잉(N.Flying)\n",
            "22위. 에피소드 - 이무진\n",
            "23위. Attention - NewJeans\n",
            "24위. 밤양갱 - 비비(BIBI)\n",
            "25위. 예뻤어 - DAY6 (데이식스)\n",
            "26위. Lucky Girl Syndrome - 아일릿(ILLIT)\n",
            "27위. ETA - NewJeans\n",
            "28위. Midas Touch - KISS OF LIFE\n",
            "29위. 천상연 - 이창섭\n",
            "30위. New Jeans - NewJeans\n",
            "31위. You & I - 이클립스 (ECLIPSE)\n",
            "32위. I'll Be There - 이클립스 (ECLIPSE)\n",
            "33위. 그대만 있다면 (여름날 우리 X 너드커넥션 (Nerd Connection)) - 너드커넥션(Nerd Connection)\n",
            "34위. 만날테니까 - 이클립스 (ECLIPSE)\n",
            "35위. Super Shy - NewJeans\n",
            "36위. Siren - RIIZE\n",
            "37위. Ditto - NewJeans\n",
            "38위. 봄눈 - 10CM\n",
            "39위. Spicy - aespa\n",
            "40위. Drama - aespa\n",
            "41위. I AM - IVE (아이브)\n",
            "42위. MANIAC - VIVIZ (비비지)\n",
            "43위. 꿈결같아서 - 민니 ((여자)아이들)\n",
            "44위. Blue Moon - 엔플라잉(N.Flying)\n",
            "45위. Get A Guitar - RIIZE\n",
            "46위. Popcorn - 도경수(D.O.)\n",
            "47위. 청춘찬가 - 세븐틴(SEVENTEEN)\n",
            "48위. Love wins all - 아이유(IU)\n",
            "49위. To. X - 태연 (TAEYEON)\n",
            "50위. Impossible - RIIZE\n",
            "51위. Discord - QWER\n",
            "52위. OMG - NewJeans\n",
            "53위. 비의 랩소디 - 임재현\n",
            "54위. Love me or Leave me - DAY6 (데이식스)\n",
            "55위. 멈춰줘 - 헤이즈(Heize)\n",
            "56위. MAESTRO - 세븐틴(SEVENTEEN)\n",
            "57위. 헤어지자 말해요 - 박재정\n",
            "58위. Smart - LE SSERAFIM (르세라핌)\n",
            "59위. HAPPY - DAY6 (데이식스)\n",
            "60위. 주저하는 연인들을 위해 - 잔나비\n",
            "61위. After LIKE - IVE (아이브)\n",
            "62위. 홀씨 - 아이유(IU)\n",
            "63위. 너의 모든 순간 - 성시경\n",
            "64위. 그랬나봐 - 김형중\n",
            "65위. 모든 날, 모든 순간 (Every day, Every Moment) - 폴킴(Paul Kim)\n",
            "66위. 청혼하지 않을 이유를 못 찾았어 - 이무진\n",
            "67위. Love 119 - RIIZE\n",
            "68위. 사건의 지평선 - 윤하(Younha/ユンナ)\n",
            "69위. EASY - LE SSERAFIM (르세라핌)\n",
            "70위. Steal The Show (From “엘리멘탈”) - Lauv(라우브)\n",
            "71위. Love Lee - AKMU(악뮤)\n",
            "72위. 사랑인가 봐 - 멜로망스(MeloMance)\n",
            "73위. DASH - NMIXX\n",
            "74위. Obsessed - Ayumu Imazu\n",
            "75위. 꿈 - 태연 (TAEYEON)\n",
            "76위. You & Me - 제니 (JENNIE)\n",
            "77위. Perfect Night - LE SSERAFIM (르세라핌)\n",
            "78위. Seven (feat. Latto) - Clean Ver. - 정국\n",
            "79위. WORK - ATEEZ(에이티즈)\n",
            "80위. 건물 사이에 피어난 장미 (Rose Blossom) - H1-KEY (하이키)\n",
            "81위. 숲 - 최유리\n",
            "82위. LOVE DIVE - IVE (아이브)\n",
            "83위. Dangerously - Charlie Puth(찰리 푸스)\n",
            "84위. 후라이의 꿈 - AKMU(악뮤)\n",
            "85위. 반딧불 (Little Light) - 도영 (DOYOUNG)\n",
            "86위. 사랑은 늘 도망가 - 임영웅\n",
            "87위. 인사 - 범진\n",
            "88위. Yes or No (Feat. 허윤진 of LE SSERAFIM, Crush) - 그루비룸 (GroovyRoom)\n",
            "89위. Wife - (여자)아이들\n",
            "90위. 퀸카 (Queencard) - (여자)아이들\n",
            "91위. Kitsch - IVE (아이브)\n",
            "92위. Mars - 도경수(D.O.)\n",
            "93위. I Don’t Think That I Like Her - Charlie Puth(찰리 푸스)\n",
            "94위. Shopper - 아이유(IU)\n",
            "95위. Live My Life - aespa\n",
            "96위. When I Get Old - Christopher(크리스토퍼)\n",
            "97위. A Day - 종호(ATEEZ)\n",
            "98위. By Your Side - Crush\n",
            "99위. Baddie - IVE (아이브)\n",
            "100위. 좋아해요 - 폴킴(Paul Kim)\n"
          ]
        }
      ]
    },
    {
      "cell_type": "markdown",
      "source": [
        "# **5. 멜론 차트**"
      ],
      "metadata": {
        "id": "LFx-LAP7HD7H"
      }
    },
    {
      "cell_type": "code",
      "source": [
        "request = requests.get('https://www.melon.com/chart/index.html')\n",
        "print(request) # <Response [406]>: 접속 안됨"
      ],
      "metadata": {
        "colab": {
          "base_uri": "https://localhost:8080/"
        },
        "id": "b0xsDZPnNxuK",
        "outputId": "6d4b5622-3482-4784-aebe-dc290bde9b01"
      },
      "execution_count": null,
      "outputs": [
        {
          "output_type": "stream",
          "name": "stdout",
          "text": [
            "<Response [406]>\n"
          ]
        }
      ]
    },
    {
      "cell_type": "markdown",
      "source": [
        "- robots.txt: 웹 사이트에서 크롤러 같은 로봇들의 접근을 제어하기 위한 규약 (권고안이라 꼭 지킬 의무는 없음)\n",
        "```\n",
        "User-agent: ~~\n",
        "Allow: /~~\n",
        "Allow: /~~\n",
        "...\n",
        "```\n",
        "~~로 접속하면 Allow에 있는 것들만 접근 가능"
      ],
      "metadata": {
        "id": "0vFTYMDwaJEO"
      }
    },
    {
      "cell_type": "code",
      "source": [
        "# User-Agent: Mozilla/5.0 (Windows NT 10.0; Win64; x64) AppleWebKit/537.36 (KHTML, like Gecko) Chrome/125.0.0.0 Safari/537.36 -> 내 컴퓨터 정보\n",
        "header = {'User-Agent':'Mozilla/5.0 (Windows NT 10.0; Win64; x64)'}\n",
        "request = requests.get('https://www.melon.com/chart/index.htm', headers = header)\n",
        "print(request)"
      ],
      "metadata": {
        "id": "Q-JJROVHOHt-",
        "colab": {
          "base_uri": "https://localhost:8080/"
        },
        "outputId": "4e75e698-9b4a-4218-da64-574d72a0f040"
      },
      "execution_count": null,
      "outputs": [
        {
          "output_type": "stream",
          "name": "stdout",
          "text": [
            "<Response [200]>\n"
          ]
        }
      ]
    },
    {
      "cell_type": "code",
      "source": [
        "soup = BeautifulSoup(request.text)\n",
        "\n",
        "titles = soup.findAll('div', {'class':'rank01'})\n",
        "artists = soup.findAll('span', {'class':'checkEllipsis'})"
      ],
      "metadata": {
        "id": "FTqhjXbigWy_"
      },
      "execution_count": null,
      "outputs": []
    },
    {
      "cell_type": "code",
      "source": [
        "for i, (t, a) in enumerate(zip(titles, artists)):\n",
        "  title = t.text.strip()\n",
        "  artist = a.text.strip()\n",
        "  print(f'{i+1}. {title} - {artist}')"
      ],
      "metadata": {
        "colab": {
          "base_uri": "https://localhost:8080/"
        },
        "id": "RYkDNJV8on9v",
        "outputId": "bd8977c8-8308-4ceb-9573-7142e64e9044"
      },
      "execution_count": null,
      "outputs": [
        {
          "output_type": "stream",
          "name": "stdout",
          "text": [
            "1. Supernova - aespa\n",
            "2. How Sweet - NewJeans\n",
            "3. Bubble Gum - NewJeans\n",
            "4. SPOT! (feat. JENNIE) - 지코 (ZICO)\n",
            "5. 소나기 - 이클립스 (ECLIPSE)\n",
            "6. 해야 (HEYA) - IVE (아이브)\n",
            "7. 고민중독 - QWER\n",
            "8. Magnetic - 아일릿(ILLIT)\n",
            "9. Armageddon - aespa\n",
            "10. 나는 아픈 건 딱 질색이니까 - (여자)아이들\n",
            "11. 첫 만남은 계획대로 되지 않아 - TWS (투어스)\n",
            "12. 미안해 미워해 사랑해 - Crush\n",
            "13. 천상연 - 이창섭\n",
            "14. 한 페이지가 될 수 있게 - DAY6 (데이식스)\n",
            "15. SHEESH - BABYMONSTER\n",
            "16. 예뻤어 - DAY6 (데이식스)\n",
            "17. 사랑은 늘 도망가 - 임영웅\n",
            "18. 에피소드 - 이무진\n",
            "19. Love wins all - 아이유\n",
            "20. 밤양갱 - 비비 (BIBI)\n",
            "21. 우리들의 블루스 - 임영웅\n",
            "22. 온기 - 임영웅\n",
            "23. 비의 랩소디 - 임재현\n",
            "24. 모래 알갱이 - 임영웅\n",
            "25. Home - 임영웅\n",
            "26. Hype Boy - NewJeans\n",
            "27. 다시 만날 수 있을까 - 임영웅\n",
            "28. Do or Die - 임영웅\n",
            "29. Welcome to the Show - DAY6 (데이식스)\n",
            "30. 그대만 있다면 (여름날 우리 X 너드커넥션 (Nerd Connection)) - 너드커넥션 (Nerd Connection)\n",
            "31. 이제 나만 믿어요 - 임영웅\n",
            "32. Drama - aespa\n",
            "33. To. X - 태연 (TAEYEON)\n",
            "34. 무지개 - 임영웅\n",
            "35. ETA - NewJeans\n",
            "36. Polaroid - 임영웅\n",
            "37. London Boy - 임영웅\n",
            "38. MAESTRO - 세븐틴 (SEVENTEEN)\n",
            "39. Seven (feat. Latto) - Clean Ver. - 정국\n",
            "40. I AM - IVE (아이브)\n",
            "41. Super Shy - NewJeans\n",
            "42. 헤어지자 말해요 - 박재정\n",
            "43. 인생찬가 - 임영웅\n",
            "44. 그랬나봐 - 유회승 (엔플라잉)\n",
            "45. Ditto - NewJeans\n",
            "46. 사랑인가 봐 - 멜로망스\n",
            "47. 연애편지 - 임영웅\n",
            "48. 봄눈 - 10CM\n",
            "49. Girls Never Die - tripleS (트리플에스)\n",
            "50. EASY - LE SSERAFIM (르세라핌)\n",
            "51. Spicy - aespa\n",
            "52. 슬픈 초대장 - 순순희 (지환)\n",
            "53. WAY 4 LUV - PLAVE\n",
            "54. Attention - NewJeans\n",
            "55. Smart - LE SSERAFIM (르세라핌)\n",
            "56. 인사 - 범진\n",
            "57. 너의 모든 순간 - 성시경\n",
            "58. Midas Touch - KISS OF LIFE\n",
            "59. Perfect Night - LE SSERAFIM (르세라핌)\n",
            "60. Run Run - 이클립스 (ECLIPSE)\n",
            "61. Lucky Girl Syndrome - 아일릿(ILLIT)\n",
            "62. MANIAC - VIVIZ (비비지)\n",
            "63. Love 119 - RIIZE\n",
            "64. OMG - NewJeans\n",
            "65. Accendio - IVE (아이브)\n",
            "66. 보금자리 - 임영웅\n",
            "67. 사막에서 꽃을 피우듯 - 우디 (Woody)\n",
            "68. 청혼하지 않을 이유를 못 찾았어 - 이무진\n",
            "69. Love Lee - AKMU (악뮤)\n",
            "70. 퀸카 (Queencard) - (여자)아이들\n",
            "71. 파이팅 해야지 (Feat. 이영지) - 부석순 (SEVENTEEN)\n",
            "72. Get A Guitar - RIIZE\n",
            "73. 꿈 - 태연 (TAEYEON)\n",
            "74. 주저하는 연인들을 위해 - 잔나비\n",
            "75. 사건의 지평선 - 윤하 (YOUNHA)\n",
            "76. Dynamite - 방탄소년단\n",
            "77. LOVE DIVE - IVE (아이브)\n",
            "78. 홀씨 - 아이유\n",
            "79. 어떻게 이별까지 사랑하겠어, 널 사랑하는 거지 - AKMU (악뮤)\n",
            "80. 봄날 - 방탄소년단\n",
            "81. I Don't Think That I Like Her - Charlie Puth\n",
            "82. 취중고백 - 김민석\n",
            "83. 모든 날, 모든 순간 (Every day, Every Moment) - 폴킴\n",
            "84. 손오공 - 세븐틴 (SEVENTEEN)\n",
            "85. Impossible - RIIZE\n",
            "86. 다정히 내 이름을 부르면 - 경서예지, 전건호\n",
            "87. 잘 지내자, 우리 (여름날 우리 X 로이킴) - 로이킴\n",
            "88. 우리 영화 - PLAVE\n",
            "89. You & Me - 제니 (JENNIE)\n",
            "90. 그대가 내 안에 박혔다(그내박) - 순순희(기태)\n",
            "91. 꿈결같아서 - 민니 ((여자)아이들)\n",
            "92. 청춘찬가 - 세븐틴 (SEVENTEEN)\n",
            "93. Baddie - IVE (아이브)\n",
            "94. 사랑하지 않아서 그랬어 - 임한별\n",
            "95. 심(心) - DK(디셈버)\n",
            "96. Siren - RIIZE\n",
            "97. From - PLAVE\n",
            "98. Kitsch - IVE (아이브)\n",
            "99. Watch Me Woo! - PLAVE\n",
            "100. Super Lady - (여자)아이들\n"
          ]
        }
      ]
    },
    {
      "cell_type": "markdown",
      "source": [
        "# **6. 네이버 증권**"
      ],
      "metadata": {
        "id": "fD4-_6v5pPXx"
      }
    },
    {
      "cell_type": "code",
      "source": [
        "# https://finance.naver.com/item/main.naver?code=028300\n",
        "# 종목이름, 가격, 종목코드, 거래량\n",
        "\n",
        "site = 'https://finance.naver.com/item/main.naver?code=028300'\n",
        "request = requests.get(site)\n",
        "print(request)"
      ],
      "metadata": {
        "colab": {
          "base_uri": "https://localhost:8080/"
        },
        "id": "boLIQ2lvqi_6",
        "outputId": "d609668e-93b3-4ef6-d44f-1610bfdb5ae9"
      },
      "execution_count": null,
      "outputs": [
        {
          "output_type": "stream",
          "name": "stdout",
          "text": [
            "<Response [200]>\n"
          ]
        }
      ]
    },
    {
      "cell_type": "code",
      "source": [
        "soup = BeautifulSoup(request.text )"
      ],
      "metadata": {
        "id": "ysSoT0U5r07f"
      },
      "execution_count": null,
      "outputs": []
    },
    {
      "cell_type": "code",
      "source": [
        "div_totalinfo = soup.find('div', {'class':'new_totalinfo'})"
      ],
      "metadata": {
        "id": "DAfaf5_sr52I"
      },
      "execution_count": null,
      "outputs": []
    },
    {
      "cell_type": "code",
      "source": [
        "name = div_totalinfo.find('h2').text # find하면 젤 위에 것 하나만 가져오기 때문에 상관ㄴㄴ\n",
        "print(name)"
      ],
      "metadata": {
        "colab": {
          "base_uri": "https://localhost:8080/"
        },
        "id": "djr8nboOsIsH",
        "outputId": "ae287c54-73b4-430a-947a-3d0a48d23df8"
      },
      "execution_count": null,
      "outputs": [
        {
          "output_type": "stream",
          "name": "stdout",
          "text": [
            "HLB\n"
          ]
        }
      ]
    },
    {
      "cell_type": "code",
      "source": [
        "p_today = div_totalinfo.find('p', {'class':'no_today'})\n",
        "print(p_today)"
      ],
      "metadata": {
        "colab": {
          "base_uri": "https://localhost:8080/"
        },
        "id": "RTpAfeRDsOnP",
        "outputId": "fe016ece-9170-4017-9bd0-d2550b58788d"
      },
      "execution_count": null,
      "outputs": [
        {
          "output_type": "stream",
          "name": "stdout",
          "text": [
            "<p class=\"no_today\">\n",
            "<em class=\"no_down\">\n",
            "<span class=\"blind\">57,400</span>\n",
            "<span class=\"no5\">5</span><span class=\"no7\">7</span><span class=\"shim\">,</span><span class=\"no4\">4</span><span class=\"no0\">0</span><span class=\"no0\">0</span>\n",
            "</em>\n",
            "</p>\n"
          ]
        }
      ]
    },
    {
      "cell_type": "code",
      "source": [
        "price = p_today.find('span', {'class':'blind'}).text\n",
        "print(price)"
      ],
      "metadata": {
        "colab": {
          "base_uri": "https://localhost:8080/"
        },
        "id": "z13NErOHs5F3",
        "outputId": "7d9e794b-13b7-41b2-ad5c-1783f85105d5"
      },
      "execution_count": null,
      "outputs": [
        {
          "output_type": "stream",
          "name": "stdout",
          "text": [
            "57,400\n"
          ]
        }
      ]
    },
    {
      "cell_type": "code",
      "source": [
        "code = div_totalinfo.find('span', {'class':'code'}).text\n",
        "print(code)"
      ],
      "metadata": {
        "colab": {
          "base_uri": "https://localhost:8080/"
        },
        "id": "AWEuun6rtGfv",
        "outputId": "84607b96-62f1-4f6e-c6d7-a3b4fc1daf64"
      },
      "execution_count": null,
      "outputs": [
        {
          "output_type": "stream",
          "name": "stdout",
          "text": [
            "028300\n"
          ]
        }
      ]
    },
    {
      "cell_type": "code",
      "source": [
        "table_no_info = soup.find('table', {'class':'no_info'})\n",
        "print(table_no_info)"
      ],
      "metadata": {
        "colab": {
          "base_uri": "https://localhost:8080/"
        },
        "id": "pRWz5xGgtadY",
        "outputId": "c36d77bc-ce9e-4b58-8b48-1cea49dc68e3"
      },
      "execution_count": null,
      "outputs": [
        {
          "output_type": "stream",
          "name": "stdout",
          "text": [
            "<table class=\"no_info\" summary=\"주요 시세(전일종가, 시고저가, 거래량, 거래대금)을 제공합니다.\">\n",
            "<caption>주요 시세</caption>\n",
            "<colgroup><col/><col width=\"214\"/><col width=\"157\"/></colgroup>\n",
            "<tr>\n",
            "<td class=\"first\">\n",
            "<span class=\"sptxt sp_txt2\">전일</span>\n",
            "<em>\n",
            "<span class=\"blind\">61,200</span>\n",
            "<span class=\"no6\">6</span><span class=\"no1\">1</span><span class=\"shim\">,</span><span class=\"no2\">2</span><span class=\"no0\">0</span><span class=\"no0\">0</span>\n",
            "</em>\n",
            "</td>\n",
            "<td>\n",
            "<span class=\"sptxt sp_txt4\">고가</span>\n",
            "<em class=\"no_down\">\n",
            "<span class=\"blind\">60,800</span><span class=\"no6\">6</span><span class=\"no0\">0</span><span class=\"shim\">,</span><span class=\"no8\">8</span><span class=\"no0\">0</span><span class=\"no0\">0</span>\n",
            "</em>\n",
            "<span class=\"sptxt sp_txt6\">(상한가</span>\n",
            "<em class=\"no_cha\">\n",
            "<span class=\"blind\">79,500</span><span class=\"no7\">7</span><span class=\"no9\">9</span><span class=\"shim\">,</span><span class=\"no5\">5</span><span class=\"no0\">0</span><span class=\"no0\">0</span>\n",
            "</em>\n",
            "<span class=\"sptxt sp_txt8\">)</span>\n",
            "</td>\n",
            "<td>\n",
            "<span class=\"sptxt sp_txt9\">거래량</span>\n",
            "<em>\n",
            "<span class=\"blind\">3,490,259</span>\n",
            "<span class=\"no3\">3</span><span class=\"shim\">,</span><span class=\"no4\">4</span><span class=\"no9\">9</span><span class=\"no0\">0</span><span class=\"shim\">,</span><span class=\"no2\">2</span><span class=\"no5\">5</span><span class=\"no9\">9</span>\n",
            "</em>\n",
            "</td>\n",
            "</tr>\n",
            "<tr>\n",
            "<td class=\"first\">\n",
            "<span class=\"sptxt sp_txt3\">시가</span>\n",
            "<em class=\"no_down\">\n",
            "<span class=\"blind\">59,700</span><span class=\"no5\">5</span><span class=\"no9\">9</span><span class=\"shim\">,</span><span class=\"no7\">7</span><span class=\"no0\">0</span><span class=\"no0\">0</span>\n",
            "</em>\n",
            "</td>\n",
            "<td>\n",
            "<span class=\"sptxt sp_txt5\">저가</span>\n",
            "<em class=\"no_down\">\n",
            "<span class=\"blind\">57,000</span><span class=\"no5\">5</span><span class=\"no7\">7</span><span class=\"shim\">,</span><span class=\"no0\">0</span><span class=\"no0\">0</span><span class=\"no0\">0</span>\n",
            "</em>\n",
            "<span class=\"sptxt sp_txt7\">(하한가</span>\n",
            "<em class=\"no_cha\">\n",
            "<span class=\"no4\">4</span><span class=\"no2\">2</span><span class=\"shim\">,</span><span class=\"no9\">9</span><span class=\"no0\">0</span><span class=\"no0\">0</span>\n",
            "</em>\n",
            "<span class=\"sptxt sp_txt8\">)</span>\n",
            "</td>\n",
            "<td>\n",
            "<span class=\"sptxt sp_txt10\">거래대금</span>\n",
            "<em>\n",
            "<span class=\"blind\">203,373</span>\n",
            "<span class=\"no2\">2</span><span class=\"no0\">0</span><span class=\"no3\">3</span><span class=\"shim\">,</span><span class=\"no3\">3</span><span class=\"no7\">7</span><span class=\"no3\">3</span>\n",
            "</em>\n",
            "<span class=\"sptxt sp_txt11\">백만</span>\n",
            "</td>\n",
            "</tr>\n",
            "</table>\n"
          ]
        }
      ]
    },
    {
      "cell_type": "code",
      "source": [
        "tds = table_no_info.findAll('td')\n",
        "volume = tds[2].find('span', {'class':'blind'}).text\n",
        "print(volume)"
      ],
      "metadata": {
        "colab": {
          "base_uri": "https://localhost:8080/"
        },
        "id": "7FiZVeNjuHcx",
        "outputId": "a65fdc68-afe8-40af-c85f-d5bfb436ebe6"
      },
      "execution_count": null,
      "outputs": [
        {
          "output_type": "stream",
          "name": "stdout",
          "text": [
            "3,490,259\n"
          ]
        }
      ]
    },
    {
      "cell_type": "code",
      "source": [
        "dic = {'name':name, 'code':code, 'price':price, 'volume':volume}\n",
        "print(dic)"
      ],
      "metadata": {
        "colab": {
          "base_uri": "https://localhost:8080/"
        },
        "id": "MtT4GtJEucdQ",
        "outputId": "29a114b5-0452-4135-b525-69d1d36d3db9"
      },
      "execution_count": null,
      "outputs": [
        {
          "output_type": "stream",
          "name": "stdout",
          "text": [
            "{'name': 'HLB', 'code': '028300', 'price': '57,400', 'volume': '3,490,259'}\n"
          ]
        }
      ]
    },
    {
      "cell_type": "code",
      "source": [
        "def naver_finance(code):\n",
        "  site = f'https://finance.naver.com/item/main.naver?code={code}'\n",
        "  request = requests.get(site)\n",
        "\n",
        "  soup = BeautifulSoup(request.text)\n",
        "  div_totalinfo = soup.find('div', {'class':'new_totalinfo'})\n",
        "\n",
        "  name = div_totalinfo.find('h2').text\n",
        "  p_today = div_totalinfo.find('p', {'class':'no_today'})\n",
        "  price = p_today.find('span', {'class':'blind'}).text\n",
        "\n",
        "  table_no_info = soup.find('table', {'class':'no_info'})\n",
        "  tds = table_no_info.findAll('td')\n",
        "  volume = tds[2].find('span', {'class':'blind'}).text\n",
        "\n",
        "  dic = {'name':name, 'code':code, 'price':price, 'volume':volume}\n",
        "  return dic"
      ],
      "metadata": {
        "id": "MDZg833Jq_nf"
      },
      "execution_count": null,
      "outputs": []
    },
    {
      "cell_type": "code",
      "source": [
        "codes = ['005930', '005380', '028300', '145170', '000660']\n",
        "data = []\n",
        "\n",
        "for code in codes:\n",
        "  dic = naver_finance(code)\n",
        "  data.append(dic)\n",
        "\n",
        "print(data)"
      ],
      "metadata": {
        "colab": {
          "base_uri": "https://localhost:8080/"
        },
        "id": "JwOKjr6qrGaA",
        "outputId": "8570a1dc-6d8e-4eca-e804-e61db3055faa"
      },
      "execution_count": null,
      "outputs": [
        {
          "output_type": "stream",
          "name": "stdout",
          "text": [
            "[{'name': '삼성전자', 'code': '005930', 'price': '75,700', 'volume': '14,799,712'}, {'name': '현대차', 'code': '005380', 'price': '265,500', 'volume': '1,138,012'}, {'name': 'HLB', 'code': '028300', 'price': '57,400', 'volume': '3,638,907'}, {'name': '노브랜드', 'code': '145170', 'price': '37,400', 'volume': '1,449,001'}, {'name': 'SK하이닉스', 'code': '000660', 'price': '194,400', 'volume': '2,810,534'}]\n"
          ]
        }
      ]
    },
    {
      "cell_type": "code",
      "source": [
        "import pandas as pd"
      ],
      "metadata": {
        "id": "KzJYVdj0yQsP"
      },
      "execution_count": null,
      "outputs": []
    },
    {
      "cell_type": "code",
      "source": [
        "df = pd.DataFrame(data)\n",
        "df"
      ],
      "metadata": {
        "colab": {
          "base_uri": "https://localhost:8080/",
          "height": 206
        },
        "id": "w9HSReg3ym8S",
        "outputId": "e1fd989c-3741-4901-9c91-3ff70ff1fe3e"
      },
      "execution_count": null,
      "outputs": [
        {
          "output_type": "execute_result",
          "data": {
            "text/plain": [
              "     name    code    price      volume\n",
              "0    삼성전자  005930   75,700  14,799,712\n",
              "1     현대차  005380  265,500   1,138,012\n",
              "2     HLB  028300   57,400   3,638,907\n",
              "3    노브랜드  145170   37,400   1,449,001\n",
              "4  SK하이닉스  000660  194,400   2,810,534"
            ],
            "text/html": [
              "\n",
              "  <div id=\"df-9de0b7b2-5721-4417-bfe0-c56a8bc92215\" class=\"colab-df-container\">\n",
              "    <div>\n",
              "<style scoped>\n",
              "    .dataframe tbody tr th:only-of-type {\n",
              "        vertical-align: middle;\n",
              "    }\n",
              "\n",
              "    .dataframe tbody tr th {\n",
              "        vertical-align: top;\n",
              "    }\n",
              "\n",
              "    .dataframe thead th {\n",
              "        text-align: right;\n",
              "    }\n",
              "</style>\n",
              "<table border=\"1\" class=\"dataframe\">\n",
              "  <thead>\n",
              "    <tr style=\"text-align: right;\">\n",
              "      <th></th>\n",
              "      <th>name</th>\n",
              "      <th>code</th>\n",
              "      <th>price</th>\n",
              "      <th>volume</th>\n",
              "    </tr>\n",
              "  </thead>\n",
              "  <tbody>\n",
              "    <tr>\n",
              "      <th>0</th>\n",
              "      <td>삼성전자</td>\n",
              "      <td>005930</td>\n",
              "      <td>75,700</td>\n",
              "      <td>14,799,712</td>\n",
              "    </tr>\n",
              "    <tr>\n",
              "      <th>1</th>\n",
              "      <td>현대차</td>\n",
              "      <td>005380</td>\n",
              "      <td>265,500</td>\n",
              "      <td>1,138,012</td>\n",
              "    </tr>\n",
              "    <tr>\n",
              "      <th>2</th>\n",
              "      <td>HLB</td>\n",
              "      <td>028300</td>\n",
              "      <td>57,400</td>\n",
              "      <td>3,638,907</td>\n",
              "    </tr>\n",
              "    <tr>\n",
              "      <th>3</th>\n",
              "      <td>노브랜드</td>\n",
              "      <td>145170</td>\n",
              "      <td>37,400</td>\n",
              "      <td>1,449,001</td>\n",
              "    </tr>\n",
              "    <tr>\n",
              "      <th>4</th>\n",
              "      <td>SK하이닉스</td>\n",
              "      <td>000660</td>\n",
              "      <td>194,400</td>\n",
              "      <td>2,810,534</td>\n",
              "    </tr>\n",
              "  </tbody>\n",
              "</table>\n",
              "</div>\n",
              "    <div class=\"colab-df-buttons\">\n",
              "\n",
              "  <div class=\"colab-df-container\">\n",
              "    <button class=\"colab-df-convert\" onclick=\"convertToInteractive('df-9de0b7b2-5721-4417-bfe0-c56a8bc92215')\"\n",
              "            title=\"Convert this dataframe to an interactive table.\"\n",
              "            style=\"display:none;\">\n",
              "\n",
              "  <svg xmlns=\"http://www.w3.org/2000/svg\" height=\"24px\" viewBox=\"0 -960 960 960\">\n",
              "    <path d=\"M120-120v-720h720v720H120Zm60-500h600v-160H180v160Zm220 220h160v-160H400v160Zm0 220h160v-160H400v160ZM180-400h160v-160H180v160Zm440 0h160v-160H620v160ZM180-180h160v-160H180v160Zm440 0h160v-160H620v160Z\"/>\n",
              "  </svg>\n",
              "    </button>\n",
              "\n",
              "  <style>\n",
              "    .colab-df-container {\n",
              "      display:flex;\n",
              "      gap: 12px;\n",
              "    }\n",
              "\n",
              "    .colab-df-convert {\n",
              "      background-color: #E8F0FE;\n",
              "      border: none;\n",
              "      border-radius: 50%;\n",
              "      cursor: pointer;\n",
              "      display: none;\n",
              "      fill: #1967D2;\n",
              "      height: 32px;\n",
              "      padding: 0 0 0 0;\n",
              "      width: 32px;\n",
              "    }\n",
              "\n",
              "    .colab-df-convert:hover {\n",
              "      background-color: #E2EBFA;\n",
              "      box-shadow: 0px 1px 2px rgba(60, 64, 67, 0.3), 0px 1px 3px 1px rgba(60, 64, 67, 0.15);\n",
              "      fill: #174EA6;\n",
              "    }\n",
              "\n",
              "    .colab-df-buttons div {\n",
              "      margin-bottom: 4px;\n",
              "    }\n",
              "\n",
              "    [theme=dark] .colab-df-convert {\n",
              "      background-color: #3B4455;\n",
              "      fill: #D2E3FC;\n",
              "    }\n",
              "\n",
              "    [theme=dark] .colab-df-convert:hover {\n",
              "      background-color: #434B5C;\n",
              "      box-shadow: 0px 1px 3px 1px rgba(0, 0, 0, 0.15);\n",
              "      filter: drop-shadow(0px 1px 2px rgba(0, 0, 0, 0.3));\n",
              "      fill: #FFFFFF;\n",
              "    }\n",
              "  </style>\n",
              "\n",
              "    <script>\n",
              "      const buttonEl =\n",
              "        document.querySelector('#df-9de0b7b2-5721-4417-bfe0-c56a8bc92215 button.colab-df-convert');\n",
              "      buttonEl.style.display =\n",
              "        google.colab.kernel.accessAllowed ? 'block' : 'none';\n",
              "\n",
              "      async function convertToInteractive(key) {\n",
              "        const element = document.querySelector('#df-9de0b7b2-5721-4417-bfe0-c56a8bc92215');\n",
              "        const dataTable =\n",
              "          await google.colab.kernel.invokeFunction('convertToInteractive',\n",
              "                                                    [key], {});\n",
              "        if (!dataTable) return;\n",
              "\n",
              "        const docLinkHtml = 'Like what you see? Visit the ' +\n",
              "          '<a target=\"_blank\" href=https://colab.research.google.com/notebooks/data_table.ipynb>data table notebook</a>'\n",
              "          + ' to learn more about interactive tables.';\n",
              "        element.innerHTML = '';\n",
              "        dataTable['output_type'] = 'display_data';\n",
              "        await google.colab.output.renderOutput(dataTable, element);\n",
              "        const docLink = document.createElement('div');\n",
              "        docLink.innerHTML = docLinkHtml;\n",
              "        element.appendChild(docLink);\n",
              "      }\n",
              "    </script>\n",
              "  </div>\n",
              "\n",
              "\n",
              "<div id=\"df-a6197ac2-b528-4e6d-bc54-a0e823650bac\">\n",
              "  <button class=\"colab-df-quickchart\" onclick=\"quickchart('df-a6197ac2-b528-4e6d-bc54-a0e823650bac')\"\n",
              "            title=\"Suggest charts\"\n",
              "            style=\"display:none;\">\n",
              "\n",
              "<svg xmlns=\"http://www.w3.org/2000/svg\" height=\"24px\"viewBox=\"0 0 24 24\"\n",
              "     width=\"24px\">\n",
              "    <g>\n",
              "        <path d=\"M19 3H5c-1.1 0-2 .9-2 2v14c0 1.1.9 2 2 2h14c1.1 0 2-.9 2-2V5c0-1.1-.9-2-2-2zM9 17H7v-7h2v7zm4 0h-2V7h2v10zm4 0h-2v-4h2v4z\"/>\n",
              "    </g>\n",
              "</svg>\n",
              "  </button>\n",
              "\n",
              "<style>\n",
              "  .colab-df-quickchart {\n",
              "      --bg-color: #E8F0FE;\n",
              "      --fill-color: #1967D2;\n",
              "      --hover-bg-color: #E2EBFA;\n",
              "      --hover-fill-color: #174EA6;\n",
              "      --disabled-fill-color: #AAA;\n",
              "      --disabled-bg-color: #DDD;\n",
              "  }\n",
              "\n",
              "  [theme=dark] .colab-df-quickchart {\n",
              "      --bg-color: #3B4455;\n",
              "      --fill-color: #D2E3FC;\n",
              "      --hover-bg-color: #434B5C;\n",
              "      --hover-fill-color: #FFFFFF;\n",
              "      --disabled-bg-color: #3B4455;\n",
              "      --disabled-fill-color: #666;\n",
              "  }\n",
              "\n",
              "  .colab-df-quickchart {\n",
              "    background-color: var(--bg-color);\n",
              "    border: none;\n",
              "    border-radius: 50%;\n",
              "    cursor: pointer;\n",
              "    display: none;\n",
              "    fill: var(--fill-color);\n",
              "    height: 32px;\n",
              "    padding: 0;\n",
              "    width: 32px;\n",
              "  }\n",
              "\n",
              "  .colab-df-quickchart:hover {\n",
              "    background-color: var(--hover-bg-color);\n",
              "    box-shadow: 0 1px 2px rgba(60, 64, 67, 0.3), 0 1px 3px 1px rgba(60, 64, 67, 0.15);\n",
              "    fill: var(--button-hover-fill-color);\n",
              "  }\n",
              "\n",
              "  .colab-df-quickchart-complete:disabled,\n",
              "  .colab-df-quickchart-complete:disabled:hover {\n",
              "    background-color: var(--disabled-bg-color);\n",
              "    fill: var(--disabled-fill-color);\n",
              "    box-shadow: none;\n",
              "  }\n",
              "\n",
              "  .colab-df-spinner {\n",
              "    border: 2px solid var(--fill-color);\n",
              "    border-color: transparent;\n",
              "    border-bottom-color: var(--fill-color);\n",
              "    animation:\n",
              "      spin 1s steps(1) infinite;\n",
              "  }\n",
              "\n",
              "  @keyframes spin {\n",
              "    0% {\n",
              "      border-color: transparent;\n",
              "      border-bottom-color: var(--fill-color);\n",
              "      border-left-color: var(--fill-color);\n",
              "    }\n",
              "    20% {\n",
              "      border-color: transparent;\n",
              "      border-left-color: var(--fill-color);\n",
              "      border-top-color: var(--fill-color);\n",
              "    }\n",
              "    30% {\n",
              "      border-color: transparent;\n",
              "      border-left-color: var(--fill-color);\n",
              "      border-top-color: var(--fill-color);\n",
              "      border-right-color: var(--fill-color);\n",
              "    }\n",
              "    40% {\n",
              "      border-color: transparent;\n",
              "      border-right-color: var(--fill-color);\n",
              "      border-top-color: var(--fill-color);\n",
              "    }\n",
              "    60% {\n",
              "      border-color: transparent;\n",
              "      border-right-color: var(--fill-color);\n",
              "    }\n",
              "    80% {\n",
              "      border-color: transparent;\n",
              "      border-right-color: var(--fill-color);\n",
              "      border-bottom-color: var(--fill-color);\n",
              "    }\n",
              "    90% {\n",
              "      border-color: transparent;\n",
              "      border-bottom-color: var(--fill-color);\n",
              "    }\n",
              "  }\n",
              "</style>\n",
              "\n",
              "  <script>\n",
              "    async function quickchart(key) {\n",
              "      const quickchartButtonEl =\n",
              "        document.querySelector('#' + key + ' button');\n",
              "      quickchartButtonEl.disabled = true;  // To prevent multiple clicks.\n",
              "      quickchartButtonEl.classList.add('colab-df-spinner');\n",
              "      try {\n",
              "        const charts = await google.colab.kernel.invokeFunction(\n",
              "            'suggestCharts', [key], {});\n",
              "      } catch (error) {\n",
              "        console.error('Error during call to suggestCharts:', error);\n",
              "      }\n",
              "      quickchartButtonEl.classList.remove('colab-df-spinner');\n",
              "      quickchartButtonEl.classList.add('colab-df-quickchart-complete');\n",
              "    }\n",
              "    (() => {\n",
              "      let quickchartButtonEl =\n",
              "        document.querySelector('#df-a6197ac2-b528-4e6d-bc54-a0e823650bac button');\n",
              "      quickchartButtonEl.style.display =\n",
              "        google.colab.kernel.accessAllowed ? 'block' : 'none';\n",
              "    })();\n",
              "  </script>\n",
              "</div>\n",
              "\n",
              "  <div id=\"id_9d9efd32-382e-440c-9491-bf870c46bc2c\">\n",
              "    <style>\n",
              "      .colab-df-generate {\n",
              "        background-color: #E8F0FE;\n",
              "        border: none;\n",
              "        border-radius: 50%;\n",
              "        cursor: pointer;\n",
              "        display: none;\n",
              "        fill: #1967D2;\n",
              "        height: 32px;\n",
              "        padding: 0 0 0 0;\n",
              "        width: 32px;\n",
              "      }\n",
              "\n",
              "      .colab-df-generate:hover {\n",
              "        background-color: #E2EBFA;\n",
              "        box-shadow: 0px 1px 2px rgba(60, 64, 67, 0.3), 0px 1px 3px 1px rgba(60, 64, 67, 0.15);\n",
              "        fill: #174EA6;\n",
              "      }\n",
              "\n",
              "      [theme=dark] .colab-df-generate {\n",
              "        background-color: #3B4455;\n",
              "        fill: #D2E3FC;\n",
              "      }\n",
              "\n",
              "      [theme=dark] .colab-df-generate:hover {\n",
              "        background-color: #434B5C;\n",
              "        box-shadow: 0px 1px 3px 1px rgba(0, 0, 0, 0.15);\n",
              "        filter: drop-shadow(0px 1px 2px rgba(0, 0, 0, 0.3));\n",
              "        fill: #FFFFFF;\n",
              "      }\n",
              "    </style>\n",
              "    <button class=\"colab-df-generate\" onclick=\"generateWithVariable('df')\"\n",
              "            title=\"Generate code using this dataframe.\"\n",
              "            style=\"display:none;\">\n",
              "\n",
              "  <svg xmlns=\"http://www.w3.org/2000/svg\" height=\"24px\"viewBox=\"0 0 24 24\"\n",
              "       width=\"24px\">\n",
              "    <path d=\"M7,19H8.4L18.45,9,17,7.55,7,17.6ZM5,21V16.75L18.45,3.32a2,2,0,0,1,2.83,0l1.4,1.43a1.91,1.91,0,0,1,.58,1.4,1.91,1.91,0,0,1-.58,1.4L9.25,21ZM18.45,9,17,7.55Zm-12,3A5.31,5.31,0,0,0,4.9,8.1,5.31,5.31,0,0,0,1,6.5,5.31,5.31,0,0,0,4.9,4.9,5.31,5.31,0,0,0,6.5,1,5.31,5.31,0,0,0,8.1,4.9,5.31,5.31,0,0,0,12,6.5,5.46,5.46,0,0,0,6.5,12Z\"/>\n",
              "  </svg>\n",
              "    </button>\n",
              "    <script>\n",
              "      (() => {\n",
              "      const buttonEl =\n",
              "        document.querySelector('#id_9d9efd32-382e-440c-9491-bf870c46bc2c button.colab-df-generate');\n",
              "      buttonEl.style.display =\n",
              "        google.colab.kernel.accessAllowed ? 'block' : 'none';\n",
              "\n",
              "      buttonEl.onclick = () => {\n",
              "        google.colab.notebook.generateWithVariable('df');\n",
              "      }\n",
              "      })();\n",
              "    </script>\n",
              "  </div>\n",
              "\n",
              "    </div>\n",
              "  </div>\n"
            ],
            "application/vnd.google.colaboratory.intrinsic+json": {
              "type": "dataframe",
              "variable_name": "df",
              "summary": "{\n  \"name\": \"df\",\n  \"rows\": 5,\n  \"fields\": [\n    {\n      \"column\": \"name\",\n      \"properties\": {\n        \"dtype\": \"string\",\n        \"num_unique_values\": 5,\n        \"samples\": [\n          \"\\ud604\\ub300\\ucc28\",\n          \"SK\\ud558\\uc774\\ub2c9\\uc2a4\",\n          \"HLB\"\n        ],\n        \"semantic_type\": \"\",\n        \"description\": \"\"\n      }\n    },\n    {\n      \"column\": \"code\",\n      \"properties\": {\n        \"dtype\": \"string\",\n        \"num_unique_values\": 5,\n        \"samples\": [\n          \"005380\",\n          \"000660\",\n          \"028300\"\n        ],\n        \"semantic_type\": \"\",\n        \"description\": \"\"\n      }\n    },\n    {\n      \"column\": \"price\",\n      \"properties\": {\n        \"dtype\": \"string\",\n        \"num_unique_values\": 5,\n        \"samples\": [\n          \"265,500\",\n          \"194,400\",\n          \"57,400\"\n        ],\n        \"semantic_type\": \"\",\n        \"description\": \"\"\n      }\n    },\n    {\n      \"column\": \"volume\",\n      \"properties\": {\n        \"dtype\": \"string\",\n        \"num_unique_values\": 5,\n        \"samples\": [\n          \"1,138,012\",\n          \"2,810,534\",\n          \"3,638,907\"\n        ],\n        \"semantic_type\": \"\",\n        \"description\": \"\"\n      }\n    }\n  ]\n}"
            }
          },
          "metadata": {},
          "execution_count": 52
        }
      ]
    },
    {
      "cell_type": "code",
      "source": [
        "df.to_excel('naver_finance.xlsx')"
      ],
      "metadata": {
        "id": "SaJuIIItytN3"
      },
      "execution_count": null,
      "outputs": []
    },
    {
      "cell_type": "code",
      "source": [],
      "metadata": {
        "id": "bWrCli5fyz7g"
      },
      "execution_count": null,
      "outputs": []
    }
  ]
}
