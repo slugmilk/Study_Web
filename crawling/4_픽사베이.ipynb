{
  "cells": [
    {
      "cell_type": "markdown",
      "metadata": {
        "id": "view-in-github",
        "colab_type": "text"
      },
      "source": [
        "<a href=\"https://colab.research.google.com/github/slugmilk/Study_Web/blob/main/crawling/4_%ED%94%BD%EC%82%AC%EB%B2%A0%EC%9D%B4.ipynb\" target=\"_parent\"><img src=\"https://colab.research.google.com/assets/colab-badge.svg\" alt=\"Open In Colab\"/></a>"
      ]
    },
    {
      "cell_type": "markdown",
      "id": "8007e72c-fbdf-491e-a706-32eb05ec2c53",
      "metadata": {
        "id": "8007e72c-fbdf-491e-a706-32eb05ec2c53"
      },
      "source": [
        "# **1. 이미지 수집하기**\n",
        "[픽사베이](https://pixabay.com/ko/)"
      ]
    },
    {
      "cell_type": "code",
      "execution_count": null,
      "id": "22f28139-7d90-4be6-8b14-915b22fa3297",
      "metadata": {
        "id": "22f28139-7d90-4be6-8b14-915b22fa3297"
      },
      "outputs": [],
      "source": [
        "import chromedriver_autoinstaller\n",
        "import time\n",
        "from selenium import webdriver"
      ]
    },
    {
      "cell_type": "code",
      "execution_count": null,
      "id": "c9aa0687-a2df-4d1c-be40-15ebbe3b5a61",
      "metadata": {
        "id": "c9aa0687-a2df-4d1c-be40-15ebbe3b5a61"
      },
      "outputs": [],
      "source": [
        "driver = webdriver.Chrome()\n",
        "url = 'https://pixabay.com/ko/images/search/강아지/'\n",
        "driver.get(url)"
      ]
    },
    {
      "cell_type": "code",
      "execution_count": null,
      "id": "a688ab74-1998-4a6d-8e14-341f93bfe4ec",
      "metadata": {
        "id": "a688ab74-1998-4a6d-8e14-341f93bfe4ec",
        "outputId": "2277aece-b835-41bc-dd5e-e5cf94b2c8fe"
      },
      "outputs": [
        {
          "name": "stdout",
          "output_type": "stream",
          "text": [
            "image_url:  https://cdn.pixabay.com/photo/2020/06/30/22/34/dog-5357794_640.jpg\n"
          ]
        }
      ],
      "source": [
        "image_xpath = '/html/body/div[1]/div[1]/div/div[2]/div[3]/div/div/div[3]/div[2]/div/a/img'\n",
        "image_url = driver.find_element('xpath', image_xpath).get_attribute('src')\n",
        "print('image_url: ', image_url)"
      ]
    },
    {
      "cell_type": "code",
      "execution_count": null,
      "id": "fec1829a-af38-47ad-8512-4d93b3ce6be6",
      "metadata": {
        "id": "fec1829a-af38-47ad-8512-4d93b3ce6be6"
      },
      "outputs": [],
      "source": [
        "from urllib.request import Request, urlopen"
      ]
    },
    {
      "cell_type": "code",
      "execution_count": null,
      "id": "7b32a0a5-8939-459b-a753-cc4659d398fe",
      "metadata": {
        "id": "7b32a0a5-8939-459b-a753-cc4659d398fe"
      },
      "outputs": [],
      "source": [
        "image_byte = Request(image_url, headers={'User-Agent':'Mozilla/5.0 (Windows NT 10.0; Win64; x64)'})\n",
        "f = open('pic.jpg', 'wb') # w:write, r:read, a:append, b:binary, t:text\n",
        "f.write(urlopen(image_byte).read())\n",
        "f.close()"
      ]
    },
    {
      "cell_type": "markdown",
      "id": "bb153347-33f5-4e47-ae50-02cc2bf329ae",
      "metadata": {
        "id": "bb153347-33f5-4e47-ae50-02cc2bf329ae"
      },
      "source": [
        "# **2. 여러개 이미지 수집하기**"
      ]
    },
    {
      "cell_type": "code",
      "execution_count": null,
      "id": "fe1d21f5-d70c-4d24-b9ed-ecb135a7bd81",
      "metadata": {
        "id": "fe1d21f5-d70c-4d24-b9ed-ecb135a7bd81"
      },
      "outputs": [],
      "source": [
        "import time\n",
        "from selenium.webdriver.common.by import By"
      ]
    },
    {
      "cell_type": "code",
      "execution_count": null,
      "id": "845cc2e6-cc56-4f5b-a266-53efe5fc8978",
      "metadata": {
        "id": "845cc2e6-cc56-4f5b-a266-53efe5fc8978",
        "outputId": "9b130959-92cc-4f97-f9b1-0735ec4cd36d"
      },
      "outputs": [
        {
          "name": "stdout",
          "output_type": "stream",
          "text": [
            "https://cdn.pixabay.com/photo/2016/10/10/14/13/dog-1728494_1280.png\n",
            "https://cdn.pixabay.com/photo/2019/04/10/23/51/animal-4118585_640.jpg\n",
            "https://cdn.pixabay.com/photo/2018/05/11/08/11/dog-3389729_640.jpg\n",
            "https://cdn.pixabay.com/photo/2020/06/30/22/34/dog-5357794_640.jpg\n",
            "https://cdn.pixabay.com/photo/2016/03/27/21/16/pet-1284307_640.jpg\n",
            "https://cdn.pixabay.com/photo/2015/02/09/20/03/koala-630117_640.jpg\n",
            "https://cdn.pixabay.com/photo/2020/07/17/06/41/puppy-5413165_640.jpg\n",
            "https://cdn.pixabay.com/photo/2016/02/18/18/37/puppy-1207816_640.jpg\n",
            "https://cdn.pixabay.com/photo/2018/03/07/19/51/grass-3206938_640.jpg\n",
            "https://cdn.pixabay.com/photo/2022/10/24/14/21/puppy-7543571_640.jpg\n",
            "https://cdn.pixabay.com/photo/2016/07/15/15/55/dachshund-1519374_640.jpg\n",
            "https://cdn.pixabay.com/photo/2016/11/22/19/41/puppy-1850276_640.jpg\n",
            "https://cdn.pixabay.com/photo/2019/08/07/14/11/dog-4390885_640.jpg\n",
            "https://cdn.pixabay.com/photo/2018/05/26/18/06/dog-3431913_640.jpg\n",
            "https://cdn.pixabay.com/photo/2022/12/19/06/31/australian-shepherd-7664795_640.jpg\n",
            "https://cdn.pixabay.com/photo/2022/06/18/16/55/cute-7270285_640.png\n",
            "https://cdn.pixabay.com/photo/2023/03/02/14/46/pit-bull-7825554_640.jpg\n",
            "https://cdn.pixabay.com/photo/2019/07/30/05/53/dog-4372036_640.jpg\n",
            "https://cdn.pixabay.com/photo/2022/10/08/18/13/dog-7507541_640.jpg\n",
            "https://cdn.pixabay.com/photo/2019/05/31/07/12/animal-4241620_640.jpg\n",
            "https://cdn.pixabay.com/photo/2021/08/06/18/46/dog-6526980_640.jpg\n",
            "https://cdn.pixabay.com/photo/2022/04/29/00/27/puppy-7162203_640.jpg\n",
            "https://cdn.pixabay.com/photo/2020/05/03/13/09/puppy-5124947_640.jpg\n",
            "https://cdn.pixabay.com/photo/2022/12/02/05/13/dog-7630252_640.jpg\n",
            "https://cdn.pixabay.com/photo/2022/01/29/11/58/dog-6977210_640.jpg\n",
            "https://cdn.pixabay.com/photo/2020/07/14/02/47/chocolate-labrador-5402611_640.jpg\n",
            "https://cdn.pixabay.com/photo/2019/05/27/19/08/puppy-4233378_640.jpg\n",
            "https://cdn.pixabay.com/photo/2016/11/22/23/13/dog-1851107_640.jpg\n",
            "https://cdn.pixabay.com/photo/2012/04/13/11/42/puppy-32025_640.png\n",
            "https://cdn.pixabay.com/photo/2019/02/06/15/18/puppy-3979350_640.jpg\n",
            "https://cdn.pixabay.com/photo/2019/05/28/05/47/puppy-4234435_640.jpg\n",
            "https://cdn.pixabay.com/photo/2020/05/08/16/06/dog-5146351_640.jpg\n",
            "https://cdn.pixabay.com/photo/2016/11/22/23/13/black-dog-1851106_640.jpg\n",
            "https://cdn.pixabay.com/photo/2020/05/16/20/30/dog-5179118_640.jpg\n",
            "https://cdn.pixabay.com/photo/2021/11/26/02/39/dog-6824999_640.jpg\n",
            "https://cdn.pixabay.com/photo/2020/12/21/08/36/dog-5849152_640.jpg\n",
            "https://cdn.pixabay.com/photo/2022/07/27/06/43/cat-7347316_640.png\n",
            "https://cdn.pixabay.com/photo/2020/10/29/03/22/dog-5695088_640.png\n",
            "https://cdn.pixabay.com/photo/2017/09/25/13/12/puppy-2785074_640.jpg\n",
            "https://cdn.pixabay.com/photo/2017/03/29/09/59/cat-2184682_640.jpg\n",
            "https://cdn.pixabay.com/photo/2020/03/23/19/17/jack-russel-4961793_640.jpg\n",
            "https://cdn.pixabay.com/photo/2021/01/29/08/08/dog-5960092_640.jpg\n",
            "https://cdn.pixabay.com/photo/2022/02/12/17/22/woman-7009477_640.jpg\n",
            "https://cdn.pixabay.com/photo/2016/11/23/18/07/beach-1854121_640.jpg\n",
            "https://cdn.pixabay.com/photo/2021/08/21/19/39/greyhound-6563435_640.jpg\n",
            "https://cdn.pixabay.com/photo/2021/01/21/16/17/english-cocker-spaniel-5937757_640.jpg\n",
            "https://cdn.pixabay.com/photo/2016/11/29/05/09/child-1867463_640.jpg\n",
            "https://cdn.pixabay.com/photo/2020/11/08/10/25/dog-5723334_640.jpg\n",
            "https://cdn.pixabay.com/photo/2021/01/26/17/18/cavalier-king-charles-spaniel-5952324_640.jpg\n",
            "https://cdn.pixabay.com/photo/2022/12/03/15/14/christmas-7632906_640.jpg\n",
            "https://cdn.pixabay.com/photo/2019/07/23/13/51/shepherd-dog-4357790_640.jpg\n",
            "https://cdn.pixabay.com/photo/2022/05/16/11/01/pugs-7200102_640.png\n",
            "https://cdn.pixabay.com/photo/2016/01/02/18/39/puppy-1118584_640.jpg\n",
            "https://cdn.pixabay.com/photo/2019/03/27/15/24/animal-4085255_640.jpg\n",
            "https://cdn.pixabay.com/photo/2023/01/02/04/13/dog-7691238_640.jpg\n",
            "https://cdn.pixabay.com/photo/2022/06/02/00/04/dog-7236774_640.jpg\n",
            "https://cdn.pixabay.com/photo/2021/10/04/16/42/dog-6680642_640.jpg\n",
            "https://cdn.pixabay.com/photo/2023/01/04/13/21/animals-7696695_640.jpg\n",
            "https://cdn.pixabay.com/photo/2017/08/07/02/57/puppy-2599052_640.jpg\n",
            "https://cdn.pixabay.com/photo/2018/04/23/14/38/dog-3344414_640.jpg\n",
            "https://cdn.pixabay.com/photo/2015/11/17/13/13/bulldog-1047518_640.jpg\n",
            "https://cdn.pixabay.com/photo/2019/05/07/20/44/dog-4187023_640.jpg\n",
            "https://cdn.pixabay.com/photo/2019/08/25/13/34/dogs-4429513_640.jpg\n",
            "https://cdn.pixabay.com/photo/2020/07/20/06/42/english-bulldog-5422018_640.jpg\n",
            "https://cdn.pixabay.com/photo/2022/01/21/07/21/ring-tailed-lemur-6954076_640.jpg\n",
            "https://cdn.pixabay.com/photo/2016/05/09/10/42/weimaraner-1381186_640.jpg\n",
            "https://cdn.pixabay.com/photo/2015/11/17/13/13/puppy-1047521_640.jpg\n",
            "https://cdn.pixabay.com/photo/2022/01/17/19/59/dog-6945696_640.jpg\n",
            "https://cdn.pixabay.com/photo/2020/12/01/10/04/dog-5793625_640.jpg\n",
            "https://cdn.pixabay.com/photo/2017/07/31/21/15/dog-2561134_640.jpg\n",
            "https://cdn.pixabay.com/photo/2014/08/21/14/51/dog-423398_640.jpg\n",
            "https://cdn.pixabay.com/photo/2016/07/25/03/39/animal-1539827_640.png\n",
            "https://cdn.pixabay.com/photo/2016/12/13/05/15/puppy-1903313_640.jpg\n",
            "https://cdn.pixabay.com/photo/2019/08/07/14/10/golden-retriever-4390884_640.jpg\n",
            "https://cdn.pixabay.com/photo/2019/12/03/22/22/dog-4671215_640.jpg\n",
            "https://cdn.pixabay.com/photo/2021/05/09/06/07/dog-6240043_640.jpg\n",
            "https://cdn.pixabay.com/photo/2015/10/16/01/08/dog-990304_640.jpg\n",
            "https://cdn.pixabay.com/photo/2020/05/02/09/59/pup-5120625_640.jpg\n",
            "https://cdn.pixabay.com/photo/2020/04/09/12/28/dog-5021242_640.jpg\n",
            "https://cdn.pixabay.com/photo/2019/06/28/00/16/dog-4303277_640.jpg\n",
            "https://cdn.pixabay.com/photo/2022/05/23/14/48/dog-7216354_640.jpg\n",
            "https://cdn.pixabay.com/photo/2014/01/01/13/31/dog-237193_640.jpg\n",
            "https://cdn.pixabay.com/photo/2020/05/03/13/09/puppy-5124948_640.jpg\n",
            "https://cdn.pixabay.com/photo/2016/11/21/16/43/bulldog-1846380_640.jpg\n",
            "https://cdn.pixabay.com/photo/2024/01/15/21/16/dog-8510901_640.jpg\n",
            "https://cdn.pixabay.com/photo/2018/01/09/11/04/dog-3071334_640.jpg\n",
            "https://cdn.pixabay.com/photo/2021/08/07/00/30/dog-6527479_640.jpg\n",
            "https://cdn.pixabay.com/photo/2019/07/29/14/29/dog-4370694_640.jpg\n",
            "https://cdn.pixabay.com/photo/2022/01/13/10/24/dog-6934895_640.jpg\n",
            "https://cdn.pixabay.com/photo/2019/05/21/05/07/animal-4218265_640.jpg\n",
            "https://cdn.pixabay.com/photo/2016/11/29/09/58/dog-1868871_640.jpg\n",
            "https://cdn.pixabay.com/photo/2014/09/20/19/02/dog-454145_640.jpg\n",
            "https://cdn.pixabay.com/photo/2020/03/22/15/25/fetch-4957501_640.jpg\n",
            "https://cdn.pixabay.com/photo/2022/10/11/03/40/borador-7513186_640.jpg\n",
            "https://cdn.pixabay.com/photo/2020/10/03/11/08/girl-5623231_640.jpg\n",
            "https://cdn.pixabay.com/photo/2021/04/07/05/39/labrador-retriever-6158095_640.jpg\n",
            "https://cdn.pixabay.com/photo/2016/01/05/17/51/maltese-1123016_640.jpg\n",
            "https://cdn.pixabay.com/photo/2021/02/06/06/29/dog-5987025_640.jpg\n",
            "https://cdn.pixabay.com/photo/2016/11/22/23/14/terrier-1851108_640.jpg\n",
            "https://cdn.pixabay.com/photo/2020/12/03/18/44/girls-5801275_640.jpg\n"
          ]
        }
      ],
      "source": [
        "driver = webdriver.Chrome()\n",
        "url = 'https://pixabay.com/ko/images/search/강아지/'\n",
        "driver.get(url)\n",
        "\n",
        "for _ in range(20):\n",
        "    driver.execute_script(\"window.scrollBy({ top: window.innerHeight, behavior: 'smooth' })\")\n",
        "    time.sleep(0.5)\n",
        "\n",
        "image_area_xpath = '/html/body/div[1]/div[1]/div/div[2]/div[3]'\n",
        "image_area = driver.find_element(By.XPATH, image_area_xpath)\n",
        "image_elements = image_area.find_elements(By.TAG_NAME, 'img')\n",
        "\n",
        "image_urls = []\n",
        "\n",
        "for image_element in image_elements:\n",
        "    image_url = image_element.get_attribute('src')\n",
        "    print(image_url)\n",
        "    image_urls.append(image_url)"
      ]
    },
    {
      "cell_type": "code",
      "execution_count": null,
      "id": "6d994ec0-4044-46e7-a527-bf8e58f12603",
      "metadata": {
        "id": "6d994ec0-4044-46e7-a527-bf8e58f12603"
      },
      "outputs": [],
      "source": [
        "import os\n",
        "from urllib import parse"
      ]
    },
    {
      "cell_type": "code",
      "execution_count": null,
      "id": "30bf83f6-02dd-4abd-801c-443b2e19120c",
      "metadata": {
        "id": "30bf83f6-02dd-4abd-801c-443b2e19120c"
      },
      "outputs": [],
      "source": [
        "for i in range(len(image_urls)):\n",
        "    # https://cdn.pixabay.com/photo/2016/10/10/14/13/dog-1728494_1280.png\n",
        "    image_url = image_urls[i]\n",
        "    url = parse.urlparse(image_url)\n",
        "    name, ext = os.path.splitext(url.path)\n",
        "    image_byte = Request(image_url, headers={'User-Agent':'Mozilla/5.0 (Windows NT 10.0; Win64; x64)'})\n",
        "    f = open(f'dog{i}.{ext}', 'wb')\n",
        "    f.write(urlopen(image_byte).read())\n",
        "    f.close()"
      ]
    },
    {
      "cell_type": "markdown",
      "id": "4c1ea44c-7ec4-4266-89fa-56ffa9b82d44",
      "metadata": {
        "id": "4c1ea44c-7ec4-4266-89fa-56ffa9b82d44"
      },
      "source": [
        "# **3. 함수로 리팩토링**"
      ]
    },
    {
      "cell_type": "code",
      "execution_count": null,
      "id": "53593411-0bbd-4a25-9b9e-d92bd007d562",
      "metadata": {
        "id": "53593411-0bbd-4a25-9b9e-d92bd007d562"
      },
      "outputs": [],
      "source": [
        "def crawl_and_save_image(keyword, pages):\n",
        "    image_urls = []\n",
        "    for i in range(1, pages+1):\n",
        "        url = f'https://pixabay.com/ko/images/search/{keyword}/?pagi={i}'\n",
        "        driver.get(url)\n",
        "        time.sleep(2)\n",
        "\n",
        "        for _ in range(20):\n",
        "            driver.execute_script(\"window.scrollBy({ top: window.innerHeight, behavior: 'smooth' })\")\n",
        "            time.sleep(0.5)\n",
        "\n",
        "        image_area_xpath = '/html/body/div[1]/div[1]/div/div[2]/div[3]'\n",
        "        image_area = driver.find_element(By.XPATH, image_area_xpath)\n",
        "        image_elements = image_area.find_elements(By.TAG_NAME, 'img')\n",
        "\n",
        "        for image_element in image_elements:\n",
        "            image_url = image_element.get_attribute('src')\n",
        "            print(image_url)\n",
        "            image_urls.append(image_url)\n",
        "\n",
        "    if not os.path.exists(keyword):\n",
        "        os.mkdir(keyword)\n",
        "\n",
        "    for i in range(len(image_urls)):\n",
        "        image_url = image_urls[i]\n",
        "        url = parse.urlparse(image_url)\n",
        "        # https://cdn.pixabay.com/photo/2016/10/10/14/13/dog-1728494_1280.png\n",
        "        filename = image_url.split('/')[-1]\n",
        "        image_byte = Request(image_url, headers={'User-Agent':'Mozilla/5.0 (Windows NT 10.0; Win64; x64)'})\n",
        "        f = open(f'{keyword}/{filename}', 'wb')\n",
        "        f.write(urlopen(image_byte).read())\n",
        "        f.close()"
      ]
    },
    {
      "cell_type": "code",
      "execution_count": null,
      "id": "20684b7e-85c5-4d95-be66-a10b497ed51f",
      "metadata": {
        "id": "20684b7e-85c5-4d95-be66-a10b497ed51f",
        "outputId": "d405ed86-f352-4784-8a37-1a9633e43cb3"
      },
      "outputs": [
        {
          "name": "stdout",
          "output_type": "stream",
          "text": [
            "https://cdn.pixabay.com/photo/2014/12/01/19/23/pink-553149_1280.jpg\n",
            "https://cdn.pixabay.com/photo/2020/12/09/13/59/gifts-5817555_640.jpg\n",
            "https://cdn.pixabay.com/photo/2022/12/18/15/28/christmas-7663699_640.jpg\n",
            "https://cdn.pixabay.com/photo/2017/03/27/13/14/gifts-2178635_640.jpg\n",
            "https://cdn.pixabay.com/photo/2016/12/09/04/02/presents-1893640_640.jpg\n",
            "https://cdn.pixabay.com/photo/2020/11/29/15/06/box-5788021_640.jpg\n",
            "https://cdn.pixabay.com/photo/2019/10/09/06/06/gift-4536515_640.png\n",
            "https://cdn.pixabay.com/photo/2017/12/18/18/38/christmas-3026688_640.jpg\n",
            "https://cdn.pixabay.com/photo/2021/12/24/08/41/woman-6890711_640.jpg\n",
            "https://cdn.pixabay.com/photo/2018/02/01/15/53/soap-3123468_640.jpg\n",
            "https://cdn.pixabay.com/photo/2021/01/27/08/42/valentine-5954177_640.jpg\n",
            "https://cdn.pixabay.com/photo/2017/11/07/19/23/santa-claus-2927962_640.png\n",
            "https://cdn.pixabay.com/photo/2017/12/20/16/49/christmas-3030279_640.jpg\n",
            "https://cdn.pixabay.com/photo/2013/07/12/15/40/present-150291_640.png\n",
            "https://cdn.pixabay.com/photo/2020/10/27/15/14/gift-5691042_640.png\n",
            "https://cdn.pixabay.com/photo/2016/12/17/17/38/presents-1913977_640.png\n",
            "https://cdn.pixabay.com/photo/2017/09/29/12/32/fathers-day-2798916_640.jpg\n",
            "https://cdn.pixabay.com/photo/2022/02/03/08/49/kiss-6989996_640.jpg\n",
            "https://cdn.pixabay.com/photo/2017/11/04/22/14/gift-2919003_640.png\n",
            "https://cdn.pixabay.com/photo/2014/12/21/23/28/gift-575400_640.png\n",
            "https://cdn.pixabay.com/photo/2022/12/03/15/14/christmas-7632906_640.jpg\n",
            "https://cdn.pixabay.com/photo/2014/11/27/22/44/gift-548293_640.jpg\n",
            "https://cdn.pixabay.com/photo/2017/08/05/13/15/birthday-2583513_640.jpg\n",
            "https://cdn.pixabay.com/photo/2014/11/27/22/44/gift-548286_640.jpg\n",
            "https://cdn.pixabay.com/photo/2014/04/03/00/28/present-308373_640.png\n",
            "https://cdn.pixabay.com/photo/2013/07/12/18/52/presents-153926_640.png\n",
            "https://cdn.pixabay.com/photo/2016/12/17/17/44/presents-1913987_640.jpg\n",
            "https://cdn.pixabay.com/photo/2021/12/30/22/08/presents-6904620_640.jpg\n",
            "https://cdn.pixabay.com/photo/2019/11/30/13/21/gift-4663231_640.jpg\n",
            "https://cdn.pixabay.com/photo/2021/11/29/15/01/christmas-6832802_640.jpg\n",
            "https://cdn.pixabay.com/photo/2017/12/13/00/23/christmas-3015776_640.jpg\n",
            "https://cdn.pixabay.com/photo/2020/12/18/20/52/christmas-5842973_640.jpg\n",
            "https://cdn.pixabay.com/photo/2018/12/07/16/27/christmas-3861993_640.jpg\n",
            "https://cdn.pixabay.com/photo/2016/07/28/20/00/hand-1549399_640.jpg\n",
            "https://cdn.pixabay.com/photo/2017/12/05/05/34/gifts-2998593_640.jpg\n",
            "https://cdn.pixabay.com/photo/2015/05/31/11/16/dinner-791142_640.jpg\n",
            "https://cdn.pixabay.com/photo/2021/12/12/09/41/woman-6864640_640.jpg\n",
            "https://cdn.pixabay.com/photo/2017/06/30/11/05/gift-box-2458012_640.jpg\n",
            "https://cdn.pixabay.com/photo/2023/11/05/13/19/christmas-8367102_640.jpg\n",
            "https://cdn.pixabay.com/photo/2016/11/16/22/47/gift-1830271_640.png\n",
            "https://cdn.pixabay.com/photo/2022/11/16/14/06/christmas-7596084_640.png\n",
            "https://cdn.pixabay.com/photo/2016/11/16/22/46/gifts-1830268_640.png\n",
            "https://cdn.pixabay.com/photo/2017/11/14/00/57/christmas-2947257_640.jpg\n",
            "https://cdn.pixabay.com/photo/2018/02/06/06/38/love-3134063_640.jpg\n",
            "https://cdn.pixabay.com/photo/2018/12/18/22/52/gifts-3883219_640.png\n",
            "https://cdn.pixabay.com/photo/2020/10/10/06/28/christmas-5642149_640.png\n",
            "https://cdn.pixabay.com/photo/2017/11/04/22/10/gift-2918988_640.png\n",
            "https://cdn.pixabay.com/photo/2015/09/29/19/14/isolated-964381_640.png\n",
            "https://cdn.pixabay.com/photo/2016/09/14/20/48/birthday-1670415_640.png\n",
            "https://cdn.pixabay.com/photo/2017/01/06/16/34/heart-1958211_640.jpg\n",
            "https://cdn.pixabay.com/photo/2023/10/20/11/19/ai-generated-8329269_640.jpg\n",
            "https://cdn.pixabay.com/photo/2016/05/28/00/06/gift-1420830_640.jpg\n",
            "https://cdn.pixabay.com/photo/2019/12/03/07/34/gift-4669449_640.jpg\n",
            "https://cdn.pixabay.com/photo/2016/11/29/04/29/arts-and-crafts-1867323_640.jpg\n",
            "https://cdn.pixabay.com/photo/2022/01/11/18/46/rose-6931259_640.jpg\n",
            "https://cdn.pixabay.com/photo/2019/10/22/03/34/gift-4567561_640.jpg\n",
            "https://cdn.pixabay.com/photo/2020/12/18/20/52/christmas-5842978_640.jpg\n",
            "https://cdn.pixabay.com/photo/2020/12/26/13/19/christmas-background-5861438_640.jpg\n",
            "https://cdn.pixabay.com/photo/2023/11/08/07/24/gifts-8374058_640.png\n",
            "https://cdn.pixabay.com/photo/2015/01/31/20/32/valentines-day-618879_640.jpg\n",
            "https://cdn.pixabay.com/photo/2018/01/09/22/51/roses-3072698_640.jpg\n",
            "https://cdn.pixabay.com/photo/2016/11/29/13/37/christmas-1869902_640.jpg\n",
            "https://cdn.pixabay.com/photo/2020/03/18/08/06/envelope-4943161_640.jpg\n",
            "https://cdn.pixabay.com/photo/2017/12/18/18/37/christmas-3026685_640.jpg\n",
            "https://cdn.pixabay.com/photo/2013/07/13/10/27/anniversary-157248_640.png\n",
            "https://cdn.pixabay.com/photo/2016/10/22/15/19/book-1760998_640.jpg\n",
            "https://cdn.pixabay.com/photo/2014/04/02/17/07/present-307984_640.png\n",
            "https://cdn.pixabay.com/photo/2016/03/31/18/01/bow-1294066_640.png\n",
            "https://cdn.pixabay.com/photo/2017/11/04/22/10/gift-2918982_640.png\n",
            "https://cdn.pixabay.com/photo/2015/03/24/09/17/gift-687265_640.jpg\n",
            "https://cdn.pixabay.com/photo/2021/11/20/00/19/gifts-6810563_640.png\n",
            "https://cdn.pixabay.com/photo/2014/11/27/22/44/gift-548296_640.jpg\n",
            "https://cdn.pixabay.com/photo/2016/07/28/19/51/hand-1549224_640.jpg\n",
            "https://cdn.pixabay.com/photo/2021/12/05/17/16/new-years-day-6848235_640.jpg\n",
            "https://cdn.pixabay.com/photo/2017/07/31/16/46/christmas-2558906_640.jpg\n",
            "https://cdn.pixabay.com/photo/2016/11/18/15/47/card-1835447_640.jpg\n",
            "https://cdn.pixabay.com/photo/2014/11/27/22/44/gift-548290_640.jpg\n",
            "https://cdn.pixabay.com/photo/2021/11/23/21/54/christmas-6819716_640.jpg\n",
            "https://cdn.pixabay.com/photo/2016/12/09/04/02/presents-1893642_640.jpg\n",
            "https://cdn.pixabay.com/photo/2020/12/08/17/08/gifts-5815004_640.jpg\n",
            "https://cdn.pixabay.com/photo/2013/07/13/12/19/chocolate-159631_640.png\n",
            "https://cdn.pixabay.com/photo/2023/11/08/07/24/gifts-8374059_640.png\n",
            "https://cdn.pixabay.com/photo/2019/12/06/19/06/gifts-4678018_640.jpg\n",
            "https://cdn.pixabay.com/photo/2021/01/26/14/30/rose-5951728_640.jpg\n",
            "https://cdn.pixabay.com/photo/2019/11/16/21/44/christmas-4631194_640.jpg\n",
            "https://cdn.pixabay.com/photo/2016/10/31/19/43/christmas-1786558_640.jpg\n",
            "https://cdn.pixabay.com/photo/2020/12/15/16/25/clock-5834193_640.jpg\n",
            "https://cdn.pixabay.com/photo/2021/12/19/15/24/gifts-6881375_640.jpg\n",
            "https://cdn.pixabay.com/photo/2023/12/09/19/36/present-8440034_640.jpg\n",
            "https://cdn.pixabay.com/photo/2018/05/09/10/20/gift-3385020_640.png\n",
            "https://cdn.pixabay.com/photo/2017/08/18/16/31/gift-2655558_640.jpg\n",
            "https://cdn.pixabay.com/photo/2017/07/21/23/38/map-2527433_640.jpg\n",
            "https://cdn.pixabay.com/photo/2018/12/07/16/27/pink-3861994_640.jpg\n",
            "https://cdn.pixabay.com/photo/2021/06/02/15/25/daisy-6304767_640.jpg\n",
            "https://cdn.pixabay.com/photo/2016/05/26/17/09/present-1417611_640.png\n",
            "https://cdn.pixabay.com/photo/2023/01/06/11/35/balloons-7701017_640.png\n",
            "https://cdn.pixabay.com/photo/2016/11/29/04/29/bow-1867321_640.jpg\n",
            "https://cdn.pixabay.com/photo/2016/02/23/10/44/christmas-1217252_640.jpg\n",
            "https://cdn.pixabay.com/photo/2017/12/20/21/42/gift-3030693_640.png\n",
            "https://cdn.pixabay.com/photo/2018/01/29/10/28/day-of-birth-3115764_640.jpg\n",
            "https://cdn.pixabay.com/photo/2018/01/29/10/28/day-of-birth-3115764_1280.jpg\n",
            "https://cdn.pixabay.com/photo/2017/11/04/22/10/gift-2918983_640.png\n",
            "https://cdn.pixabay.com/photo/2017/08/03/19/27/lemon-2578043_640.jpg\n",
            "https://cdn.pixabay.com/photo/2018/11/18/16/48/christmas-3823528_640.jpg\n",
            "https://cdn.pixabay.com/photo/2017/10/20/17/50/gifts-2872124_640.jpg\n",
            "https://cdn.pixabay.com/photo/2017/11/24/18/27/gift-2975401_640.png\n",
            "https://cdn.pixabay.com/photo/2015/09/29/19/14/isolated-964380_640.png\n",
            "https://cdn.pixabay.com/photo/2017/08/02/18/12/wooden-2572709_640.jpg\n",
            "https://cdn.pixabay.com/photo/2016/09/13/17/33/book-1667828_640.jpg\n",
            "https://cdn.pixabay.com/photo/2016/11/03/19/33/bag-for-gifts-1795965_640.png\n",
            "https://cdn.pixabay.com/photo/2014/12/21/23/53/presents-576256_640.png\n",
            "https://cdn.pixabay.com/photo/2013/07/12/13/48/present-147317_640.png\n",
            "https://cdn.pixabay.com/photo/2023/10/20/11/19/ai-generated-8329270_640.jpg\n",
            "https://cdn.pixabay.com/photo/2021/11/18/15/30/gift-6806627_640.png\n",
            "https://cdn.pixabay.com/photo/2023/11/26/14/43/girl-8413748_640.png\n",
            "https://cdn.pixabay.com/photo/2014/04/02/10/48/red-304612_640.png\n",
            "https://cdn.pixabay.com/photo/2022/09/04/10/20/christmas-7431328_640.png\n",
            "https://cdn.pixabay.com/photo/2016/10/22/14/22/gift-1760869_640.jpg\n",
            "https://cdn.pixabay.com/photo/2017/12/23/07/06/bow-3034794_640.png\n",
            "https://cdn.pixabay.com/photo/2016/03/26/13/07/box-1280520_640.jpg\n",
            "https://cdn.pixabay.com/photo/2014/04/03/00/30/gift-308478_640.png\n",
            "https://cdn.pixabay.com/photo/2016/03/08/19/26/banner-1244554_640.jpg\n",
            "https://cdn.pixabay.com/photo/2014/04/02/17/05/box-307882_640.png\n",
            "https://cdn.pixabay.com/photo/2023/10/11/12/17/gift-8308519_640.png\n",
            "https://cdn.pixabay.com/photo/2016/12/11/22/10/christmas-1900489_640.jpg\n",
            "https://cdn.pixabay.com/photo/2015/03/24/09/16/gift-687263_640.jpg\n",
            "https://cdn.pixabay.com/photo/2016/11/29/04/29/blur-1867322_640.jpg\n",
            "https://cdn.pixabay.com/photo/2017/12/06/14/52/screen-3001951_640.png\n",
            "https://cdn.pixabay.com/photo/2021/11/20/20/06/present-6812689_640.png\n",
            "https://cdn.pixabay.com/photo/2016/09/13/17/32/book-1667826_640.jpg\n",
            "https://cdn.pixabay.com/photo/2014/11/27/22/43/gift-548285_640.jpg\n",
            "https://cdn.pixabay.com/photo/2021/12/16/06/48/christmas-6873868_640.jpg\n",
            "https://cdn.pixabay.com/photo/2016/02/12/15/56/gift-1196292_640.jpg\n",
            "https://cdn.pixabay.com/photo/2014/04/03/11/58/gift-312761_640.png\n",
            "https://cdn.pixabay.com/photo/2014/04/02/16/21/present-307028_640.png\n",
            "https://cdn.pixabay.com/photo/2023/11/14/16/51/ai-generated-8388143_640.png\n",
            "https://cdn.pixabay.com/photo/2019/12/16/15/47/vector-4699584_640.png\n",
            "https://cdn.pixabay.com/photo/2012/04/24/14/00/box-40178_640.png\n",
            "https://cdn.pixabay.com/photo/2013/07/12/13/48/present-147315_640.png\n",
            "https://cdn.pixabay.com/photo/2017/12/05/16/39/christmas-tree-2999722_640.jpg\n",
            "https://cdn.pixabay.com/photo/2013/07/12/15/48/gift-150344_640.png\n",
            "https://cdn.pixabay.com/photo/2022/01/01/22/32/package-6909091_640.jpg\n",
            "https://cdn.pixabay.com/photo/2016/10/22/14/37/gift-1760899_640.jpg\n",
            "https://cdn.pixabay.com/photo/2013/07/12/13/43/present-147168_640.png\n",
            "https://cdn.pixabay.com/photo/2023/11/11/19/58/whisky-8381774_640.jpg\n",
            "https://cdn.pixabay.com/photo/2014/12/16/21/59/gifts-570821_640.jpg\n",
            "https://cdn.pixabay.com/photo/2023/12/21/16/15/christmas-gifts-8462160_640.jpg\n",
            "https://cdn.pixabay.com/photo/2016/03/31/15/25/christmas-1293267_640.png\n",
            "https://cdn.pixabay.com/photo/2013/07/12/17/55/present-152626_640.png\n",
            "https://cdn.pixabay.com/photo/2017/11/04/22/52/gift-2919082_640.png\n",
            "https://cdn.pixabay.com/photo/2014/04/02/17/03/present-307776_640.png\n",
            "https://cdn.pixabay.com/photo/2014/04/02/10/24/gift-303735_640.png\n",
            "https://cdn.pixabay.com/photo/2019/12/11/02/43/gift-4687284_640.jpg\n",
            "https://cdn.pixabay.com/photo/2014/04/02/17/03/present-307775_640.png\n",
            "https://cdn.pixabay.com/photo/2017/11/04/22/10/gift-2918986_640.png\n",
            "https://cdn.pixabay.com/photo/2015/09/29/19/13/isolated-964374_640.png\n",
            "https://cdn.pixabay.com/photo/2013/07/13/13/47/commerce-161529_640.png\n",
            "https://cdn.pixabay.com/photo/2015/09/29/18/59/isolated-964342_640.png\n",
            "https://cdn.pixabay.com/photo/2017/01/17/03/57/desktop-1985856_640.jpg\n",
            "https://cdn.pixabay.com/photo/2021/03/31/07/44/gift-6138808_640.png\n",
            "https://cdn.pixabay.com/photo/2017/08/10/04/43/christmas-2618269_640.jpg\n",
            "https://cdn.pixabay.com/photo/2014/09/13/21/49/gift-444518_640.jpg\n",
            "https://cdn.pixabay.com/photo/2015/12/05/23/08/gift-1078858_640.png\n",
            "https://cdn.pixabay.com/photo/2022/12/22/01/59/gift-7671317_640.jpg\n",
            "https://cdn.pixabay.com/photo/2014/02/11/17/09/gift-264165_640.jpg\n",
            "https://cdn.pixabay.com/photo/2020/12/08/17/15/christmas-5815034_640.jpg\n",
            "https://cdn.pixabay.com/photo/2017/11/09/22/36/gift-2934858_640.jpg\n",
            "https://cdn.pixabay.com/photo/2023/12/01/15/38/christmas-8423928_640.jpg\n",
            "https://cdn.pixabay.com/photo/2023/11/14/16/51/ai-generated-8388144_640.png\n",
            "https://cdn.pixabay.com/photo/2012/04/24/23/25/gifts-41101_640.png\n",
            "https://cdn.pixabay.com/photo/2017/07/21/23/36/map-2527423_640.jpg\n",
            "https://cdn.pixabay.com/photo/2020/07/27/16/55/present-5442902_640.png\n",
            "https://cdn.pixabay.com/photo/2021/12/05/20/09/gifts-6848549_640.png\n",
            "https://cdn.pixabay.com/photo/2016/12/16/15/01/bow-1911560_640.png\n",
            "https://cdn.pixabay.com/photo/2014/04/02/17/08/present-308032_640.png\n",
            "https://cdn.pixabay.com/photo/2014/11/12/07/51/gift-tape-528022_640.jpg\n",
            "https://cdn.pixabay.com/photo/2017/11/26/21/00/christmas-gift-2979922_640.jpg\n",
            "https://cdn.pixabay.com/photo/2023/10/20/11/19/ai-generated-8329267_640.jpg\n",
            "https://cdn.pixabay.com/photo/2021/08/03/03/45/gift-box-6518391_640.png\n",
            "https://cdn.pixabay.com/photo/2017/08/07/17/11/christmas-2605818_640.jpg\n",
            "https://cdn.pixabay.com/photo/2023/11/23/06/35/ai-generated-8407091_640.png\n",
            "https://cdn.pixabay.com/photo/2017/10/20/20/37/gift-boxes-2872745_640.png\n",
            "https://cdn.pixabay.com/photo/2016/12/16/09/53/gift-1910965_640.png\n",
            "https://cdn.pixabay.com/photo/2021/12/01/14/47/gifts-6838181_640.png\n",
            "https://cdn.pixabay.com/photo/2022/09/04/10/18/christmas-7431327_640.png\n",
            "https://cdn.pixabay.com/photo/2016/08/30/16/27/banner-1631301_640.jpg\n",
            "https://cdn.pixabay.com/photo/2017/12/14/02/05/background-3018089_640.jpg\n",
            "https://cdn.pixabay.com/photo/2017/11/04/22/10/gift-2918985_640.png\n",
            "https://cdn.pixabay.com/photo/2018/11/29/21/04/christmas-flat-lay-3846493_640.jpg\n",
            "https://cdn.pixabay.com/photo/2021/11/20/09/41/christmas-gift-6811299_640.jpg\n",
            "https://cdn.pixabay.com/photo/2021/08/27/14/27/christmas-6578796_640.jpg\n",
            "https://cdn.pixabay.com/photo/2017/12/14/23/17/christmas-gift-3019973_640.jpg\n",
            "https://cdn.pixabay.com/photo/2018/11/24/12/29/gifts-3835455_640.jpg\n",
            "https://cdn.pixabay.com/photo/2019/03/25/14/36/present-4080372_640.png\n",
            "https://cdn.pixabay.com/photo/2017/12/26/15/31/box-3040723_640.png\n",
            "https://cdn.pixabay.com/photo/2015/10/27/16/03/gift-tape-1009216_640.png\n",
            "https://cdn.pixabay.com/photo/2017/08/26/04/02/gift-2682132_640.png\n",
            "https://cdn.pixabay.com/photo/2021/11/20/00/55/gifts-6810612_640.png\n",
            "https://cdn.pixabay.com/photo/2017/11/06/15/50/basket-2924001_640.jpg\n",
            "https://cdn.pixabay.com/photo/2016/09/25/14/20/nicholas-1693809_640.jpg\n"
          ]
        }
      ],
      "source": [
        "driver = webdriver.Chrome()\n",
        "crawl_and_save_image('선물', 2)"
      ]
    },
    {
      "cell_type": "code",
      "execution_count": null,
      "id": "473cc203-882c-4f2a-8d2a-838d484d2d8c",
      "metadata": {
        "id": "473cc203-882c-4f2a-8d2a-838d484d2d8c"
      },
      "outputs": [],
      "source": []
    }
  ],
  "metadata": {
    "kernelspec": {
      "display_name": "Python 3 (ipykernel)",
      "language": "python",
      "name": "python3"
    },
    "language_info": {
      "codemirror_mode": {
        "name": "ipython",
        "version": 3
      },
      "file_extension": ".py",
      "mimetype": "text/x-python",
      "name": "python",
      "nbconvert_exporter": "python",
      "pygments_lexer": "ipython3",
      "version": "3.10.11"
    },
    "colab": {
      "provenance": [],
      "include_colab_link": true
    }
  },
  "nbformat": 4,
  "nbformat_minor": 5
}